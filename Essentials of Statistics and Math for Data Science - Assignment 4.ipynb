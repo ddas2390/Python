{
 "cells": [
  {
   "cell_type": "markdown",
   "id": "c1a83a06",
   "metadata": {},
   "source": [
    "## Essentials of Statistics and Math for Data Science - Assignment 4\n",
    "Questions 1: Assume a manufacturer states that their new light bulbs have a lifespan of 1000 hours on average. You want to put this assertion to the test, so you conduct a hypothesis test with a significance threshold of 0.05. You take 25 light bulbs at random and discover that they have an average lifespan of 980 hours with a standard deviation of 50 hours."
   ]
  },
  {
   "cell_type": "code",
   "execution_count": 1,
   "id": "e35581e7",
   "metadata": {},
   "outputs": [],
   "source": [
    "import scipy.stats as stats\n",
    "import numpy as np\n",
    "\n",
    "mean_sample = 980\n",
    "std_sample = 50\n",
    "n = 25\n",
    "mean_population = 1000\n",
    "alpha = 0.05"
   ]
  },
  {
   "cell_type": "code",
   "execution_count": 2,
   "id": "e46be51c",
   "metadata": {},
   "outputs": [],
   "source": [
    "# Calculate the test statistic\n",
    "t_statistic = (mean_sample - mean_population) / (std_sample / np.sqrt(n))"
   ]
  },
  {
   "cell_type": "code",
   "execution_count": 3,
   "id": "451628bb",
   "metadata": {},
   "outputs": [],
   "source": [
    "# Calculate degrees of freedom\n",
    "df = n - 1"
   ]
  },
  {
   "cell_type": "code",
   "execution_count": 4,
   "id": "9e2d693e",
   "metadata": {},
   "outputs": [],
   "source": [
    "# Calculate the critical t-value for a two-tailed test\n",
    "t_critical = stats.t.ppf(1 - alpha / 2, df)"
   ]
  },
  {
   "cell_type": "code",
   "execution_count": 5,
   "id": "ef84e418",
   "metadata": {},
   "outputs": [],
   "source": [
    "# Calculate the p-value\n",
    "p_value = 2 * (1 - stats.t.cdf(np.abs(t_statistic), df))"
   ]
  },
  {
   "cell_type": "code",
   "execution_count": 6,
   "id": "34ab4ce6",
   "metadata": {},
   "outputs": [
    {
     "data": {
      "text/plain": [
       "(-2.0, 2.0638985616280205, 0.056939849936591624)"
      ]
     },
     "execution_count": 6,
     "metadata": {},
     "output_type": "execute_result"
    }
   ],
   "source": [
    "t_statistic, t_critical, p_value"
   ]
  },
  {
   "cell_type": "markdown",
   "id": "3e659e19",
   "metadata": {},
   "source": [
    "Test Statistic (t): -2.00 (calculated value)\n",
    "Critical t-Value (t₀.₀₅): ±2.064 (for df = 24)\n",
    "P-Value: 0.057\n",
    "\n",
    "Conclusion:\n",
    "\n",
    "Since the absolute value of the test statistic -2.0 is less than the critical value 2.064 or since the p-value 0.057 is greater than 0.05, we do not reject the null hypothesis.\n",
    "Based on the analysis, the data does not provide sufficient evidence to conclude that the average lifespan of the light bulbs is different from 1000 hours. The manufacturer's claim that their light bulbs have an average lifespan of 1000 hours remains acceptable based on this test.\n"
   ]
  },
  {
   "cell_type": "markdown",
   "id": "62904dbf",
   "metadata": {},
   "source": [
    "#### Questions 2: Two different product categories, A and B, are produced by a company and sold to clients in a 3:2 ratio each. For type A, there is a 0.05 defect probability while for type B, there is a 0.08 defect probability. What is the chance that a product of type B is defective if a consumer complains about it?"
   ]
  },
  {
   "cell_type": "code",
   "execution_count": 9,
   "id": "13b5c4ee",
   "metadata": {},
   "outputs": [],
   "source": [
    "from sympy import Rational\n",
    "\n",
    "# Given data\n",
    "P_A = Rational(3, 5)  # Probability of product being type A\n",
    "P_B = Rational(2, 5)  # Probability of product being type B\n",
    "P_D_given_A = 0.05    # Probability of defect given type A\n",
    "P_D_given_B = 0.08    # Probability of defect given type B"
   ]
  },
  {
   "cell_type": "code",
   "execution_count": 10,
   "id": "d3c6f9be",
   "metadata": {},
   "outputs": [],
   "source": [
    "# Calculate the total probability of defect P(D)\n",
    "P_D = (P_D_given_A * P_A) + (P_D_given_B * P_B)"
   ]
  },
  {
   "cell_type": "code",
   "execution_count": 11,
   "id": "9035ffb8",
   "metadata": {},
   "outputs": [],
   "source": [
    "# Calculate the probability that a defective product is of type B P(B|D)\n",
    "P_B_given_D = (P_D_given_B * P_B) / P_D"
   ]
  },
  {
   "cell_type": "code",
   "execution_count": 12,
   "id": "c1ac6812",
   "metadata": {},
   "outputs": [
    {
     "data": {
      "text/latex": [
       "$\\displaystyle 0.516129032258065$"
      ],
      "text/plain": [
       "0.516129032258065"
      ]
     },
     "execution_count": 12,
     "metadata": {},
     "output_type": "execute_result"
    }
   ],
   "source": [
    "# Output the result\n",
    "P_B_given_D.evalf()  # Evaluate to a floating-point number"
   ]
  },
  {
   "cell_type": "markdown",
   "id": "3d108448",
   "metadata": {},
   "source": [
    "Thus, there is a 51.6% chance that a product of type B is defective if a consumer complains about it."
   ]
  },
  {
   "cell_type": "markdown",
   "id": "d8d9a27e",
   "metadata": {},
   "source": [
    "#### Questions 3: A company employs ten people, four of whom are managers and six of whom are non-managers. The company will choose three employees at random to participate in a training programmed. What is the likelihood that exactly two of the chosen employees are managers?"
   ]
  },
  {
   "cell_type": "code",
   "execution_count": 14,
   "id": "4ddf8388",
   "metadata": {},
   "outputs": [],
   "source": [
    "from math import comb\n",
    "\n",
    "total_employees = 10\n",
    "managers = 4\n",
    "non_managers = 6\n",
    "\n",
    "employees_chosen = 3"
   ]
  },
  {
   "cell_type": "code",
   "execution_count": 15,
   "id": "4b6a3622",
   "metadata": {},
   "outputs": [],
   "source": [
    "# Number of ways to choose 3 employees from 10\n",
    "total_ways = comb(total_employees, employees_chosen)"
   ]
  },
  {
   "cell_type": "code",
   "execution_count": 16,
   "id": "0302311f",
   "metadata": {},
   "outputs": [],
   "source": [
    "# Number of ways to choose 2 managers from 4\n",
    "ways_to_choose_managers = comb(managers, 2)"
   ]
  },
  {
   "cell_type": "code",
   "execution_count": 17,
   "id": "f81d6a23",
   "metadata": {},
   "outputs": [],
   "source": [
    "# Number of ways to choose 1 non-manager from 6\n",
    "ways_to_choose_non_managers = comb(non_managers, 1)"
   ]
  },
  {
   "cell_type": "code",
   "execution_count": 18,
   "id": "8e4b2139",
   "metadata": {},
   "outputs": [],
   "source": [
    "# Number of favorable outcomes\n",
    "favorable_ways = ways_to_choose_managers * ways_to_choose_non_managers"
   ]
  },
  {
   "cell_type": "code",
   "execution_count": 19,
   "id": "870d4806",
   "metadata": {},
   "outputs": [
    {
     "data": {
      "text/plain": [
       "0.3"
      ]
     },
     "execution_count": 19,
     "metadata": {},
     "output_type": "execute_result"
    }
   ],
   "source": [
    "# Calculate the probability\n",
    "probability = favorable_ways / total_ways\n",
    "\n",
    "probability"
   ]
  },
  {
   "cell_type": "markdown",
   "id": "dd9fce71",
   "metadata": {},
   "source": [
    "Thus there is a 30% likelihood that exactly two of the chosen employees are managers."
   ]
  },
  {
   "cell_type": "markdown",
   "id": "2ba3646e",
   "metadata": {},
   "source": [
    "#### Questions 4: Suppose a researcher wishes to see if the variances of two populations, A and B, are the same. Population A is sampled with 20 observations, whereas population B is sampled with 25 observations. The variances of the samples are 12 and 16, respectively. Assuming that the populations are regularly distributed, test the hypothesis at a significance level of 5%."
   ]
  },
  {
   "cell_type": "markdown",
   "id": "c987c808",
   "metadata": {},
   "source": [
    "To test whether the variances of two populations are the same, we can use the F-test for equality of variances. \n",
    "\n",
    "Null Hypothesis: The variances of the two populations are equal.\n",
    "\n",
    "Alternative Hypothesis: The variances of the two populations are not equal."
   ]
  },
  {
   "cell_type": "code",
   "execution_count": 20,
   "id": "65a93f3a",
   "metadata": {},
   "outputs": [],
   "source": [
    "from scipy.stats import f\n",
    "\n",
    "n_A = 20\n",
    "n_B = 25\n",
    "s_A2 = 12\n",
    "s_B2 = 16\n",
    "alpha = 0.05"
   ]
  },
  {
   "cell_type": "code",
   "execution_count": 21,
   "id": "3d59d43f",
   "metadata": {},
   "outputs": [],
   "source": [
    "# Calculate the F statistic\n",
    "F = s_A2 / s_B2"
   ]
  },
  {
   "cell_type": "code",
   "execution_count": 22,
   "id": "eaab3b88",
   "metadata": {},
   "outputs": [],
   "source": [
    "# Degrees of freedom\n",
    "df1 = n_A - 1\n",
    "df2 = n_B - 1"
   ]
  },
  {
   "cell_type": "code",
   "execution_count": 23,
   "id": "11cea765",
   "metadata": {},
   "outputs": [],
   "source": [
    "# Calculate the critical value for a two-tailed test\n",
    "critical_value = f.ppf(1 - alpha / 2, df1, df2)"
   ]
  },
  {
   "cell_type": "code",
   "execution_count": 24,
   "id": "0e0bf2f1",
   "metadata": {},
   "outputs": [
    {
     "data": {
      "text/plain": [
       "(0.75, 2.3451537596631566)"
      ]
     },
     "execution_count": 24,
     "metadata": {},
     "output_type": "execute_result"
    }
   ],
   "source": [
    "# Print results\n",
    "F, critical_value"
   ]
  },
  {
   "cell_type": "markdown",
   "id": "31a7901d",
   "metadata": {},
   "source": [
    "Since F is 0.75 which is less than the critical value 2.3, hence we fail to reject the null hypothesis.\n",
    "\n",
    "Thus the variances of the two populations are equal.\n"
   ]
  },
  {
   "cell_type": "markdown",
   "id": "601da188",
   "metadata": {},
   "source": [
    "#### Questions 5: A university is conducting a study to determine if there is a relationship between students' study hours and their exam scores. The following data represents the study hours (in hours per week) and the corresponding exam scores (out of 100) for ten students:\n",
    "\n",
    "Study Hours: 12, 15, 22, 10, 8, 16, 18, 17, 9, 13\n",
    "Exam Scores: 58, 72, 80, 65, 55, 70, 80, 71, 66, 62\n",
    "Calculate the coefficient of correlation between study hours and exam scores. Based on the correlation coefficient, can we conclude that study hours have a significant impact on exam scores?\n",
    "Find the probable error as well."
   ]
  },
  {
   "cell_type": "code",
   "execution_count": 26,
   "id": "0ece529b",
   "metadata": {},
   "outputs": [],
   "source": [
    "import numpy as np\n",
    "from scipy.stats import pearsonr\n",
    "\n",
    "study_hours = np.array([12, 15, 22, 10, 8, 16, 18, 17, 9, 13])\n",
    "exam_scores = np.array([58, 72, 80, 65, 55, 70, 80, 71, 66, 62])"
   ]
  },
  {
   "cell_type": "code",
   "execution_count": 27,
   "id": "865cc1db",
   "metadata": {},
   "outputs": [],
   "source": [
    "# Calculate Pearson correlation coefficient\n",
    "correlation_coefficient, _ = pearsonr(study_hours, exam_scores)"
   ]
  },
  {
   "cell_type": "code",
   "execution_count": 28,
   "id": "e082490f",
   "metadata": {},
   "outputs": [],
   "source": [
    "# Number of data points\n",
    "n = len(study_hours)"
   ]
  },
  {
   "cell_type": "code",
   "execution_count": 29,
   "id": "33793668",
   "metadata": {},
   "outputs": [],
   "source": [
    "# Calculate Probable Error\n",
    "probable_error = (0.6745 * np.sqrt(1 - correlation_coefficient**2)) / np.sqrt(n)"
   ]
  },
  {
   "cell_type": "code",
   "execution_count": 30,
   "id": "72740230",
   "metadata": {},
   "outputs": [
    {
     "data": {
      "text/plain": [
       "(0.8585644446883827, 0.10935787592865016)"
      ]
     },
     "execution_count": 30,
     "metadata": {},
     "output_type": "execute_result"
    }
   ],
   "source": [
    "# Print results\n",
    "correlation_coefficient, probable_error"
   ]
  },
  {
   "cell_type": "markdown",
   "id": "42b696bc",
   "metadata": {},
   "source": [
    "Based on the high correlation coefficient and relatively low probable error, we can conclude that there is a significant positive relationship between study hours and exam scores. This suggests that, generally, students who study more hours tend to have higher exam scores. The low probable error reinforces the reliability of this correlation, making the observed relationship between study hours and exam scores statistically significant."
   ]
  },
  {
   "cell_type": "code",
   "execution_count": null,
   "id": "cc965497",
   "metadata": {},
   "outputs": [],
   "source": []
  }
 ],
 "metadata": {
  "kernelspec": {
   "display_name": "Python 3 (ipykernel)",
   "language": "python",
   "name": "python3"
  },
  "language_info": {
   "codemirror_mode": {
    "name": "ipython",
    "version": 3
   },
   "file_extension": ".py",
   "mimetype": "text/x-python",
   "name": "python",
   "nbconvert_exporter": "python",
   "pygments_lexer": "ipython3",
   "version": "3.10.9"
  }
 },
 "nbformat": 4,
 "nbformat_minor": 5
}
