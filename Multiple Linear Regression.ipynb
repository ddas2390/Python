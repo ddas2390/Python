{
 "cells": [
  {
   "cell_type": "code",
   "execution_count": 12,
   "id": "ffea72e3",
   "metadata": {},
   "outputs": [],
   "source": [
    "import pandas as pd\n",
    "import numpy as np\n",
    "import statsmodels.api as sm\n",
    "import matplotlib.pyplot as plt"
   ]
  },
  {
   "cell_type": "code",
   "execution_count": 13,
   "id": "06c3fbdf",
   "metadata": {},
   "outputs": [],
   "source": [
    "np.random.seed(123)\n",
    "nsample = 20\n",
    "x1 = np.linspace(0, 20, nsample)\n",
    "x2 = np.sqrt(x1)\n",
    "X = np.column_stack((x1, x2))"
   ]
  },
  {
   "cell_type": "code",
   "execution_count": 14,
   "id": "988e6654",
   "metadata": {},
   "outputs": [],
   "source": [
    "X = sm.add_constant(X)"
   ]
  },
  {
   "cell_type": "code",
   "execution_count": 15,
   "id": "5eb3467c",
   "metadata": {},
   "outputs": [],
   "source": [
    "#b0 b1 b2 coeff\n",
    "beta = [2, 0.5, 10]\n",
    "\n",
    "# random error\n",
    "e = np.random.normal(size=nsample)\n",
    "\n",
    "#linear equation\n",
    "y = np.dot(X, beta) + e"
   ]
  },
  {
   "cell_type": "code",
   "execution_count": 16,
   "id": "b202166e",
   "metadata": {},
   "outputs": [
    {
     "data": {
      "text/html": [
       "<div>\n",
       "<style scoped>\n",
       "    .dataframe tbody tr th:only-of-type {\n",
       "        vertical-align: middle;\n",
       "    }\n",
       "\n",
       "    .dataframe tbody tr th {\n",
       "        vertical-align: top;\n",
       "    }\n",
       "\n",
       "    .dataframe thead th {\n",
       "        text-align: right;\n",
       "    }\n",
       "</style>\n",
       "<table border=\"1\" class=\"dataframe\">\n",
       "  <thead>\n",
       "    <tr style=\"text-align: right;\">\n",
       "      <th></th>\n",
       "      <th>y</th>\n",
       "      <th>x1</th>\n",
       "      <th>x2</th>\n",
       "    </tr>\n",
       "  </thead>\n",
       "  <tbody>\n",
       "    <tr>\n",
       "      <th>0</th>\n",
       "      <td>0.914369</td>\n",
       "      <td>0.000000</td>\n",
       "      <td>0.000000</td>\n",
       "    </tr>\n",
       "    <tr>\n",
       "      <th>1</th>\n",
       "      <td>13.783445</td>\n",
       "      <td>1.052632</td>\n",
       "      <td>1.025978</td>\n",
       "    </tr>\n",
       "    <tr>\n",
       "      <th>2</th>\n",
       "      <td>17.845135</td>\n",
       "      <td>2.105263</td>\n",
       "      <td>1.450953</td>\n",
       "    </tr>\n",
       "    <tr>\n",
       "      <th>3</th>\n",
       "      <td>19.843119</td>\n",
       "      <td>3.157895</td>\n",
       "      <td>1.777047</td>\n",
       "    </tr>\n",
       "    <tr>\n",
       "      <th>4</th>\n",
       "      <td>24.046230</td>\n",
       "      <td>4.210526</td>\n",
       "      <td>2.051957</td>\n",
       "    </tr>\n",
       "  </tbody>\n",
       "</table>\n",
       "</div>"
      ],
      "text/plain": [
       "           y        x1        x2\n",
       "0   0.914369  0.000000  0.000000\n",
       "1  13.783445  1.052632  1.025978\n",
       "2  17.845135  2.105263  1.450953\n",
       "3  19.843119  3.157895  1.777047\n",
       "4  24.046230  4.210526  2.051957"
      ]
     },
     "execution_count": 16,
     "metadata": {},
     "output_type": "execute_result"
    }
   ],
   "source": [
    "sample_df = pd.DataFrame({\"y\":y, \"x1\":x1, \"x2\":x2})\n",
    "sample_df.head()"
   ]
  },
  {
   "cell_type": "code",
   "execution_count": 26,
   "id": "a0ad0c2d",
   "metadata": {},
   "outputs": [
    {
     "data": {
      "text/plain": [
       "<Figure size 640x480 with 0 Axes>"
      ]
     },
     "metadata": {},
     "output_type": "display_data"
    }
   ],
   "source": [
    "from mpl_toolkits.mplot3d import Axes3D\n",
    "fig = plt.figure()\n",
    "ax = Axes3D(fig)\n",
    "ax.scatter3D(sample_df[\"y\"], sample_df[\"x1\"], sample_df[\"x2\"],)\n",
    "plt.show()"
   ]
  },
  {
   "cell_type": "code",
   "execution_count": 27,
   "id": "53f5aa00",
   "metadata": {},
   "outputs": [
    {
     "name": "stdout",
     "output_type": "stream",
     "text": [
      "                            OLS Regression Results                            \n",
      "==============================================================================\n",
      "Dep. Variable:                      y   R-squared:                       0.994\n",
      "Model:                            OLS   Adj. R-squared:                  0.994\n",
      "Method:                 Least Squares   F-statistic:                     1530.\n",
      "Date:                Thu, 18 Jul 2024   Prob (F-statistic):           6.45e-20\n",
      "Time:                        16:39:26   Log-Likelihood:                -30.842\n",
      "No. Observations:                  20   AIC:                             67.68\n",
      "Df Residuals:                      17   BIC:                             70.67\n",
      "Df Model:                           2                                         \n",
      "Covariance Type:            nonrobust                                         \n",
      "==============================================================================\n",
      "                 coef    std err          t      P>|t|      [0.025      0.975]\n",
      "------------------------------------------------------------------------------\n",
      "const          1.7387      1.081      1.609      0.126      -0.541       4.019\n",
      "x1             0.6431      0.173      3.713      0.002       0.278       1.008\n",
      "x2             9.6404      0.891     10.819      0.000       7.760      11.520\n",
      "==============================================================================\n",
      "Omnibus:                        1.924   Durbin-Watson:                   2.310\n",
      "Prob(Omnibus):                  0.382   Jarque-Bera (JB):                1.108\n",
      "Skew:                           0.217   Prob(JB):                        0.575\n",
      "Kurtosis:                       1.932   Cond. No.                         60.4\n",
      "==============================================================================\n",
      "\n",
      "Notes:\n",
      "[1] Standard Errors assume that the covariance matrix of the errors is correctly specified.\n"
     ]
    }
   ],
   "source": [
    "res = sm.OLS(y, X).fit()\n",
    "print(res.summary())"
   ]
  },
  {
   "cell_type": "code",
   "execution_count": 28,
   "id": "236c6c2b",
   "metadata": {},
   "outputs": [
    {
     "data": {
      "text/plain": [
       "array([1.73872906, 0.64307073, 9.6404141 ])"
      ]
     },
     "execution_count": 28,
     "metadata": {},
     "output_type": "execute_result"
    }
   ],
   "source": [
    "res.params"
   ]
  },
  {
   "cell_type": "markdown",
   "id": "472d06f2",
   "metadata": {},
   "source": [
    "# OLS for Non-Linear Curve but Linear in Parameters"
   ]
  },
  {
   "cell_type": "code",
   "execution_count": 35,
   "id": "486b8a03",
   "metadata": {},
   "outputs": [],
   "source": [
    "np.random.seed(123)\n",
    "nsample = 20\n",
    "x1 = np.linspace(1, 20, nsample)\n",
    "x2 = x1**2\n",
    "x3 = x1**3\n",
    "\n",
    "X = np.column_stack((x1, x2, x3))\n",
    "X = sm.add_constant(X)\n",
    "\n",
    "beta = [5, 0.5, 0.5, -0.02]\n",
    "e = np.random.normal(size=nsample)\n",
    "\n",
    "y = np.dot(X, beta) + e"
   ]
  },
  {
   "cell_type": "code",
   "execution_count": 36,
   "id": "820e7f79",
   "metadata": {},
   "outputs": [
    {
     "data": {
      "text/plain": [
       "<matplotlib.collections.PathCollection at 0x7f976c7ab760>"
      ]
     },
     "execution_count": 36,
     "metadata": {},
     "output_type": "execute_result"
    },
    {
     "data": {
      "image/png": "[encoded data removed]",
      "text/plain": [
       "<Figure size 640x480 with 1 Axes>"
      ]
     },
     "metadata": {},
     "output_type": "display_data"
    }
   ],
   "source": [
    "plt.scatter(x1, y)"
   ]
  },
  {
   "cell_type": "code",
   "execution_count": 37,
   "id": "abdf6bdc",
   "metadata": {},
   "outputs": [
    {
     "name": "stdout",
     "output_type": "stream",
     "text": [
      "                            OLS Regression Results                            \n",
      "==============================================================================\n",
      "Dep. Variable:                      y   R-squared:                       0.997\n",
      "Model:                            OLS   Adj. R-squared:                  0.996\n",
      "Method:                 Least Squares   F-statistic:                     1633.\n",
      "Date:                Thu, 18 Jul 2024   Prob (F-statistic):           4.20e-20\n",
      "Time:                        16:45:13   Log-Likelihood:                -30.485\n",
      "No. Observations:                  20   AIC:                             68.97\n",
      "Df Residuals:                      16   BIC:                             72.95\n",
      "Df Model:                           3                                         \n",
      "Covariance Type:            nonrobust                                         \n",
      "==============================================================================\n",
      "                 coef    std err          t      P>|t|      [0.025      0.975]\n",
      "------------------------------------------------------------------------------\n",
      "const          5.0487      1.357      3.721      0.002       2.172       7.925\n",
      "x1             0.3316      0.546      0.607      0.552      -0.826       1.489\n",
      "x2             0.5174      0.060      8.675      0.000       0.391       0.644\n",
      "x3            -0.0203      0.002    -10.856      0.000      -0.024      -0.016\n",
      "==============================================================================\n",
      "Omnibus:                        1.873   Durbin-Watson:                   2.368\n",
      "Prob(Omnibus):                  0.392   Jarque-Bera (JB):                1.152\n",
      "Skew:                           0.274   Prob(JB):                        0.562\n",
      "Kurtosis:                       1.960   Cond. No.                     1.72e+04\n",
      "==============================================================================\n",
      "\n",
      "Notes:\n",
      "[1] Standard Errors assume that the covariance matrix of the errors is correctly specified.\n",
      "[2] The condition number is large, 1.72e+04. This might indicate that there are\n",
      "strong multicollinearity or other numerical problems.\n"
     ]
    }
   ],
   "source": [
    "res = sm.OLS(y, X).fit()\n",
    "print(res.summary())"
   ]
  },
  {
   "cell_type": "code",
   "execution_count": 38,
   "id": "4edcc757",
   "metadata": {},
   "outputs": [
    {
     "data": {
      "text/plain": [
       "array([ 5.04867422,  0.33157831,  0.51741327, -0.02030142])"
      ]
     },
     "execution_count": 38,
     "metadata": {},
     "output_type": "execute_result"
    }
   ],
   "source": [
    "res.params"
   ]
  },
  {
   "cell_type": "code",
   "execution_count": 45,
   "id": "4ab9fb8b",
   "metadata": {},
   "outputs": [
    {
     "data": {
      "image/png": "[encoded data removed]",
      "text/plain": [
       "<Figure size 800x600 with 1 Axes>"
      ]
     },
     "metadata": {},
     "output_type": "display_data"
    }
   ],
   "source": [
    "pred_ols = res.get_prediction()\n",
    "\n",
    "# Extract confidence intervals\n",
    "summary_frame = pred_ols.summary_frame()\n",
    "iv_l = summary_frame[\"obs_ci_lower\"]\n",
    "iv_u = summary_frame[\"obs_ci_upper\"]\n",
    "\n",
    "fig, ax = plt.subplots(figsize=(8, 6))\n",
    "\n",
    "ax.plot(x1, y, 'o', label=\"data\")\n",
    "\n",
    "ax.plot(x1, res.fittedvalues, 'r--.', label=\"OLS\")\n",
    "\n",
    "ax.plot(x1, iv_u, 'r--')\n",
    "ax.plot(x1, iv_l, 'r--')\n",
    "\n",
    "ax.legend(loc='best')\n",
    "plt.show()"
   ]
  },
  {
   "cell_type": "code",
   "execution_count": null,
   "id": "12414f36",
   "metadata": {},
   "outputs": [],
   "source": []
  }
 ],
 "metadata": {
  "kernelspec": {
   "display_name": "Python 3 (ipykernel)",
   "language": "python",
   "name": "python3"
  },
  "language_info": {
   "codemirror_mode": {
    "name": "ipython",
    "version": 3
   },
   "file_extension": ".py",
   "mimetype": "text/x-python",
   "name": "python",
   "nbconvert_exporter": "python",
   "pygments_lexer": "ipython3",
   "version": "3.10.9"
  }
 },
 "nbformat": 4,
 "nbformat_minor": 5
}
