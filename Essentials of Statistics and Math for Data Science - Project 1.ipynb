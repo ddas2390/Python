{
 "cells": [
  {
   "cell_type": "markdown",
   "id": "5df6eace",
   "metadata": {},
   "source": [
    "Frank’s Supervisor, Dr. Brown, holds expertise in both mathematical statistics and medical science. He assigned Frank the task of estimating the average reimbursement amount for dental claims in 2021. Due to Healthy Life's extensive client base, calculating the population mean directly is impractical. To tackle this challenge, Frank utilized the Excel Random Number Generator function to obtain a random sample of 49 dental claims from Healthy Life's records. The data provided in the Major Data file section represents the insurance coverage amounts for these selected claims. Please help Frank to construct 90%, 95%, and 99% confidence intervals for the true average reimbursement. Make sure that t-distribution is applicable: build a histogram with the given bin values and check whether it is approximately symmetric and bell-shaped. Then, use Descriptive Statistics function from Data Analysis. Constructing confidence intervals, please round values to at least two decimal places."
   ]
  },
  {
   "cell_type": "code",
   "execution_count": 41,
   "id": "52d2405e",
   "metadata": {},
   "outputs": [],
   "source": [
    "import pandas as pd\n",
    "import numpy as np\n",
    "import matplotlib.pyplot as plt\n",
    "from scipy import stats\n",
    "from scipy.stats import t"
   ]
  },
  {
   "cell_type": "code",
   "execution_count": null,
   "id": "0b9b3727",
   "metadata": {},
   "outputs": [],
   "source": [
    "# df = pd.read_excel('/Users/mymac/Documents/Data Science Bootcamp/Week 8 - Stats Hypothesis Testing etc/Essentials of Statistics and Math for Data Science - Project 1/Major Data File.xlsx')"
   ]
  },
  {
   "cell_type": "code",
   "execution_count": 16,
   "id": "49ffe1a3",
   "metadata": {},
   "outputs": [],
   "source": [
    "df = pd.read_excel('/Users/mymac/Documents/Data Science Bootcamp/Week 8 - Stats Hypothesis Testing etc/Essentials of Statistics and Math for Data Science - Project 1/Major Data File.xlsx', skiprows=2)"
   ]
  },
  {
   "cell_type": "code",
   "execution_count": 18,
   "id": "6d4af6b3",
   "metadata": {},
   "outputs": [
    {
     "data": {
      "text/html": [
       "<div>\n",
       "<style scoped>\n",
       "    .dataframe tbody tr th:only-of-type {\n",
       "        vertical-align: middle;\n",
       "    }\n",
       "\n",
       "    .dataframe tbody tr th {\n",
       "        vertical-align: top;\n",
       "    }\n",
       "\n",
       "    .dataframe thead th {\n",
       "        text-align: right;\n",
       "    }\n",
       "</style>\n",
       "<table border=\"1\" class=\"dataframe\">\n",
       "  <thead>\n",
       "    <tr style=\"text-align: right;\">\n",
       "      <th></th>\n",
       "      <th>Unnamed: 0</th>\n",
       "      <th>Dental Claim Number</th>\n",
       "      <th>Amount Covered</th>\n",
       "    </tr>\n",
       "  </thead>\n",
       "  <tbody>\n",
       "    <tr>\n",
       "      <th>0</th>\n",
       "      <td>NaN</td>\n",
       "      <td>1</td>\n",
       "      <td>375.50</td>\n",
       "    </tr>\n",
       "    <tr>\n",
       "      <th>1</th>\n",
       "      <td>NaN</td>\n",
       "      <td>2</td>\n",
       "      <td>380.00</td>\n",
       "    </tr>\n",
       "    <tr>\n",
       "      <th>2</th>\n",
       "      <td>NaN</td>\n",
       "      <td>3</td>\n",
       "      <td>192.75</td>\n",
       "    </tr>\n",
       "    <tr>\n",
       "      <th>3</th>\n",
       "      <td>NaN</td>\n",
       "      <td>4</td>\n",
       "      <td>400.00</td>\n",
       "    </tr>\n",
       "    <tr>\n",
       "      <th>4</th>\n",
       "      <td>NaN</td>\n",
       "      <td>5</td>\n",
       "      <td>230.00</td>\n",
       "    </tr>\n",
       "  </tbody>\n",
       "</table>\n",
       "</div>"
      ],
      "text/plain": [
       "   Unnamed: 0  Dental Claim Number  Amount Covered\n",
       "0         NaN                    1          375.50\n",
       "1         NaN                    2          380.00\n",
       "2         NaN                    3          192.75\n",
       "3         NaN                    4          400.00\n",
       "4         NaN                    5          230.00"
      ]
     },
     "execution_count": 18,
     "metadata": {},
     "output_type": "execute_result"
    }
   ],
   "source": [
    "df.head()"
   ]
  },
  {
   "cell_type": "code",
   "execution_count": 22,
   "id": "43aecec1",
   "metadata": {},
   "outputs": [],
   "source": [
    "df.drop(columns=df.columns[0], inplace=True)"
   ]
  },
  {
   "cell_type": "code",
   "execution_count": 24,
   "id": "39160807",
   "metadata": {},
   "outputs": [
    {
     "data": {
      "text/html": [
       "<div>\n",
       "<style scoped>\n",
       "    .dataframe tbody tr th:only-of-type {\n",
       "        vertical-align: middle;\n",
       "    }\n",
       "\n",
       "    .dataframe tbody tr th {\n",
       "        vertical-align: top;\n",
       "    }\n",
       "\n",
       "    .dataframe thead th {\n",
       "        text-align: right;\n",
       "    }\n",
       "</style>\n",
       "<table border=\"1\" class=\"dataframe\">\n",
       "  <thead>\n",
       "    <tr style=\"text-align: right;\">\n",
       "      <th></th>\n",
       "      <th>Dental Claim Number</th>\n",
       "      <th>Amount Covered</th>\n",
       "    </tr>\n",
       "  </thead>\n",
       "  <tbody>\n",
       "    <tr>\n",
       "      <th>0</th>\n",
       "      <td>1</td>\n",
       "      <td>375.50</td>\n",
       "    </tr>\n",
       "    <tr>\n",
       "      <th>1</th>\n",
       "      <td>2</td>\n",
       "      <td>380.00</td>\n",
       "    </tr>\n",
       "    <tr>\n",
       "      <th>2</th>\n",
       "      <td>3</td>\n",
       "      <td>192.75</td>\n",
       "    </tr>\n",
       "    <tr>\n",
       "      <th>3</th>\n",
       "      <td>4</td>\n",
       "      <td>400.00</td>\n",
       "    </tr>\n",
       "    <tr>\n",
       "      <th>4</th>\n",
       "      <td>5</td>\n",
       "      <td>230.00</td>\n",
       "    </tr>\n",
       "  </tbody>\n",
       "</table>\n",
       "</div>"
      ],
      "text/plain": [
       "   Dental Claim Number  Amount Covered\n",
       "0                    1          375.50\n",
       "1                    2          380.00\n",
       "2                    3          192.75\n",
       "3                    4          400.00\n",
       "4                    5          230.00"
      ]
     },
     "execution_count": 24,
     "metadata": {},
     "output_type": "execute_result"
    }
   ],
   "source": [
    "df.head()"
   ]
  },
  {
   "cell_type": "code",
   "execution_count": 35,
   "id": "7f2d6f79",
   "metadata": {},
   "outputs": [
    {
     "name": "stdout",
     "output_type": "stream",
     "text": [
      "Mean: 283.54\n"
     ]
    }
   ],
   "source": [
    "mean = df['Amount Covered'].mean()\n",
    "print(f\"Mean: {mean:.2f}\")"
   ]
  },
  {
   "cell_type": "code",
   "execution_count": 36,
   "id": "a8b44830",
   "metadata": {},
   "outputs": [
    {
     "name": "stdout",
     "output_type": "stream",
     "text": [
      "Standard Deviation: 128.83\n"
     ]
    }
   ],
   "source": [
    "std = np.round(df['Amount Covered'].std(), 2)\n",
    "print(f\"Standard Deviation: {std:.2f}\")"
   ]
  },
  {
   "cell_type": "code",
   "execution_count": 31,
   "id": "58033a4a",
   "metadata": {},
   "outputs": [
    {
     "data": {
      "text/plain": [
       "49"
      ]
     },
     "execution_count": 31,
     "metadata": {},
     "output_type": "execute_result"
    }
   ],
   "source": [
    "# Number of samples\n",
    "n = len(df)\n",
    "n"
   ]
  },
  {
   "cell_type": "code",
   "execution_count": 32,
   "id": "9000ef19",
   "metadata": {},
   "outputs": [
    {
     "data": {
      "text/plain": [
       "48"
      ]
     },
     "execution_count": 32,
     "metadata": {},
     "output_type": "execute_result"
    }
   ],
   "source": [
    "# Degree of freedom = n-1\n",
    "d_f = n - 1\n",
    "d_f"
   ]
  },
  {
   "cell_type": "code",
   "execution_count": 47,
   "id": "18c64c2e",
   "metadata": {},
   "outputs": [
    {
     "name": "stdout",
     "output_type": "stream",
     "text": [
      "90.0% Confidence Interval: 252.67, 314.41\n",
      "95.0% Confidence Interval: 246.54, 320.55\n",
      "99.0% Confidence Interval: 234.18, 332.9\n"
     ]
    }
   ],
   "source": [
    "# Confidence Interval\n",
    "confidence_levels = [0.90, 0.95, 0.99]\n",
    "confidence_interval = []\n",
    "\n",
    "for confidence_level in confidence_levels:\n",
    "    t_critical = t.ppf(confidence_level + (1 - confidence_level)/2, df=d_f)\n",
    "    margin_of_error = t_critical * std / (n ** 0.5)\n",
    "    # Calculate confidence interval\n",
    "    lower_bound = mean - margin_of_error\n",
    "    upper_bound = mean + margin_of_error\n",
    "    \n",
    "    lower_bound = round(lower_bound, 2)\n",
    "    upper_bound = round(upper_bound, 2)\n",
    "    \n",
    "    confidence_interval.append((confidence_level, lower_bound, upper_bound))\n",
    "    print(f\"{confidence_level * 100}% Confidence Interval: {lower_bound}, {upper_bound}\")"
   ]
  },
  {
   "cell_type": "code",
   "execution_count": 64,
   "id": "7640e5b0",
   "metadata": {},
   "outputs": [
    {
     "data": {
      "image/png": "[encoded data removed]",
      "text/plain": [
       "<Figure size 640x480 with 1 Axes>"
      ]
     },
     "metadata": {},
     "output_type": "display_data"
    }
   ],
   "source": [
    "# build a histogram with the given bin values and check whether it is approximately symmetric and bell-shaped.\n",
    "plt.hist(df['Amount Covered'], bins='auto', color='blue', alpha=0.7, rwidth=0.85)\n",
    "plt.title(\"Histogram\")\n",
    "plt.xlabel('Amount Covered')\n",
    "plt.ylabel('Frequencies')\n",
    "\n",
    "plt.axvline(mean, color='red', linestyle='dashed', linewidth=1)\n",
    "plt.text(mean+10, 12, f'Mean: {mean: .2f}', rotation=90, verticalalignment='center')\n",
    "\n",
    "plt.show()"
   ]
  },
  {
   "cell_type": "code",
   "execution_count": null,
   "id": "a9cf6d69",
   "metadata": {},
   "outputs": [],
   "source": []
  }
 ],
 "metadata": {
  "kernelspec": {
   "display_name": "Python 3 (ipykernel)",
   "language": "python",
   "name": "python3"
  },
  "language_info": {
   "codemirror_mode": {
    "name": "ipython",
    "version": 3
   },
   "file_extension": ".py",
   "mimetype": "text/x-python",
   "name": "python",
   "nbconvert_exporter": "python",
   "pygments_lexer": "ipython3",
   "version": "3.10.9"
  }
 },
 "nbformat": 4,
 "nbformat_minor": 5
}
