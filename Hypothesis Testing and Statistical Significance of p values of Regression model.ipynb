{
 "cells": [
  {
   "cell_type": "code",
   "execution_count": 1,
   "id": "461b8c37",
   "metadata": {},
   "outputs": [],
   "source": [
    "import pandas as pd\n",
    "import numpy as np\n",
    "import statsmodels.api as sm\n",
    "import matplotlib.pyplot as plt\n",
    "np.random.seed(123)"
   ]
  },
  {
   "cell_type": "code",
   "execution_count": 2,
   "id": "a7dc3b68",
   "metadata": {},
   "outputs": [],
   "source": [
    "house_prices = [305195, 1091868, 773273, 448000, 301005, 417500]\n",
    "living_area_sqm = [222, 349, 191, 297, 159, 86]\n",
    "land_area_sqm = [870, 1872, 2418, 800, 800, 94]\n",
    "bedrooms_no = [6, 4, 4, 5, 4, 2]\n",
    "building_grade = [7, 10, 8, 7, 7, 8]"
   ]
  },
  {
   "cell_type": "code",
   "execution_count": 3,
   "id": "40eae0e1",
   "metadata": {},
   "outputs": [
    {
     "data": {
      "text/plain": [
       "array([[ 222,  870,    6,    7],\n",
       "       [ 349, 1872,    4,   10],\n",
       "       [ 191, 2418,    4,    8],\n",
       "       [ 297,  800,    5,    7],\n",
       "       [ 159,  800,    4,    7]])"
      ]
     },
     "execution_count": 3,
     "metadata": {},
     "output_type": "execute_result"
    }
   ],
   "source": [
    "X = np.column_stack((living_area_sqm, land_area_sqm, bedrooms_no, building_grade))\n",
    "X[:5]"
   ]
  },
  {
   "cell_type": "code",
   "execution_count": 4,
   "id": "521c6b4f",
   "metadata": {},
   "outputs": [],
   "source": [
    "y = house_prices"
   ]
  },
  {
   "cell_type": "code",
   "execution_count": 5,
   "id": "cfe7e412",
   "metadata": {},
   "outputs": [],
   "source": [
    "X = sm.add_constant(X)"
   ]
  },
  {
   "cell_type": "code",
   "execution_count": 6,
   "id": "54c2d7da",
   "metadata": {},
   "outputs": [
    {
     "name": "stdout",
     "output_type": "stream",
     "text": [
      "                            OLS Regression Results                            \n",
      "==============================================================================\n",
      "Dep. Variable:                      y   R-squared:                       0.995\n",
      "Model:                            OLS   Adj. R-squared:                  0.974\n",
      "Method:                 Least Squares   F-statistic:                     48.66\n",
      "Date:                Thu, 18 Jul 2024   Prob (F-statistic):              0.107\n",
      "Time:                        17:28:38   Log-Likelihood:                -68.082\n",
      "No. Observations:                   6   AIC:                             146.2\n",
      "Df Residuals:                       1   BIC:                             145.1\n",
      "Df Model:                           4                                         \n",
      "Covariance Type:            nonrobust                                         \n",
      "==============================================================================\n",
      "                 coef    std err          t      P>|t|      [0.025      0.975]\n",
      "------------------------------------------------------------------------------\n",
      "const      -5.836e+05   3.59e+05     -1.627      0.351   -5.14e+06    3.97e+06\n",
      "x1          1119.7335    499.173      2.243      0.267   -5222.861    7462.328\n",
      "x2           158.6590     35.272      4.498      0.139    -289.518     606.836\n",
      "x3         -6.381e+04   3.72e+04     -1.715      0.336   -5.37e+05    4.09e+05\n",
      "x4          1.252e+05   4.15e+04      3.016      0.204   -4.02e+05    6.53e+05\n",
      "==============================================================================\n",
      "Omnibus:                          nan   Durbin-Watson:                   2.886\n",
      "Prob(Omnibus):                    nan   Jarque-Bera (JB):                1.546\n",
      "Skew:                          -1.243   Prob(JB):                        0.462\n",
      "Kurtosis:                       3.011   Cond. No.                     2.46e+04\n",
      "==============================================================================\n",
      "\n",
      "Notes:\n",
      "[1] Standard Errors assume that the covariance matrix of the errors is correctly specified.\n",
      "[2] The condition number is large, 2.46e+04. This might indicate that there are\n",
      "strong multicollinearity or other numerical problems.\n"
     ]
    },
    {
     "name": "stderr",
     "output_type": "stream",
     "text": [
      "/Users/mymac/anaconda3/lib/python3.10/site-packages/statsmodels/stats/stattools.py:74: ValueWarning: omni_normtest is not valid with less than 8 observations; 6 samples were given.\n",
      "  warn(\"omni_normtest is not valid with less than 8 observations; %i \"\n"
     ]
    }
   ],
   "source": [
    "res = sm.OLS(y, X).fit()\n",
    "print(res.summary())"
   ]
  },
  {
   "cell_type": "code",
   "execution_count": 7,
   "id": "6edd74e0",
   "metadata": {},
   "outputs": [
    {
     "data": {
      "text/plain": [
       "array([-5.83605508e+05,  1.11973350e+03,  1.58658987e+02, -6.38055712e+04,\n",
       "        1.25234726e+05])"
      ]
     },
     "execution_count": 7,
     "metadata": {},
     "output_type": "execute_result"
    }
   ],
   "source": [
    "res.params"
   ]
  },
  {
   "cell_type": "code",
   "execution_count": 8,
   "id": "58a82934",
   "metadata": {},
   "outputs": [
    {
     "data": {
      "text/plain": [
       "<BarContainer object of 4 artists>"
      ]
     },
     "execution_count": 8,
     "metadata": {},
     "output_type": "execute_result"
    },
    {
     "data": {
      "image/png": "[encoded data removed]",
      "text/plain": [
       "<Figure size 640x480 with 1 Axes>"
      ]
     },
     "metadata": {},
     "output_type": "display_data"
    }
   ],
   "source": [
    "plt.barh([\"living_area_sqm\", \"land_area_sqm\", \"bedrooms_no\", \"building_grade\"], res.params[1:])"
   ]
  },
  {
   "cell_type": "markdown",
   "id": "ed046cf4",
   "metadata": {},
   "source": [
    "# Bad model because coefficients are not standardized here. "
   ]
  },
  {
   "cell_type": "markdown",
   "id": "f800678b",
   "metadata": {},
   "source": [
    "## Correct way using zscore"
   ]
  },
  {
   "cell_type": "code",
   "execution_count": 9,
   "id": "6b9ea1b8",
   "metadata": {},
   "outputs": [
    {
     "data": {
      "text/plain": [
       "[222, 349, 191, 297, 159, 86]"
      ]
     },
     "execution_count": 9,
     "metadata": {},
     "output_type": "execute_result"
    }
   ],
   "source": [
    "# Standardize beta coefficients\n",
    "living_area_sqm"
   ]
  },
  {
   "cell_type": "code",
   "execution_count": 10,
   "id": "00f47913",
   "metadata": {},
   "outputs": [
    {
     "data": {
      "text/plain": [
       "array([ 0.05385651,  1.51952301, -0.3039046 ,  0.9194076 , -0.6732064 ,\n",
       "       -1.51567612])"
      ]
     },
     "execution_count": 10,
     "metadata": {},
     "output_type": "execute_result"
    }
   ],
   "source": [
    "from scipy import stats\n",
    "stats.zscore(living_area_sqm)"
   ]
  },
  {
   "cell_type": "code",
   "execution_count": 14,
   "id": "11f0179f",
   "metadata": {},
   "outputs": [],
   "source": [
    "# Apply to all variables\n",
    "X = np.column_stack((living_area_sqm, land_area_sqm, bedrooms_no, building_grade))\n",
    "X = stats.zscore(X)"
   ]
  },
  {
   "cell_type": "code",
   "execution_count": 15,
   "id": "e6f750a3",
   "metadata": {},
   "outputs": [
    {
     "data": {
      "text/plain": [
       "array([[ 0.05385651, -0.35318897,  1.5109662 , -0.78086881],\n",
       "       [ 1.51952301,  0.94630436, -0.13736056,  2.0302589 ],\n",
       "       [-0.3039046 ,  1.65441151, -0.13736056,  0.15617376],\n",
       "       [ 0.9194076 , -0.44397194,  0.68680282, -0.78086881],\n",
       "       [-0.6732064 , -0.44397194, -0.13736056, -0.78086881],\n",
       "       [-1.51567612, -1.35958302, -1.78568733,  0.15617376]])"
      ]
     },
     "execution_count": 15,
     "metadata": {},
     "output_type": "execute_result"
    }
   ],
   "source": [
    "X"
   ]
  },
  {
   "cell_type": "code",
   "execution_count": 16,
   "id": "002f1cf4",
   "metadata": {},
   "outputs": [
    {
     "name": "stdout",
     "output_type": "stream",
     "text": [
      "                            OLS Regression Results                            \n",
      "==============================================================================\n",
      "Dep. Variable:                      y   R-squared:                       0.995\n",
      "Model:                            OLS   Adj. R-squared:                  0.974\n",
      "Method:                 Least Squares   F-statistic:                     48.66\n",
      "Date:                Thu, 18 Jul 2024   Prob (F-statistic):              0.107\n",
      "Time:                        17:41:01   Log-Likelihood:                -68.082\n",
      "No. Observations:                   6   AIC:                             146.2\n",
      "Df Residuals:                       1   BIC:                             145.1\n",
      "Df Model:                           4                                         \n",
      "Covariance Type:            nonrobust                                         \n",
      "==============================================================================\n",
      "                 coef    std err          t      P>|t|      [0.025      0.975]\n",
      "------------------------------------------------------------------------------\n",
      "const       5.561e+05   2.05e+04     27.132      0.023    2.96e+05    8.17e+05\n",
      "x1          9.702e+04   4.33e+04      2.243      0.267   -4.53e+05    6.47e+05\n",
      "x2          1.223e+05   2.72e+04      4.498      0.139   -2.23e+05    4.68e+05\n",
      "x3         -7.742e+04   4.51e+04     -1.715      0.336   -6.51e+05    4.96e+05\n",
      "x4          1.336e+05   4.43e+04      3.016      0.204   -4.29e+05    6.97e+05\n",
      "==============================================================================\n",
      "Omnibus:                          nan   Durbin-Watson:                   2.886\n",
      "Prob(Omnibus):                    nan   Jarque-Bera (JB):                1.546\n",
      "Skew:                          -1.243   Prob(JB):                        0.462\n",
      "Kurtosis:                       3.011   Cond. No.                         5.02\n",
      "==============================================================================\n",
      "\n",
      "Notes:\n",
      "[1] Standard Errors assume that the covariance matrix of the errors is correctly specified.\n"
     ]
    },
    {
     "name": "stderr",
     "output_type": "stream",
     "text": [
      "/Users/mymac/anaconda3/lib/python3.10/site-packages/statsmodels/stats/stattools.py:74: ValueWarning: omni_normtest is not valid with less than 8 observations; 6 samples were given.\n",
      "  warn(\"omni_normtest is not valid with less than 8 observations; %i \"\n"
     ]
    }
   ],
   "source": [
    "X = sm.add_constant(X)\n",
    "y = house_prices\n",
    "res = sm.OLS(y, X).fit()\n",
    "print(res.summary())"
   ]
  },
  {
   "cell_type": "code",
   "execution_count": 18,
   "id": "b15658c9",
   "metadata": {},
   "outputs": [
    {
     "data": {
      "text/plain": [
       "<BarContainer object of 4 artists>"
      ]
     },
     "execution_count": 18,
     "metadata": {},
     "output_type": "execute_result"
    },
    {
     "data": {
      "image/png": "[encoded data removed]",
      "text/plain": [
       "<Figure size 640x480 with 1 Axes>"
      ]
     },
     "metadata": {},
     "output_type": "display_data"
    }
   ],
   "source": [
    "plt.barh([\"living_area_sqm\", \"land_area_sqm\", \"bedrooms_no\", \"building_grade\"], res.params[1:])"
   ]
  },
  {
   "cell_type": "markdown",
   "id": "47adc14f",
   "metadata": {},
   "source": [
    "# Statistical Significance of this coeff and Hypothesis Testing"
   ]
  },
  {
   "cell_type": "markdown",
   "id": "18401182",
   "metadata": {},
   "source": [
    "H0: There is no linear influence of our independent variable on our dependent variable (Coefficient is zero).\n",
    "\n",
    "H1: There is a linear influence of our independent variable on our dependent variable (Coefficient is not zero)."
   ]
  },
  {
   "cell_type": "markdown",
   "id": "aed9d743",
   "metadata": {},
   "source": [
    "Example: for variable living room area\n",
    "\n",
    "H0: There is no linear infuence of living room area on house price.\n",
    "\n",
    "H1: There is a linear infuence of living room area on house price."
   ]
  },
  {
   "cell_type": "code",
   "execution_count": 19,
   "id": "d1bc246a",
   "metadata": {},
   "outputs": [
    {
     "name": "stdout",
     "output_type": "stream",
     "text": [
      "                            OLS Regression Results                            \n",
      "==============================================================================\n",
      "Dep. Variable:                      y   R-squared:                       0.995\n",
      "Model:                            OLS   Adj. R-squared:                  0.974\n",
      "Method:                 Least Squares   F-statistic:                     48.66\n",
      "Date:                Thu, 18 Jul 2024   Prob (F-statistic):              0.107\n",
      "Time:                        18:45:11   Log-Likelihood:                -68.082\n",
      "No. Observations:                   6   AIC:                             146.2\n",
      "Df Residuals:                       1   BIC:                             145.1\n",
      "Df Model:                           4                                         \n",
      "Covariance Type:            nonrobust                                         \n",
      "==============================================================================\n",
      "                 coef    std err          t      P>|t|      [0.025      0.975]\n",
      "------------------------------------------------------------------------------\n",
      "const       5.561e+05   2.05e+04     27.132      0.023    2.96e+05    8.17e+05\n",
      "x1          9.702e+04   4.33e+04      2.243      0.267   -4.53e+05    6.47e+05\n",
      "x2          1.223e+05   2.72e+04      4.498      0.139   -2.23e+05    4.68e+05\n",
      "x3         -7.742e+04   4.51e+04     -1.715      0.336   -6.51e+05    4.96e+05\n",
      "x4          1.336e+05   4.43e+04      3.016      0.204   -4.29e+05    6.97e+05\n",
      "==============================================================================\n",
      "Omnibus:                          nan   Durbin-Watson:                   2.886\n",
      "Prob(Omnibus):                    nan   Jarque-Bera (JB):                1.546\n",
      "Skew:                          -1.243   Prob(JB):                        0.462\n",
      "Kurtosis:                       3.011   Cond. No.                         5.02\n",
      "==============================================================================\n",
      "\n",
      "Notes:\n",
      "[1] Standard Errors assume that the covariance matrix of the errors is correctly specified.\n"
     ]
    },
    {
     "name": "stderr",
     "output_type": "stream",
     "text": [
      "/Users/mymac/anaconda3/lib/python3.10/site-packages/statsmodels/stats/stattools.py:74: ValueWarning: omni_normtest is not valid with less than 8 observations; 6 samples were given.\n",
      "  warn(\"omni_normtest is not valid with less than 8 observations; %i \"\n"
     ]
    }
   ],
   "source": [
    "print(res.summary())"
   ]
  },
  {
   "cell_type": "markdown",
   "id": "2621608c",
   "metadata": {},
   "source": [
    "# t-statistic\n",
    "\n",
    "### t = coef/std error"
   ]
  },
  {
   "cell_type": "code",
   "execution_count": 20,
   "id": "d200e18f",
   "metadata": {},
   "outputs": [
    {
     "data": {
      "text/plain": [
       "array([556140.16666667,  97024.90632679, 122337.14529876, -77418.59501576,\n",
       "       133648.91863209])"
      ]
     },
     "execution_count": 20,
     "metadata": {},
     "output_type": "execute_result"
    }
   ],
   "source": [
    "# Coefficients\n",
    "res.params"
   ]
  },
  {
   "cell_type": "code",
   "execution_count": 21,
   "id": "8568ab7b",
   "metadata": {},
   "outputs": [
    {
     "data": {
      "text/plain": [
       "array([20497.34410557, 43253.34039152, 27197.3990179 , 45145.68770867,\n",
       "       44316.30684932])"
      ]
     },
     "execution_count": 21,
     "metadata": {},
     "output_type": "execute_result"
    }
   ],
   "source": [
    "# Standard Errors\n",
    "res.bse"
   ]
  },
  {
   "cell_type": "markdown",
   "id": "2350c957",
   "metadata": {},
   "source": [
    "### t-values manual calculation"
   ]
  },
  {
   "cell_type": "code",
   "execution_count": 22,
   "id": "68701298",
   "metadata": {},
   "outputs": [
    {
     "data": {
      "text/plain": [
       "array([27.13230377,  2.24317718,  4.4981193 , -1.71486135,  3.0157955 ])"
      ]
     },
     "execution_count": 22,
     "metadata": {},
     "output_type": "execute_result"
    }
   ],
   "source": [
    "res.params / res.bse"
   ]
  },
  {
   "cell_type": "markdown",
   "id": "c7183c13",
   "metadata": {},
   "source": [
    "### t-values directly"
   ]
  },
  {
   "cell_type": "code",
   "execution_count": 23,
   "id": "ec0efd95",
   "metadata": {},
   "outputs": [
    {
     "data": {
      "text/plain": [
       "array([27.13230377,  2.24317718,  4.4981193 , -1.71486135,  3.0157955 ])"
      ]
     },
     "execution_count": 23,
     "metadata": {},
     "output_type": "execute_result"
    }
   ],
   "source": [
    "res.tvalues"
   ]
  },
  {
   "cell_type": "code",
   "execution_count": 24,
   "id": "b5cf77d3",
   "metadata": {},
   "outputs": [
    {
     "data": {
      "text/plain": [
       "array([0.02345292, 0.26696816, 0.13926534, 0.33608962, 0.20383194])"
      ]
     },
     "execution_count": 24,
     "metadata": {},
     "output_type": "execute_result"
    }
   ],
   "source": [
    "res.pvalues"
   ]
  },
  {
   "cell_type": "markdown",
   "id": "4a5a9cd7",
   "metadata": {},
   "source": [
    "The p value of 0.266 (living area sqm). This is much higher than the standard %5 (0.05). This is saying that null hypothesis H0 could not be rejected and there is no linear infuence of living room area on house price.\n",
    "There is a high (26.6%) chance The Living area variable has no effect on the output variable and the observation happened by chance.\n",
    "\n",
    "Possible actions:\n",
    " - Collect more data\n",
    " - Try less variables"
   ]
  },
  {
   "cell_type": "code",
   "execution_count": null,
   "id": "9a368520",
   "metadata": {},
   "outputs": [],
   "source": []
  }
 ],
 "metadata": {
  "kernelspec": {
   "display_name": "Python 3 (ipykernel)",
   "language": "python",
   "name": "python3"
  },
  "language_info": {
   "codemirror_mode": {
    "name": "ipython",
    "version": 3
   },
   "file_extension": ".py",
   "mimetype": "text/x-python",
   "name": "python",
   "nbconvert_exporter": "python",
   "pygments_lexer": "ipython3",
   "version": "3.10.9"
  }
 },
 "nbformat": 4,
 "nbformat_minor": 5
}
