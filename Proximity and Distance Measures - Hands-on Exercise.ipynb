{
 "cells": [
  {
   "cell_type": "markdown",
   "id": "7958cd2a",
   "metadata": {},
   "source": [
    "In this exercise, we will learn how to calculate distance metrics.\n",
    "\n",
    "First, we will import all the relevant packages."
   ]
  },
  {
   "cell_type": "code",
   "execution_count": 1,
   "id": "2e5a9a4c",
   "metadata": {},
   "outputs": [],
   "source": [
    "import numpy as np"
   ]
  },
  {
   "cell_type": "code",
   "execution_count": 2,
   "id": "b2679a84",
   "metadata": {},
   "outputs": [],
   "source": [
    "# Next, generate the 2 points in the 2-dimensional plan.\n",
    "point1 = (10, 50)\n",
    "point2 = (20.5, 100)"
   ]
  },
  {
   "cell_type": "code",
   "execution_count": 3,
   "id": "c15456f9",
   "metadata": {},
   "outputs": [
    {
     "data": {
      "text/plain": [
       "51.090605790105876"
      ]
     },
     "execution_count": 3,
     "metadata": {},
     "output_type": "execute_result"
    }
   ],
   "source": [
    "# First, let us calculate the Euclidean distance between the 2 generated points.\n",
    "euclidean_distance = np.sqrt((point1[0]-point2[0])**2 + (point1[1]-point2[1])**2)\n",
    "euclidean_distance"
   ]
  },
  {
   "cell_type": "code",
   "execution_count": 4,
   "id": "2f054f8f",
   "metadata": {},
   "outputs": [
    {
     "data": {
      "text/plain": [
       "60.5"
      ]
     },
     "execution_count": 4,
     "metadata": {},
     "output_type": "execute_result"
    }
   ],
   "source": [
    "# Finally, also calculate the Manhattan distance between these 2 points.\n",
    "manhattan_distance = np.abs(point1[0] - point2[0]) + np.abs(point1[1] - point2[1])\n",
    "manhattan_distance"
   ]
  },
  {
   "cell_type": "markdown",
   "id": "13748989",
   "metadata": {},
   "source": [
    "In this exercise, we have learned to calculate the Euclidean and Manhattan distance between the 2 points."
   ]
  },
  {
   "cell_type": "code",
   "execution_count": null,
   "id": "74b6979d",
   "metadata": {},
   "outputs": [],
   "source": []
  }
 ],
 "metadata": {
  "kernelspec": {
   "display_name": "Python 3 (ipykernel)",
   "language": "python",
   "name": "python3"
  },
  "language_info": {
   "codemirror_mode": {
    "name": "ipython",
    "version": 3
   },
   "file_extension": ".py",
   "mimetype": "text/x-python",
   "name": "python",
   "nbconvert_exporter": "python",
   "pygments_lexer": "ipython3",
   "version": "3.10.9"
  }
 },
 "nbformat": 4,
 "nbformat_minor": 5
}
