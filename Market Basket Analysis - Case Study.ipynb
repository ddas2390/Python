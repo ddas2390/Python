{
 "cells": [
  {
   "cell_type": "markdown",
   "id": "d30fa982",
   "metadata": {},
   "source": [
    "## Market Basket Analysis - Case Study\n",
    "\n",
    "Note: Before you proceed with this case study, click here to download the necessary supporting files.\n",
    "\n",
    "Wallkart is a supermarket chain across South America with multiple stores present in different regions. For each of their stores, they want to optimize the placement of the items to increase the visibility and therefore the overall sales.\n",
    "\n",
    "You are provided with the sales dataset from one of the Wallkart store. The dataset contains transactions including customer ID and date of purchase. Use market basket analysis to find out the most frequent items bought together and the items to be placed together to increase sales. Also, provide insights around the transaction data such as the most frequently bought item and day-wise preference of customers.\n",
    "\n",
    "Data Files\n",
    "dataset.csv  \n",
    "\n",
    "The dataset.csv file is the main file that contains transaction values. There are 3 columns in the dataset.  \n",
    "\n",
    "Customer ID: Unique Customer ID \n",
    "Date: Date of purchase \n",
    "Item: Item bought by customer \n",
    "  Approach  \n",
    "Use market basket analysis on the provided dataset to find the most frequently bought items.  \n",
    " \n",
    " Evaluation Metric \n",
    "The metric used for evaluating the performance of the model is support, confidence, and lift of the rules generated from MBA.   \n",
    "\n",
    "Deliverables Well commented Jupyter notebook including EDA, data processing steps, and list of top 20 items bought together.   \n",
    "\n",
    "Data Source: https://www.kaggle.com/datasets/heeraldedhia/groceries-dataset \n",
    " "
   ]
  },
  {
   "cell_type": "code",
   "execution_count": null,
   "id": "73a98b67",
   "metadata": {},
   "outputs": [],
   "source": []
  }
 ],
 "metadata": {
  "kernelspec": {
   "display_name": "Python 3 (ipykernel)",
   "language": "python",
   "name": "python3"
  },
  "language_info": {
   "codemirror_mode": {
    "name": "ipython",
    "version": 3
   },
   "file_extension": ".py",
   "mimetype": "text/x-python",
   "name": "python",
   "nbconvert_exporter": "python",
   "pygments_lexer": "ipython3",
   "version": "3.10.9"
  }
 },
 "nbformat": 4,
 "nbformat_minor": 5
}
