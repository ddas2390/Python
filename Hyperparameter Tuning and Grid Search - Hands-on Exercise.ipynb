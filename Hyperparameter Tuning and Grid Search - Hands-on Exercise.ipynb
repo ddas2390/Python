{
 "cells": [
  {
   "cell_type": "markdown",
   "id": "28d78117",
   "metadata": {},
   "source": [
    "You work in the telecommunication industry and are tasked with finding the best machine learning model to predict customer churn. After research you decide to perform hyperparameter tunning and grid search on models like Random Forest Classifier, SVC and Gradient Boosting Classifier with different values for their parameters to find the best model along with their optimal parameters and accuracy scores."
   ]
  },
  {
   "cell_type": "code",
   "execution_count": 13,
   "id": "5bf5cf25",
   "metadata": {},
   "outputs": [],
   "source": [
    "from sklearn.model_selection import GridSearchCV\n",
    "from sklearn.ensemble import GradientBoostingClassifier\n",
    "from sklearn.ensemble import RandomForestClassifier\n",
    "from sklearn.model_selection import train_test_split\n",
    "from sklearn.datasets import make_classification\n",
    "from sklearn.svm import SVC\n",
    "import numpy as np"
   ]
  },
  {
   "cell_type": "markdown",
   "id": "8eb5b70e",
   "metadata": {},
   "source": [
    "Using the imported “make_classification”  method create a synthetic classification dataset with 0 random state."
   ]
  },
  {
   "cell_type": "code",
   "execution_count": 14,
   "id": "de2d0c31",
   "metadata": {},
   "outputs": [],
   "source": [
    "X, y = make_classification(random_state=0)"
   ]
  },
  {
   "cell_type": "markdown",
   "id": "afc40b5b",
   "metadata": {},
   "source": [
    "Now that the dataset is created and stored let’s define the parameters for the models."
   ]
  },
  {
   "cell_type": "code",
   "execution_count": 15,
   "id": "e7770543",
   "metadata": {},
   "outputs": [],
   "source": [
    "param_grid_rf = {\n",
    "    'n_estimators': [50, 100, 200],\n",
    "    'max_depth': [None, 10, 20, 30],\n",
    "    'min_samples_split': [2, 5, 10]\n",
    "}\n",
    "\n",
    "param_grid_svm = {\n",
    "    'C': [0.1, 1, 10],\n",
    "    'kernel': ['linear', 'rbf'],\n",
    "    'gamma': [0.1, 1, 10]\n",
    "}\n",
    "\n",
    "param_grid_gb = {\n",
    "    'n_estimators': [50, 100, 200],\n",
    "    'learning_rate': [0.01, 0.1, 1],\n",
    "    'max_depth': [3, 4, 5]\n",
    "}"
   ]
  },
  {
   "cell_type": "markdown",
   "id": "0a4a5d4e",
   "metadata": {},
   "source": [
    "With the parameters defined let’s split the dataset into training and test sets."
   ]
  },
  {
   "cell_type": "code",
   "execution_count": 16,
   "id": "002588b5",
   "metadata": {},
   "outputs": [],
   "source": [
    "X_train, X_test, y_train, y_test = train_test_split(X, y, test_size=0.2)"
   ]
  },
  {
   "cell_type": "markdown",
   "id": "fca9f91b",
   "metadata": {},
   "source": [
    "With the dataset split into training and test setsinitialize all the models and store them in a variable."
   ]
  },
  {
   "cell_type": "code",
   "execution_count": 17,
   "id": "5258ce12",
   "metadata": {},
   "outputs": [],
   "source": [
    "rf_model = RandomForestClassifier()\n",
    "svm_model = SVC()\n",
    "gb_model = GradientBoostingClassifier()"
   ]
  },
  {
   "cell_type": "markdown",
   "id": "e634d7ac",
   "metadata": {},
   "source": [
    "Before we perform grid search cv let’s create a dictionary of the model name and parameters grid."
   ]
  },
  {
   "cell_type": "code",
   "execution_count": 18,
   "id": "968ebe82",
   "metadata": {},
   "outputs": [],
   "source": [
    "models = {\n",
    "'Random Forest': (rf_model, param_grid_rf),\n",
    "'SVM': (svm_model, param_grid_svm),\n",
    "'Gradient Boosting': (gb_model, param_grid_gb)\n",
    "}"
   ]
  },
  {
   "cell_type": "markdown",
   "id": "32781399",
   "metadata": {},
   "source": [
    "As the final step, we can perform grid search cv for each model and print out the results."
   ]
  },
  {
   "cell_type": "code",
   "execution_count": 19,
   "id": "0b59e5bf",
   "metadata": {},
   "outputs": [
    {
     "name": "stdout",
     "output_type": "stream",
     "text": [
      "Model: Random Forest\n",
      "Best Hyperparameters: {'max_depth': None, 'min_samples_split': 10, 'n_estimators': 50}\n",
      "Test Accuracy: 0.95\n",
      "Model: SVM\n",
      "Best Hyperparameters: {'C': 0.1, 'gamma': 0.1, 'kernel': 'linear'}\n",
      "Test Accuracy: 0.85\n",
      "Model: Gradient Boosting\n",
      "Best Hyperparameters: {'learning_rate': 1, 'max_depth': 3, 'n_estimators': 100}\n",
      "Test Accuracy: 0.95\n",
      "Best model: GradientBoostingClassifier(learning_rate=1)\n"
     ]
    }
   ],
   "source": [
    "# Perform Grid Search CV for each model\n",
    "for model_name, (model, param_grid) in models.items():\n",
    "    grid_search = GridSearchCV(model, param_grid, cv=5, scoring='accuracy')\n",
    "    grid_search.fit(X_train, y_train)\n",
    "    \n",
    "    best_params = grid_search.best_params_\n",
    "    best_model = grid_search.best_estimator_\n",
    "    \n",
    "    test_score = best_model.score(X_test, y_test)\n",
    "    \n",
    "    print(f\"Model: {model_name}\")\n",
    "    print(\"Best Hyperparameters:\", best_params)\n",
    "    print(\"Test Accuracy:\", test_score)\n",
    "print(\"Best model:\", best_model)"
   ]
  },
  {
   "cell_type": "code",
   "execution_count": null,
   "id": "2c091d74",
   "metadata": {},
   "outputs": [],
   "source": []
  }
 ],
 "metadata": {
  "kernelspec": {
   "display_name": "Python 3 (ipykernel)",
   "language": "python",
   "name": "python3"
  },
  "language_info": {
   "codemirror_mode": {
    "name": "ipython",
    "version": 3
   },
   "file_extension": ".py",
   "mimetype": "text/x-python",
   "name": "python",
   "nbconvert_exporter": "python",
   "pygments_lexer": "ipython3",
   "version": "3.10.9"
  }
 },
 "nbformat": 4,
 "nbformat_minor": 5
}
