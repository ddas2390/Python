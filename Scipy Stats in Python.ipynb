{
 "cells": [
  {
   "cell_type": "code",
   "execution_count": 1,
   "id": "fcb45c70",
   "metadata": {},
   "outputs": [],
   "source": [
    "import numpy as np"
   ]
  },
  {
   "cell_type": "code",
   "execution_count": 2,
   "id": "900d57a6",
   "metadata": {},
   "outputs": [],
   "source": [
    "from scipy.stats import binom, poisson"
   ]
  },
  {
   "cell_type": "code",
   "execution_count": 8,
   "id": "39484563",
   "metadata": {},
   "outputs": [
    {
     "name": "stdout",
     "output_type": "stream",
     "text": [
      "0.21499084799999976\n",
      "0.8327102464\n",
      "0.16728975359999998\n"
     ]
    }
   ],
   "source": [
    "# Binomial Distribution\n",
    "n = 10\n",
    "p = 0.6\n",
    "r = 7\n",
    "\n",
    "p_X_equals_7 = binom.pmf(r, n, p)\n",
    "print(p_X_equals_7)\n",
    "\n",
    "p_X_less_than_r = binom.cdf(r, n, p)\n",
    "print(p_X_less_than_r)\n",
    "\n",
    "p_X_greater_than_r = 1 - p_X_less_than_r\n",
    "print(p_X_greater_than_r)"
   ]
  },
  {
   "cell_type": "code",
   "execution_count": 10,
   "id": "a1a00cb4",
   "metadata": {},
   "outputs": [
    {
     "data": {
      "text/plain": [
       "0.08923507835998894"
      ]
     },
     "execution_count": 10,
     "metadata": {},
     "output_type": "execute_result"
    }
   ],
   "source": [
    "# Poisson Distribution\n",
    "rate = 3\n",
    "poisson.pmf(rate, 6)"
   ]
  },
  {
   "cell_type": "code",
   "execution_count": 12,
   "id": "cd61dade",
   "metadata": {},
   "outputs": [
    {
     "data": {
      "text/plain": [
       "Ttest_1sampResult(statistic=1.5485562036262923, pvalue=0.15589635046988362)"
      ]
     },
     "execution_count": 12,
     "metadata": {},
     "output_type": "execute_result"
    }
   ],
   "source": [
    "# T-test - 1 sample\n",
    "import scipy\n",
    "import numpy as np\n",
    "\n",
    "arr = np.random.randint(4, 10, 10)\n",
    "mu_naught = 5.5\n",
    "\n",
    "scipy.stats.ttest_1samp(arr, mu_naught)"
   ]
  },
  {
   "cell_type": "code",
   "execution_count": 14,
   "id": "08c660d7",
   "metadata": {},
   "outputs": [
    {
     "data": {
      "text/plain": [
       "Ttest_1sampResult(statistic=-6.739360370107809, pvalue=1.0661964220871536e-09)"
      ]
     },
     "execution_count": 14,
     "metadata": {},
     "output_type": "execute_result"
    }
   ],
   "source": [
    "# T-test - 1 sample\n",
    "import scipy\n",
    "import numpy as np\n",
    "\n",
    "arr = np.random.randint(140, 200, 100)\n",
    "mu_naught = 180\n",
    "\n",
    "scipy.stats.ttest_1samp(arr, mu_naught)"
   ]
  },
  {
   "cell_type": "code",
   "execution_count": 13,
   "id": "710999f5",
   "metadata": {},
   "outputs": [
    {
     "data": {
      "text/plain": [
       "(6.033900537614561, 7.3660994623854394)"
      ]
     },
     "execution_count": 13,
     "metadata": {},
     "output_type": "execute_result"
    }
   ],
   "source": [
    "# Confidence Interval\n",
    "\n",
    "np.random.seed(10)\n",
    "arr = np.random.randint(5, 10, 20)\n",
    "\n",
    "mu = np.mean(arr)\n",
    "std = np.std(arr)\n",
    "se = std/np.sqrt(len(arr))\n",
    "\n",
    "cl = 0.95\n",
    "z = scipy.stats.norm.ppf((cl+1)/2)\n",
    "\n",
    "con_in = (mu - (z * se), mu + (z * se))\n",
    "con_in"
   ]
  },
  {
   "cell_type": "code",
   "execution_count": null,
   "id": "9378241a",
   "metadata": {},
   "outputs": [],
   "source": []
  }
 ],
 "metadata": {
  "kernelspec": {
   "display_name": "Python 3 (ipykernel)",
   "language": "python",
   "name": "python3"
  },
  "language_info": {
   "codemirror_mode": {
    "name": "ipython",
    "version": 3
   },
   "file_extension": ".py",
   "mimetype": "text/x-python",
   "name": "python",
   "nbconvert_exporter": "python",
   "pygments_lexer": "ipython3",
   "version": "3.10.9"
  }
 },
 "nbformat": 4,
 "nbformat_minor": 5
}
