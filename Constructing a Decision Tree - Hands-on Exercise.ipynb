{
 "cells": [
  {
   "cell_type": "markdown",
   "id": "f8843f00",
   "metadata": {},
   "source": [
    "## Constructing a Decision Tree\n",
    " \n",
    "In this exercise, you will learn to Construct a Decision Tree by finding the right point to split the data into 2 groups. First, the data is broken into 2 groups using several values. The value, such that the impurity of 2 groups is the lowest, is the right value to split the data for a Decision Tree.\n",
    "\n",
    "First, you will import all the relevant packages."
   ]
  },
  {
   "cell_type": "code",
   "execution_count": 1,
   "id": "eeb3b9f8",
   "metadata": {},
   "outputs": [],
   "source": [
    "import numpy as np\n",
    "import pandas as pd"
   ]
  },
  {
   "cell_type": "markdown",
   "id": "fab8c05b",
   "metadata": {},
   "source": [
    "Create a sample dataset with 2 columns - Household Income and Buy House feature. The \"household income\" feature describes the house price (in $1000) and the \"Buy House\" feature describes the person's decision to buy the house. The Household Income feature is used to predict the person's decision to buy a house or not."
   ]
  },
  {
   "cell_type": "code",
   "execution_count": 2,
   "id": "f6987321",
   "metadata": {},
   "outputs": [],
   "source": [
    "data = pd.DataFrame([[160, 'Buy'], [160, 'Buy'], [40, \"Don't Buy\"], [120, \"Don't Buy\"], [120, \"Buy\"], [120, \"Buy\"], [40, \"Don't Buy\"]], columns=['Income', 'Buy_House'])"
   ]
  },
  {
   "cell_type": "code",
   "execution_count": 3,
   "id": "badc9fbe",
   "metadata": {},
   "outputs": [],
   "source": [
    "# In the first experiment, let us use “40” as the number to split the data into 2 groups.\n",
    "data_left = data[data['Income']<=40]\n",
    "data_right = data[data['Income']>40]"
   ]
  },
  {
   "cell_type": "markdown",
   "id": "96a04f82",
   "metadata": {},
   "source": [
    "Calculate the impurity of the 2 groups using Gini Index."
   ]
  },
  {
   "cell_type": "code",
   "execution_count": 4,
   "id": "bbf45aa6",
   "metadata": {},
   "outputs": [],
   "source": [
    "# First group\n",
    "probab_dont_buy = 2/2\n",
    "Gini_first_group = 1 - (np.power(probab_dont_buy,2))"
   ]
  },
  {
   "cell_type": "code",
   "execution_count": 5,
   "id": "fd9514e6",
   "metadata": {},
   "outputs": [],
   "source": [
    "# Second group\n",
    "probab_dont_buy = 1/5\n",
    "probab_buy = 4/5\n",
    "Gini_second_group = 1 - (np.power(probab_dont_buy,2) + np.power(probab_buy,2))"
   ]
  },
  {
   "cell_type": "code",
   "execution_count": 6,
   "id": "b4556456",
   "metadata": {},
   "outputs": [
    {
     "data": {
      "text/plain": [
       "0.31999999999999984"
      ]
     },
     "execution_count": 6,
     "metadata": {},
     "output_type": "execute_result"
    }
   ],
   "source": [
    "total_gini_impurity_exp1 = Gini_first_group + Gini_second_group\n",
    "total_gini_impurity_exp1"
   ]
  },
  {
   "cell_type": "code",
   "execution_count": 7,
   "id": "5bd7339e",
   "metadata": {},
   "outputs": [],
   "source": [
    "# In the second experiment, let us use “120” as the number to split the data into 2 groups.\n",
    "data_left = data[data['Income']<=120]\n",
    "data_right = data[data['Income']>120]"
   ]
  },
  {
   "cell_type": "code",
   "execution_count": 8,
   "id": "7f8081f9",
   "metadata": {},
   "outputs": [
    {
     "data": {
      "text/plain": [
       "0.48"
      ]
     },
     "execution_count": 8,
     "metadata": {},
     "output_type": "execute_result"
    }
   ],
   "source": [
    "# Calculate the impurity of the 2 groups using Gini Index.\n",
    "probab_dont_buy = 3/5\n",
    "probab_buy = 2/5\n",
    "Gini_first_group = 1 - (np.power(probab_dont_buy,2) + np.power(probab_buy,2))\n",
    "\n",
    "probab_buy = 2/2\n",
    "Gini_second_group = 1 - (np.power(probab_buy,2))\n",
    "\n",
    "total_gini_impurity_exp2 = Gini_first_group + Gini_second_group\n",
    "total_gini_impurity_exp2"
   ]
  },
  {
   "cell_type": "code",
   "execution_count": 9,
   "id": "f7acf494",
   "metadata": {},
   "outputs": [],
   "source": [
    "# In the third experiment, let us use “160” as the number to split the data into 2 groups.\n",
    "data_left = data[data['Income']<=160]\n",
    "data_right = data[data['Income']>160]"
   ]
  },
  {
   "cell_type": "code",
   "execution_count": 10,
   "id": "dfc109e8",
   "metadata": {},
   "outputs": [
    {
     "data": {
      "text/plain": [
       "0.48979591836734704"
      ]
     },
     "execution_count": 10,
     "metadata": {},
     "output_type": "execute_result"
    }
   ],
   "source": [
    "# Calculate the impurity of the 2 groups using Gini Index.\n",
    "probab_dont_buy = 3/7\n",
    "probab_buy = 4/7\n",
    "Gini_first_group = 1 - (np.power(probab_dont_buy,2) + np.power(probab_buy,2))\n",
    "\n",
    "Gini_second_group = 0 ## No element in the group\n",
    "\n",
    "total_gini_impurity_exp3 = Gini_first_group + Gini_second_group\n",
    "total_gini_impurity_exp3"
   ]
  },
  {
   "cell_type": "code",
   "execution_count": 11,
   "id": "fcaba752",
   "metadata": {},
   "outputs": [
    {
     "data": {
      "text/plain": [
       "(0.31999999999999984, 0.48, 0.48979591836734704)"
      ]
     },
     "execution_count": 11,
     "metadata": {},
     "output_type": "execute_result"
    }
   ],
   "source": [
    "# Compare the results of the 3 experiments.\n",
    "total_gini_impurity_exp1, total_gini_impurity_exp2, total_gini_impurity_exp3"
   ]
  },
  {
   "cell_type": "markdown",
   "id": "c56f47f0",
   "metadata": {},
   "source": [
    "As evident, the first experiment has the lowest impurity and should be used to create a Decision Tree.\n",
    "\n",
    "In this exercise, you have learned to Construct a Decision Tree by finding the right point to split the data into 2 groups. You have used the Gini Index to calculate the Impurity of the groups."
   ]
  },
  {
   "cell_type": "code",
   "execution_count": null,
   "id": "ec90d2bb",
   "metadata": {},
   "outputs": [],
   "source": []
  }
 ],
 "metadata": {
  "kernelspec": {
   "display_name": "Python 3 (ipykernel)",
   "language": "python",
   "name": "python3"
  },
  "language_info": {
   "codemirror_mode": {
    "name": "ipython",
    "version": 3
   },
   "file_extension": ".py",
   "mimetype": "text/x-python",
   "name": "python",
   "nbconvert_exporter": "python",
   "pygments_lexer": "ipython3",
   "version": "3.10.9"
  }
 },
 "nbformat": 4,
 "nbformat_minor": 5
}
