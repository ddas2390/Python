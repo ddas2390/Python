{
 "cells": [
  {
   "cell_type": "markdown",
   "id": "6ad9d877",
   "metadata": {},
   "source": [
    "# Random Forest - Case Study\n",
    "\n",
    "Note: Before you proceed with this case study, click here to download the necessary supporting files.\n",
    " \n",
    " You are a Data scientist at the Forest bank, and the bank has been facing a number of fraudulent transactions.  \n",
    "Fradulent transaction are those which are not done by the user itself but by a hacker or by a card thief or by doing a fishing attack. \n",
    "The bank has a huge dataset of it's credit card users and the bank has also done the job of marking these transactions as fraudulent or not. You being banks' Da    ta science expert have been given the task to first analyse this data and generate insights and then predict if a transaction on a credit card is going to be fraud or not.  \n",
    " \n",
    "P.S: Please run this case study on Jupyter lab for right indexing of the cells on the left. \n",
    "\n",
    "Data dictionary\n",
    " \n",
    "transdatetrans_time: The date and time of the transaction. \n",
    "cc_num: credit card number. \n",
    "merchant: Merchant who was getting paid. \n",
    "category: In what area does that merchant deal. \n",
    "amt: Amount of money in American Dollars. \n",
    "first: first name of the card holder. \n",
    "last: last name of the card holder. \n",
    "gende : Gender of the cardholder.Just male and female! \n",
    "street:Street of card holder residence \n",
    "city:city of card holder residence \n",
    "state:state of card holder residence \n",
    "zip:ZIP code of card holder residence \n",
    "lat:latitude of card holder \n",
    "long:longitude of card holder \n",
    "city_pop:Population of the city \n",
    "job:trade of the card holder \n",
    "dob:Date of birth of the card holder \n",
    "trans_num: Transaction ID \n",
    "unix_time: Unix time which is the time calculated since 1970 to today. \n",
    "merch_lat: latitude of the merchant \n",
    "merch_long:longitude of the merchant \n",
    "is_fraud: Whether the transaction is fraud(1) or not(0)\n",
    "Exploratory Data Analysis or EDA, this is a common process we follow when we first get the data. The idea is to analyse the data and to be able to generate insights create a lot of value in business problems.  Also this is the part where we decide on model building. We do a number of steps in this step, including but not limited to drawing graphs, pie charts and more.\n",
    "Basic Feature Engineering: We learn a new concept of 1 hot encoding here.\n",
    "Introducing Random forest: We start with understanding the basics of Decision trees, bagging, building our way to learn RandomForest.\n",
    "Decision Trees: We understand decision trees here, and their disadvantages.  \n",
    "Bagging: Learn a generic concept of bagging or bootstrap aggregating.\n",
    "RandomForests: FInally learn RandomForest.\n",
    "Class Imbalance and class weights: We learn how to tackle the issue of class imbalance.\n",
    "Experiments with more features: We learn how increasing features could lead to different results.\n",
    "Results on the test dataset.: We run our trained model on the test dataset that we have.\n",
    "Exercise to try.    \n",
    "\n",
    "These are just high level steps and topics, please look at the notebooks’ table of contents for actual topics and steps in details"
   ]
  },
  {
   "cell_type": "code",
   "execution_count": null,
   "id": "76d31725",
   "metadata": {},
   "outputs": [],
   "source": []
  }
 ],
 "metadata": {
  "kernelspec": {
   "display_name": "Python 3 (ipykernel)",
   "language": "python",
   "name": "python3"
  },
  "language_info": {
   "codemirror_mode": {
    "name": "ipython",
    "version": 3
   },
   "file_extension": ".py",
   "mimetype": "text/x-python",
   "name": "python",
   "nbconvert_exporter": "python",
   "pygments_lexer": "ipython3",
   "version": "3.10.9"
  }
 },
 "nbformat": 4,
 "nbformat_minor": 5
}
