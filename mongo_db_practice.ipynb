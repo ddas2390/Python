{
 "cells": [
  {
   "cell_type": "code",
   "execution_count": 1,
   "metadata": {},
   "outputs": [],
   "source": [
    "from pymongo import MongoClient"
   ]
  },
  {
   "cell_type": "code",
   "execution_count": 2,
   "metadata": {},
   "outputs": [],
   "source": [
    "client = MongoClient(\"mongodb://127.0.0.1:27017/\")"
   ]
  },
  {
   "cell_type": "code",
   "execution_count": 3,
   "metadata": {},
   "outputs": [
    {
     "data": {
      "text/plain": [
       "['admin', 'config', 'knowledgehut', 'local', 'newdb']"
      ]
     },
     "execution_count": 3,
     "metadata": {},
     "output_type": "execute_result"
    }
   ],
   "source": [
    "client.list_database_names()"
   ]
  },
  {
   "cell_type": "code",
   "execution_count": 4,
   "metadata": {},
   "outputs": [],
   "source": [
    "db = client['knowledgehut']"
   ]
  },
  {
   "cell_type": "code",
   "execution_count": 5,
   "metadata": {},
   "outputs": [
    {
     "data": {
      "text/plain": [
       "pymongo.database.Database"
      ]
     },
     "execution_count": 5,
     "metadata": {},
     "output_type": "execute_result"
    }
   ],
   "source": [
    "type(db)"
   ]
  },
  {
   "cell_type": "code",
   "execution_count": 6,
   "metadata": {},
   "outputs": [],
   "source": [
    "car_collection = db['cars']"
   ]
  },
  {
   "cell_type": "code",
   "execution_count": 7,
   "metadata": {},
   "outputs": [
    {
     "data": {
      "text/plain": [
       "pymongo.collection.Collection"
      ]
     },
     "execution_count": 7,
     "metadata": {},
     "output_type": "execute_result"
    }
   ],
   "source": [
    "type(car_collection)"
   ]
  },
  {
   "cell_type": "code",
   "execution_count": 8,
   "metadata": {},
   "outputs": [],
   "source": [
    "cursor = car_collection.find({})"
   ]
  },
  {
   "cell_type": "code",
   "execution_count": 9,
   "metadata": {},
   "outputs": [
    {
     "data": {
      "text/plain": [
       "pymongo.cursor.Cursor"
      ]
     },
     "execution_count": 9,
     "metadata": {},
     "output_type": "execute_result"
    }
   ],
   "source": [
    "type(cursor)"
   ]
  },
  {
   "cell_type": "code",
   "execution_count": 10,
   "metadata": {},
   "outputs": [
    {
     "name": "stdout",
     "output_type": "stream",
     "text": [
      "{'_id': ObjectId('64d3881268d05709c6387353'), 'Name': 'chevrolet chevelle malibu', 'Miles_per_Gallon': 18, 'Cylinders': 8, 'Displacement': 307, 'Horsepower': 130, 'Weight_in_lbs': 3504, 'Acceleration': 12, 'Year': '1970-01-01', 'Origin': 'USA'}\n",
      "{'_id': ObjectId('64d3881268d05709c6387354'), 'Name': 'buick skylark 320', 'Miles_per_Gallon': 15, 'Cylinders': 8, 'Displacement': 350, 'Horsepower': 165, 'Weight_in_lbs': 3693, 'Acceleration': 11.5, 'Year': '1970-01-01', 'Origin': 'USA'}\n",
      "{'_id': ObjectId('64d3881268d05709c6387355'), 'Name': 'plymouth satellite', 'Miles_per_Gallon': 18, 'Cylinders': 8, 'Displacement': 318, 'Horsepower': 150, 'Weight_in_lbs': 3436, 'Acceleration': 11, 'Year': '1970-01-01', 'Origin': 'USA'}\n",
      "{'_id': ObjectId('64d3881268d05709c6387356'), 'Name': 'amc rebel sst', 'Miles_per_Gallon': 16, 'Cylinders': 8, 'Displacement': 304, 'Horsepower': 150, 'Weight_in_lbs': 3433, 'Acceleration': 12, 'Year': '1970-01-01', 'Origin': 'USA'}\n",
      "{'_id': ObjectId('64d3881268d05709c6387357'), 'Name': 'ford torino', 'Miles_per_Gallon': 17, 'Cylinders': 8, 'Displacement': 302, 'Horsepower': 140, 'Weight_in_lbs': 3449, 'Acceleration': 10.5, 'Year': '1970-01-01', 'Origin': 'USA'}\n",
      "{'_id': ObjectId('64d3881268d05709c6387358'), 'Name': 'ford galaxie 500', 'Miles_per_Gallon': 15, 'Cylinders': 8, 'Displacement': 429, 'Horsepower': 198, 'Weight_in_lbs': 4341, 'Acceleration': 10, 'Year': '1970-01-01', 'Origin': 'USA'}\n",
      "{'_id': ObjectId('64d3881268d05709c6387359'), 'Name': 'chevrolet impala', 'Miles_per_Gallon': 14, 'Cylinders': 8, 'Displacement': 454, 'Horsepower': 220, 'Weight_in_lbs': 4354, 'Acceleration': 9, 'Year': '1970-01-01', 'Origin': 'USA'}\n",
      "{'_id': ObjectId('64d3881268d05709c638735a'), 'Name': 'plymouth fury iii', 'Miles_per_Gallon': 14, 'Cylinders': 8, 'Displacement': 440, 'Horsepower': 215, 'Weight_in_lbs': 4312, 'Acceleration': 8.5, 'Year': '1970-01-01', 'Origin': 'USA'}\n",
      "{'_id': ObjectId('64d3881268d05709c638735b'), 'Name': 'pontiac catalina', 'Miles_per_Gallon': 14, 'Cylinders': 8, 'Displacement': 455, 'Horsepower': 225, 'Weight_in_lbs': 4425, 'Acceleration': 10, 'Year': '1970-01-01', 'Origin': 'USA'}\n",
      "{'_id': ObjectId('64d3881268d05709c638735c'), 'Name': 'amc ambassador dpl', 'Miles_per_Gallon': 15, 'Cylinders': 8, 'Displacement': 390, 'Horsepower': 190, 'Weight_in_lbs': 3850, 'Acceleration': 8.5, 'Year': '1970-01-01', 'Origin': 'USA'}\n",
      "{'_id': ObjectId('64d3881268d05709c638735d'), 'Name': 'citroen ds-21 pallas', 'Miles_per_Gallon': None, 'Cylinders': 4, 'Displacement': 133, 'Horsepower': 115, 'Weight_in_lbs': 3090, 'Acceleration': 17.5, 'Year': '1970-01-01', 'Origin': 'Europe'}\n",
      "{'_id': ObjectId('64d3881268d05709c638735e'), 'Name': 'chevrolet chevelle concours (sw)', 'Miles_per_Gallon': None, 'Cylinders': 8, 'Displacement': 350, 'Horsepower': 165, 'Weight_in_lbs': 4142, 'Acceleration': 11.5, 'Year': '1970-01-01', 'Origin': 'USA'}\n",
      "{'_id': ObjectId('64d3881268d05709c638735f'), 'Name': 'ford torino (sw)', 'Miles_per_Gallon': None, 'Cylinders': 8, 'Displacement': 351, 'Horsepower': 153, 'Weight_in_lbs': 4034, 'Acceleration': 11, 'Year': '1970-01-01', 'Origin': 'USA'}\n",
      "{'_id': ObjectId('64d3881268d05709c6387360'), 'Name': 'plymouth satellite (sw)', 'Miles_per_Gallon': None, 'Cylinders': 8, 'Displacement': 383, 'Horsepower': 175, 'Weight_in_lbs': 4166, 'Acceleration': 10.5, 'Year': '1970-01-01', 'Origin': 'USA'}\n",
      "{'_id': ObjectId('64d3881268d05709c6387361'), 'Name': 'amc rebel sst (sw)', 'Miles_per_Gallon': None, 'Cylinders': 8, 'Displacement': 360, 'Horsepower': 175, 'Weight_in_lbs': 3850, 'Acceleration': 11, 'Year': '1970-01-01', 'Origin': 'USA'}\n",
      "{'_id': ObjectId('64d3881268d05709c6387362'), 'Name': 'dodge challenger se', 'Miles_per_Gallon': 15, 'Cylinders': 8, 'Displacement': 383, 'Horsepower': 170, 'Weight_in_lbs': 3563, 'Acceleration': 10, 'Year': '1970-01-01', 'Origin': 'USA'}\n",
      "{'_id': ObjectId('64d3881268d05709c6387363'), 'Name': \"plymouth 'cuda 340\", 'Miles_per_Gallon': 14, 'Cylinders': 8, 'Displacement': 340, 'Horsepower': 160, 'Weight_in_lbs': 3609, 'Acceleration': 8, 'Year': '1970-01-01', 'Origin': 'USA'}\n",
      "{'_id': ObjectId('64d3881268d05709c6387364'), 'Name': 'ford mustang boss 302', 'Miles_per_Gallon': None, 'Cylinders': 8, 'Displacement': 302, 'Horsepower': 140, 'Weight_in_lbs': 3353, 'Acceleration': 8, 'Year': '1970-01-01', 'Origin': 'USA'}\n",
      "{'_id': ObjectId('64d3881268d05709c6387365'), 'Name': 'chevrolet monte carlo', 'Miles_per_Gallon': 15, 'Cylinders': 8, 'Displacement': 400, 'Horsepower': 150, 'Weight_in_lbs': 3761, 'Acceleration': 9.5, 'Year': '1970-01-01', 'Origin': 'USA'}\n",
      "{'_id': ObjectId('64d3881268d05709c6387366'), 'Name': 'buick estate wagon (sw)', 'Miles_per_Gallon': 14, 'Cylinders': 8, 'Displacement': 455, 'Horsepower': 225, 'Weight_in_lbs': 3086, 'Acceleration': 10, 'Year': '1970-01-01', 'Origin': 'USA'}\n",
      "{'_id': ObjectId('64d3881268d05709c6387367'), 'Name': 'toyota corona mark ii', 'Miles_per_Gallon': 24, 'Cylinders': 4, 'Displacement': 113, 'Horsepower': 95, 'Weight_in_lbs': 2372, 'Acceleration': 15, 'Year': '1970-01-01', 'Origin': 'Japan'}\n",
      "{'_id': ObjectId('64d3881268d05709c6387368'), 'Name': 'plymouth duster', 'Miles_per_Gallon': 22, 'Cylinders': 6, 'Displacement': 198, 'Horsepower': 95, 'Weight_in_lbs': 2833, 'Acceleration': 15.5, 'Year': '1970-01-01', 'Origin': 'USA'}\n",
      "{'_id': ObjectId('64d3881268d05709c6387369'), 'Name': 'amc hornet', 'Miles_per_Gallon': 18, 'Cylinders': 6, 'Displacement': 199, 'Horsepower': 97, 'Weight_in_lbs': 2774, 'Acceleration': 15.5, 'Year': '1970-01-01', 'Origin': 'USA'}\n",
      "{'_id': ObjectId('64d3881268d05709c638736a'), 'Name': 'ford maverick', 'Miles_per_Gallon': 21, 'Cylinders': 6, 'Displacement': 200, 'Horsepower': 85, 'Weight_in_lbs': 2587, 'Acceleration': 16, 'Year': '1970-01-01', 'Origin': 'USA'}\n",
      "{'_id': ObjectId('64d3881268d05709c638736b'), 'Name': 'datsun pl510', 'Miles_per_Gallon': 27, 'Cylinders': 4, 'Displacement': 97, 'Horsepower': 88, 'Weight_in_lbs': 2130, 'Acceleration': 14.5, 'Year': '1970-01-01', 'Origin': 'Japan'}\n",
      "{'_id': ObjectId('64d3881268d05709c638736c'), 'Name': 'volkswagen 1131 deluxe sedan', 'Miles_per_Gallon': 26, 'Cylinders': 4, 'Displacement': 97, 'Horsepower': 46, 'Weight_in_lbs': 1835, 'Acceleration': 20.5, 'Year': '1970-01-01', 'Origin': 'Europe'}\n",
      "{'_id': ObjectId('64d3881268d05709c638736d'), 'Name': 'peugeot 504', 'Miles_per_Gallon': 25, 'Cylinders': 4, 'Displacement': 110, 'Horsepower': 87, 'Weight_in_lbs': 2672, 'Acceleration': 17.5, 'Year': '1970-01-01', 'Origin': 'Europe'}\n",
      "{'_id': ObjectId('64d3881268d05709c638736e'), 'Name': 'audi 100 ls', 'Miles_per_Gallon': 24, 'Cylinders': 4, 'Displacement': 107, 'Horsepower': 90, 'Weight_in_lbs': 2430, 'Acceleration': 14.5, 'Year': '1970-01-01', 'Origin': 'Europe'}\n",
      "{'_id': ObjectId('64d3881268d05709c638736f'), 'Name': 'saab 99e', 'Miles_per_Gallon': 25, 'Cylinders': 4, 'Displacement': 104, 'Horsepower': 95, 'Weight_in_lbs': 2375, 'Acceleration': 17.5, 'Year': '1970-01-01', 'Origin': 'Europe'}\n",
      "{'_id': ObjectId('64d3881268d05709c6387370'), 'Name': 'bmw 2002', 'Miles_per_Gallon': 26, 'Cylinders': 4, 'Displacement': 121, 'Horsepower': 113, 'Weight_in_lbs': 2234, 'Acceleration': 12.5, 'Year': '1970-01-01', 'Origin': 'Europe'}\n",
      "{'_id': ObjectId('64d3881268d05709c6387371'), 'Name': 'amc gremlin', 'Miles_per_Gallon': 21, 'Cylinders': 6, 'Displacement': 199, 'Horsepower': 90, 'Weight_in_lbs': 2648, 'Acceleration': 15, 'Year': '1970-01-01', 'Origin': 'USA'}\n",
      "{'_id': ObjectId('64d3881268d05709c6387372'), 'Name': 'ford f250', 'Miles_per_Gallon': 10, 'Cylinders': 8, 'Displacement': 360, 'Horsepower': 215, 'Weight_in_lbs': 4615, 'Acceleration': 14, 'Year': '1970-01-01', 'Origin': 'USA'}\n",
      "{'_id': ObjectId('64d3881268d05709c6387373'), 'Name': 'chevy c20', 'Miles_per_Gallon': 10, 'Cylinders': 8, 'Displacement': 307, 'Horsepower': 200, 'Weight_in_lbs': 4376, 'Acceleration': 15, 'Year': '1970-01-01', 'Origin': 'USA'}\n",
      "{'_id': ObjectId('64d3881268d05709c6387374'), 'Name': 'dodge d200', 'Miles_per_Gallon': 11, 'Cylinders': 8, 'Displacement': 318, 'Horsepower': 210, 'Weight_in_lbs': 4382, 'Acceleration': 13.5, 'Year': '1970-01-01', 'Origin': 'USA'}\n",
      "{'_id': ObjectId('64d3881268d05709c6387375'), 'Name': 'hi 1200d', 'Miles_per_Gallon': 9, 'Cylinders': 8, 'Displacement': 304, 'Horsepower': 193, 'Weight_in_lbs': 4732, 'Acceleration': 18.5, 'Year': '1970-01-01', 'Origin': 'USA'}\n",
      "{'_id': ObjectId('64d3881268d05709c6387376'), 'Name': 'datsun pl510', 'Miles_per_Gallon': 27, 'Cylinders': 4, 'Displacement': 97, 'Horsepower': 88, 'Weight_in_lbs': 2130, 'Acceleration': 14.5, 'Year': '1971-01-01', 'Origin': 'Japan'}\n",
      "{'_id': ObjectId('64d3881268d05709c6387377'), 'Name': 'chevrolet vega 2300', 'Miles_per_Gallon': 28, 'Cylinders': 4, 'Displacement': 140, 'Horsepower': 90, 'Weight_in_lbs': 2264, 'Acceleration': 15.5, 'Year': '1971-01-01', 'Origin': 'USA'}\n",
      "{'_id': ObjectId('64d3881268d05709c6387378'), 'Name': 'toyota corona', 'Miles_per_Gallon': 25, 'Cylinders': 4, 'Displacement': 113, 'Horsepower': 95, 'Weight_in_lbs': 2228, 'Acceleration': 14, 'Year': '1971-01-01', 'Origin': 'Japan'}\n",
      "{'_id': ObjectId('64d3881268d05709c6387379'), 'Name': 'ford pinto', 'Miles_per_Gallon': 25, 'Cylinders': 4, 'Displacement': 98, 'Horsepower': None, 'Weight_in_lbs': 2046, 'Acceleration': 19, 'Year': '1971-01-01', 'Origin': 'USA'}\n",
      "{'_id': ObjectId('64d3881268d05709c638737a'), 'Name': 'volkswagen super beetle 117', 'Miles_per_Gallon': None, 'Cylinders': 4, 'Displacement': 97, 'Horsepower': 48, 'Weight_in_lbs': 1978, 'Acceleration': 20, 'Year': '1971-01-01', 'Origin': 'Europe'}\n",
      "{'_id': ObjectId('64d3881268d05709c638737b'), 'Name': 'amc gremlin', 'Miles_per_Gallon': 19, 'Cylinders': 6, 'Displacement': 232, 'Horsepower': 100, 'Weight_in_lbs': 2634, 'Acceleration': 13, 'Year': '1971-01-01', 'Origin': 'USA'}\n",
      "{'_id': ObjectId('64d3881268d05709c638737c'), 'Name': 'plymouth satellite custom', 'Miles_per_Gallon': 16, 'Cylinders': 6, 'Displacement': 225, 'Horsepower': 105, 'Weight_in_lbs': 3439, 'Acceleration': 15.5, 'Year': '1971-01-01', 'Origin': 'USA'}\n",
      "{'_id': ObjectId('64d3881268d05709c638737d'), 'Name': 'chevrolet chevelle malibu', 'Miles_per_Gallon': 17, 'Cylinders': 6, 'Displacement': 250, 'Horsepower': 100, 'Weight_in_lbs': 3329, 'Acceleration': 15.5, 'Year': '1971-01-01', 'Origin': 'USA'}\n",
      "{'_id': ObjectId('64d3881268d05709c638737e'), 'Name': 'ford torino 500', 'Miles_per_Gallon': 19, 'Cylinders': 6, 'Displacement': 250, 'Horsepower': 88, 'Weight_in_lbs': 3302, 'Acceleration': 15.5, 'Year': '1971-01-01', 'Origin': 'USA'}\n",
      "{'_id': ObjectId('64d3881268d05709c638737f'), 'Name': 'amc matador', 'Miles_per_Gallon': 18, 'Cylinders': 6, 'Displacement': 232, 'Horsepower': 100, 'Weight_in_lbs': 3288, 'Acceleration': 15.5, 'Year': '1971-01-01', 'Origin': 'USA'}\n",
      "{'_id': ObjectId('64d3881268d05709c6387380'), 'Name': 'chevrolet impala', 'Miles_per_Gallon': 14, 'Cylinders': 8, 'Displacement': 350, 'Horsepower': 165, 'Weight_in_lbs': 4209, 'Acceleration': 12, 'Year': '1971-01-01', 'Origin': 'USA'}\n",
      "{'_id': ObjectId('64d3881268d05709c6387381'), 'Name': 'pontiac catalina brougham', 'Miles_per_Gallon': 14, 'Cylinders': 8, 'Displacement': 400, 'Horsepower': 175, 'Weight_in_lbs': 4464, 'Acceleration': 11.5, 'Year': '1971-01-01', 'Origin': 'USA'}\n",
      "{'_id': ObjectId('64d3881268d05709c6387382'), 'Name': 'ford galaxie 500', 'Miles_per_Gallon': 14, 'Cylinders': 8, 'Displacement': 351, 'Horsepower': 153, 'Weight_in_lbs': 4154, 'Acceleration': 13.5, 'Year': '1971-01-01', 'Origin': 'USA'}\n",
      "{'_id': ObjectId('64d3881268d05709c6387383'), 'Name': 'plymouth fury iii', 'Miles_per_Gallon': 14, 'Cylinders': 8, 'Displacement': 318, 'Horsepower': 150, 'Weight_in_lbs': 4096, 'Acceleration': 13, 'Year': '1971-01-01', 'Origin': 'USA'}\n",
      "{'_id': ObjectId('64d3881268d05709c6387384'), 'Name': 'dodge monaco (sw)', 'Miles_per_Gallon': 12, 'Cylinders': 8, 'Displacement': 383, 'Horsepower': 180, 'Weight_in_lbs': 4955, 'Acceleration': 11.5, 'Year': '1971-01-01', 'Origin': 'USA'}\n",
      "{'_id': ObjectId('64d3881268d05709c6387385'), 'Name': 'ford country squire (sw)', 'Miles_per_Gallon': 13, 'Cylinders': 8, 'Displacement': 400, 'Horsepower': 170, 'Weight_in_lbs': 4746, 'Acceleration': 12, 'Year': '1971-01-01', 'Origin': 'USA'}\n",
      "{'_id': ObjectId('64d3881268d05709c6387386'), 'Name': 'pontiac safari (sw)', 'Miles_per_Gallon': 13, 'Cylinders': 8, 'Displacement': 400, 'Horsepower': 175, 'Weight_in_lbs': 5140, 'Acceleration': 12, 'Year': '1971-01-01', 'Origin': 'USA'}\n",
      "{'_id': ObjectId('64d3881268d05709c6387387'), 'Name': 'amc hornet sportabout (sw)', 'Miles_per_Gallon': 18, 'Cylinders': 6, 'Displacement': 258, 'Horsepower': 110, 'Weight_in_lbs': 2962, 'Acceleration': 13.5, 'Year': '1971-01-01', 'Origin': 'USA'}\n",
      "{'_id': ObjectId('64d3881268d05709c6387388'), 'Name': 'chevrolet vega (sw)', 'Miles_per_Gallon': 22, 'Cylinders': 4, 'Displacement': 140, 'Horsepower': 72, 'Weight_in_lbs': 2408, 'Acceleration': 19, 'Year': '1971-01-01', 'Origin': 'USA'}\n",
      "{'_id': ObjectId('64d3881268d05709c6387389'), 'Name': 'pontiac firebird', 'Miles_per_Gallon': 19, 'Cylinders': 6, 'Displacement': 250, 'Horsepower': 100, 'Weight_in_lbs': 3282, 'Acceleration': 15, 'Year': '1971-01-01', 'Origin': 'USA'}\n",
      "{'_id': ObjectId('64d3881268d05709c638738a'), 'Name': 'ford mustang', 'Miles_per_Gallon': 18, 'Cylinders': 6, 'Displacement': 250, 'Horsepower': 88, 'Weight_in_lbs': 3139, 'Acceleration': 14.5, 'Year': '1971-01-01', 'Origin': 'USA'}\n",
      "{'_id': ObjectId('64d3881268d05709c638738b'), 'Name': 'mercury capri 2000', 'Miles_per_Gallon': 23, 'Cylinders': 4, 'Displacement': 122, 'Horsepower': 86, 'Weight_in_lbs': 2220, 'Acceleration': 14, 'Year': '1971-01-01', 'Origin': 'USA'}\n",
      "{'_id': ObjectId('64d3881268d05709c638738c'), 'Name': 'opel 1900', 'Miles_per_Gallon': 28, 'Cylinders': 4, 'Displacement': 116, 'Horsepower': 90, 'Weight_in_lbs': 2123, 'Acceleration': 14, 'Year': '1971-01-01', 'Origin': 'Europe'}\n",
      "{'_id': ObjectId('64d3881268d05709c638738d'), 'Name': 'peugeot 304', 'Miles_per_Gallon': 30, 'Cylinders': 4, 'Displacement': 79, 'Horsepower': 70, 'Weight_in_lbs': 2074, 'Acceleration': 19.5, 'Year': '1971-01-01', 'Origin': 'Europe'}\n",
      "{'_id': ObjectId('64d3881268d05709c638738e'), 'Name': 'fiat 124b', 'Miles_per_Gallon': 30, 'Cylinders': 4, 'Displacement': 88, 'Horsepower': 76, 'Weight_in_lbs': 2065, 'Acceleration': 14.5, 'Year': '1971-01-01', 'Origin': 'Europe'}\n",
      "{'_id': ObjectId('64d3881268d05709c638738f'), 'Name': 'toyota corolla 1200', 'Miles_per_Gallon': 31, 'Cylinders': 4, 'Displacement': 71, 'Horsepower': 65, 'Weight_in_lbs': 1773, 'Acceleration': 19, 'Year': '1971-01-01', 'Origin': 'Japan'}\n",
      "{'_id': ObjectId('64d3881268d05709c6387390'), 'Name': 'datsun 1200', 'Miles_per_Gallon': 35, 'Cylinders': 4, 'Displacement': 72, 'Horsepower': 69, 'Weight_in_lbs': 1613, 'Acceleration': 18, 'Year': '1971-01-01', 'Origin': 'Japan'}\n",
      "{'_id': ObjectId('64d3881268d05709c6387391'), 'Name': 'volkswagen model 111', 'Miles_per_Gallon': 27, 'Cylinders': 4, 'Displacement': 97, 'Horsepower': 60, 'Weight_in_lbs': 1834, 'Acceleration': 19, 'Year': '1971-01-01', 'Origin': 'Europe'}\n",
      "{'_id': ObjectId('64d3881268d05709c6387392'), 'Name': 'plymouth cricket', 'Miles_per_Gallon': 26, 'Cylinders': 4, 'Displacement': 91, 'Horsepower': 70, 'Weight_in_lbs': 1955, 'Acceleration': 20.5, 'Year': '1971-01-01', 'Origin': 'USA'}\n",
      "{'_id': ObjectId('64d3881268d05709c6387393'), 'Name': 'toyota corona hardtop', 'Miles_per_Gallon': 24, 'Cylinders': 4, 'Displacement': 113, 'Horsepower': 95, 'Weight_in_lbs': 2278, 'Acceleration': 15.5, 'Year': '1972-01-01', 'Origin': 'Japan'}\n",
      "{'_id': ObjectId('64d3881268d05709c6387394'), 'Name': 'dodge colt hardtop', 'Miles_per_Gallon': 25, 'Cylinders': 4, 'Displacement': 97.5, 'Horsepower': 80, 'Weight_in_lbs': 2126, 'Acceleration': 17, 'Year': '1972-01-01', 'Origin': 'USA'}\n",
      "{'_id': ObjectId('64d3881268d05709c6387395'), 'Name': 'volkswagen type 3', 'Miles_per_Gallon': 23, 'Cylinders': 4, 'Displacement': 97, 'Horsepower': 54, 'Weight_in_lbs': 2254, 'Acceleration': 23.5, 'Year': '1972-01-01', 'Origin': 'Europe'}\n",
      "{'_id': ObjectId('64d3881268d05709c6387396'), 'Name': 'chevrolet vega', 'Miles_per_Gallon': 20, 'Cylinders': 4, 'Displacement': 140, 'Horsepower': 90, 'Weight_in_lbs': 2408, 'Acceleration': 19.5, 'Year': '1972-01-01', 'Origin': 'USA'}\n",
      "{'_id': ObjectId('64d3881268d05709c6387397'), 'Name': 'ford pinto runabout', 'Miles_per_Gallon': 21, 'Cylinders': 4, 'Displacement': 122, 'Horsepower': 86, 'Weight_in_lbs': 2226, 'Acceleration': 16.5, 'Year': '1972-01-01', 'Origin': 'USA'}\n",
      "{'_id': ObjectId('64d3881268d05709c6387398'), 'Name': 'chevrolet impala', 'Miles_per_Gallon': 13, 'Cylinders': 8, 'Displacement': 350, 'Horsepower': 165, 'Weight_in_lbs': 4274, 'Acceleration': 12, 'Year': '1972-01-01', 'Origin': 'USA'}\n",
      "{'_id': ObjectId('64d3881268d05709c6387399'), 'Name': 'pontiac catalina', 'Miles_per_Gallon': 14, 'Cylinders': 8, 'Displacement': 400, 'Horsepower': 175, 'Weight_in_lbs': 4385, 'Acceleration': 12, 'Year': '1972-01-01', 'Origin': 'USA'}\n",
      "{'_id': ObjectId('64d3881268d05709c638739a'), 'Name': 'plymouth fury iii', 'Miles_per_Gallon': 15, 'Cylinders': 8, 'Displacement': 318, 'Horsepower': 150, 'Weight_in_lbs': 4135, 'Acceleration': 13.5, 'Year': '1972-01-01', 'Origin': 'USA'}\n",
      "{'_id': ObjectId('64d3881268d05709c638739b'), 'Name': 'ford galaxie 500', 'Miles_per_Gallon': 14, 'Cylinders': 8, 'Displacement': 351, 'Horsepower': 153, 'Weight_in_lbs': 4129, 'Acceleration': 13, 'Year': '1972-01-01', 'Origin': 'USA'}\n",
      "{'_id': ObjectId('64d3881268d05709c638739c'), 'Name': 'amc ambassador sst', 'Miles_per_Gallon': 17, 'Cylinders': 8, 'Displacement': 304, 'Horsepower': 150, 'Weight_in_lbs': 3672, 'Acceleration': 11.5, 'Year': '1972-01-01', 'Origin': 'USA'}\n",
      "{'_id': ObjectId('64d3881268d05709c638739d'), 'Name': 'mercury marquis', 'Miles_per_Gallon': 11, 'Cylinders': 8, 'Displacement': 429, 'Horsepower': 208, 'Weight_in_lbs': 4633, 'Acceleration': 11, 'Year': '1972-01-01', 'Origin': 'USA'}\n",
      "{'_id': ObjectId('64d3881268d05709c638739e'), 'Name': 'buick lesabre custom', 'Miles_per_Gallon': 13, 'Cylinders': 8, 'Displacement': 350, 'Horsepower': 155, 'Weight_in_lbs': 4502, 'Acceleration': 13.5, 'Year': '1972-01-01', 'Origin': 'USA'}\n",
      "{'_id': ObjectId('64d3881268d05709c638739f'), 'Name': 'oldsmobile delta 88 royale', 'Miles_per_Gallon': 12, 'Cylinders': 8, 'Displacement': 350, 'Horsepower': 160, 'Weight_in_lbs': 4456, 'Acceleration': 13.5, 'Year': '1972-01-01', 'Origin': 'USA'}\n",
      "{'_id': ObjectId('64d3881268d05709c63873a0'), 'Name': 'chrysler newport royal', 'Miles_per_Gallon': 13, 'Cylinders': 8, 'Displacement': 400, 'Horsepower': 190, 'Weight_in_lbs': 4422, 'Acceleration': 12.5, 'Year': '1972-01-01', 'Origin': 'USA'}\n",
      "{'_id': ObjectId('64d3881268d05709c63873a1'), 'Name': 'mazda rx2 coupe', 'Miles_per_Gallon': 19, 'Cylinders': 3, 'Displacement': 70, 'Horsepower': 97, 'Weight_in_lbs': 2330, 'Acceleration': 13.5, 'Year': '1972-01-01', 'Origin': 'Japan'}\n",
      "{'_id': ObjectId('64d3881268d05709c63873a2'), 'Name': 'amc matador (sw)', 'Miles_per_Gallon': 15, 'Cylinders': 8, 'Displacement': 304, 'Horsepower': 150, 'Weight_in_lbs': 3892, 'Acceleration': 12.5, 'Year': '1972-01-01', 'Origin': 'USA'}\n",
      "{'_id': ObjectId('64d3881268d05709c63873a3'), 'Name': 'chevrolet chevelle concours (sw)', 'Miles_per_Gallon': 13, 'Cylinders': 8, 'Displacement': 307, 'Horsepower': 130, 'Weight_in_lbs': 4098, 'Acceleration': 14, 'Year': '1972-01-01', 'Origin': 'USA'}\n",
      "{'_id': ObjectId('64d3881268d05709c63873a4'), 'Name': 'ford gran torino (sw)', 'Miles_per_Gallon': 13, 'Cylinders': 8, 'Displacement': 302, 'Horsepower': 140, 'Weight_in_lbs': 4294, 'Acceleration': 16, 'Year': '1972-01-01', 'Origin': 'USA'}\n",
      "{'_id': ObjectId('64d3881268d05709c63873a5'), 'Name': 'plymouth satellite custom (sw)', 'Miles_per_Gallon': 14, 'Cylinders': 8, 'Displacement': 318, 'Horsepower': 150, 'Weight_in_lbs': 4077, 'Acceleration': 14, 'Year': '1972-01-01', 'Origin': 'USA'}\n",
      "{'_id': ObjectId('64d3881268d05709c63873a6'), 'Name': 'volvo 145e (sw)', 'Miles_per_Gallon': 18, 'Cylinders': 4, 'Displacement': 121, 'Horsepower': 112, 'Weight_in_lbs': 2933, 'Acceleration': 14.5, 'Year': '1972-01-01', 'Origin': 'Europe'}\n",
      "{'_id': ObjectId('64d3881268d05709c63873a7'), 'Name': 'volkswagen 411 (sw)', 'Miles_per_Gallon': 22, 'Cylinders': 4, 'Displacement': 121, 'Horsepower': 76, 'Weight_in_lbs': 2511, 'Acceleration': 18, 'Year': '1972-01-01', 'Origin': 'Europe'}\n",
      "{'_id': ObjectId('64d3881268d05709c63873a8'), 'Name': 'peugeot 504 (sw)', 'Miles_per_Gallon': 21, 'Cylinders': 4, 'Displacement': 120, 'Horsepower': 87, 'Weight_in_lbs': 2979, 'Acceleration': 19.5, 'Year': '1972-01-01', 'Origin': 'Europe'}\n",
      "{'_id': ObjectId('64d3881268d05709c63873a9'), 'Name': 'renault 12 (sw)', 'Miles_per_Gallon': 26, 'Cylinders': 4, 'Displacement': 96, 'Horsepower': 69, 'Weight_in_lbs': 2189, 'Acceleration': 18, 'Year': '1972-01-01', 'Origin': 'Europe'}\n",
      "{'_id': ObjectId('64d3881268d05709c63873aa'), 'Name': 'ford pinto (sw)', 'Miles_per_Gallon': 22, 'Cylinders': 4, 'Displacement': 122, 'Horsepower': 86, 'Weight_in_lbs': 2395, 'Acceleration': 16, 'Year': '1972-01-01', 'Origin': 'USA'}\n",
      "{'_id': ObjectId('64d3881268d05709c63873ab'), 'Name': 'datsun 510 (sw)', 'Miles_per_Gallon': 28, 'Cylinders': 4, 'Displacement': 97, 'Horsepower': 92, 'Weight_in_lbs': 2288, 'Acceleration': 17, 'Year': '1972-01-01', 'Origin': 'Japan'}\n",
      "{'_id': ObjectId('64d3881268d05709c63873ac'), 'Name': 'toyouta corona mark ii (sw)', 'Miles_per_Gallon': 23, 'Cylinders': 4, 'Displacement': 120, 'Horsepower': 97, 'Weight_in_lbs': 2506, 'Acceleration': 14.5, 'Year': '1972-01-01', 'Origin': 'Japan'}\n",
      "{'_id': ObjectId('64d3881268d05709c63873ad'), 'Name': 'dodge colt (sw)', 'Miles_per_Gallon': 28, 'Cylinders': 4, 'Displacement': 98, 'Horsepower': 80, 'Weight_in_lbs': 2164, 'Acceleration': 15, 'Year': '1972-01-01', 'Origin': 'USA'}\n",
      "{'_id': ObjectId('64d3881268d05709c63873ae'), 'Name': 'toyota corolla 1600 (sw)', 'Miles_per_Gallon': 27, 'Cylinders': 4, 'Displacement': 97, 'Horsepower': 88, 'Weight_in_lbs': 2100, 'Acceleration': 16.5, 'Year': '1972-01-01', 'Origin': 'Japan'}\n",
      "{'_id': ObjectId('64d3881268d05709c63873af'), 'Name': 'buick century 350', 'Miles_per_Gallon': 13, 'Cylinders': 8, 'Displacement': 350, 'Horsepower': 175, 'Weight_in_lbs': 4100, 'Acceleration': 13, 'Year': '1973-01-01', 'Origin': 'USA'}\n",
      "{'_id': ObjectId('64d3881268d05709c63873b0'), 'Name': 'amc matador', 'Miles_per_Gallon': 14, 'Cylinders': 8, 'Displacement': 304, 'Horsepower': 150, 'Weight_in_lbs': 3672, 'Acceleration': 11.5, 'Year': '1973-01-01', 'Origin': 'USA'}\n",
      "{'_id': ObjectId('64d3881268d05709c63873b1'), 'Name': 'chevrolet malibu', 'Miles_per_Gallon': 13, 'Cylinders': 8, 'Displacement': 350, 'Horsepower': 145, 'Weight_in_lbs': 3988, 'Acceleration': 13, 'Year': '1973-01-01', 'Origin': 'USA'}\n",
      "{'_id': ObjectId('64d3881268d05709c63873b2'), 'Name': 'ford gran torino', 'Miles_per_Gallon': 14, 'Cylinders': 8, 'Displacement': 302, 'Horsepower': 137, 'Weight_in_lbs': 4042, 'Acceleration': 14.5, 'Year': '1973-01-01', 'Origin': 'USA'}\n",
      "{'_id': ObjectId('64d3881268d05709c63873b3'), 'Name': 'dodge coronet custom', 'Miles_per_Gallon': 15, 'Cylinders': 8, 'Displacement': 318, 'Horsepower': 150, 'Weight_in_lbs': 3777, 'Acceleration': 12.5, 'Year': '1973-01-01', 'Origin': 'USA'}\n",
      "{'_id': ObjectId('64d3881268d05709c63873b4'), 'Name': 'mercury marquis brougham', 'Miles_per_Gallon': 12, 'Cylinders': 8, 'Displacement': 429, 'Horsepower': 198, 'Weight_in_lbs': 4952, 'Acceleration': 11.5, 'Year': '1973-01-01', 'Origin': 'USA'}\n",
      "{'_id': ObjectId('64d3881268d05709c63873b5'), 'Name': 'chevrolet caprice classic', 'Miles_per_Gallon': 13, 'Cylinders': 8, 'Displacement': 400, 'Horsepower': 150, 'Weight_in_lbs': 4464, 'Acceleration': 12, 'Year': '1973-01-01', 'Origin': 'USA'}\n",
      "{'_id': ObjectId('64d3881268d05709c63873b6'), 'Name': 'ford ltd', 'Miles_per_Gallon': 13, 'Cylinders': 8, 'Displacement': 351, 'Horsepower': 158, 'Weight_in_lbs': 4363, 'Acceleration': 13, 'Year': '1973-01-01', 'Origin': 'USA'}\n",
      "{'_id': ObjectId('64d3881268d05709c63873b7'), 'Name': 'plymouth fury gran sedan', 'Miles_per_Gallon': 14, 'Cylinders': 8, 'Displacement': 318, 'Horsepower': 150, 'Weight_in_lbs': 4237, 'Acceleration': 14.5, 'Year': '1973-01-01', 'Origin': 'USA'}\n",
      "{'_id': ObjectId('64d3881268d05709c63873b8'), 'Name': 'chrysler new yorker brougham', 'Miles_per_Gallon': 13, 'Cylinders': 8, 'Displacement': 440, 'Horsepower': 215, 'Weight_in_lbs': 4735, 'Acceleration': 11, 'Year': '1973-01-01', 'Origin': 'USA'}\n",
      "{'_id': ObjectId('64d3881268d05709c63873b9'), 'Name': 'buick electra 225 custom', 'Miles_per_Gallon': 12, 'Cylinders': 8, 'Displacement': 455, 'Horsepower': 225, 'Weight_in_lbs': 4951, 'Acceleration': 11, 'Year': '1973-01-01', 'Origin': 'USA'}\n",
      "{'_id': ObjectId('64d3881268d05709c63873ba'), 'Name': 'amc ambassador brougham', 'Miles_per_Gallon': 13, 'Cylinders': 8, 'Displacement': 360, 'Horsepower': 175, 'Weight_in_lbs': 3821, 'Acceleration': 11, 'Year': '1973-01-01', 'Origin': 'USA'}\n",
      "{'_id': ObjectId('64d3881268d05709c63873bb'), 'Name': 'plymouth valiant', 'Miles_per_Gallon': 18, 'Cylinders': 6, 'Displacement': 225, 'Horsepower': 105, 'Weight_in_lbs': 3121, 'Acceleration': 16.5, 'Year': '1973-01-01', 'Origin': 'USA'}\n",
      "{'_id': ObjectId('64d3881268d05709c63873bc'), 'Name': 'chevrolet nova custom', 'Miles_per_Gallon': 16, 'Cylinders': 6, 'Displacement': 250, 'Horsepower': 100, 'Weight_in_lbs': 3278, 'Acceleration': 18, 'Year': '1973-01-01', 'Origin': 'USA'}\n",
      "{'_id': ObjectId('64d3881268d05709c63873bd'), 'Name': 'amc hornet', 'Miles_per_Gallon': 18, 'Cylinders': 6, 'Displacement': 232, 'Horsepower': 100, 'Weight_in_lbs': 2945, 'Acceleration': 16, 'Year': '1973-01-01', 'Origin': 'USA'}\n",
      "{'_id': ObjectId('64d3881268d05709c63873be'), 'Name': 'ford maverick', 'Miles_per_Gallon': 18, 'Cylinders': 6, 'Displacement': 250, 'Horsepower': 88, 'Weight_in_lbs': 3021, 'Acceleration': 16.5, 'Year': '1973-01-01', 'Origin': 'USA'}\n",
      "{'_id': ObjectId('64d3881268d05709c63873bf'), 'Name': 'plymouth duster', 'Miles_per_Gallon': 23, 'Cylinders': 6, 'Displacement': 198, 'Horsepower': 95, 'Weight_in_lbs': 2904, 'Acceleration': 16, 'Year': '1973-01-01', 'Origin': 'USA'}\n",
      "{'_id': ObjectId('64d3881268d05709c63873c0'), 'Name': 'volkswagen super beetle', 'Miles_per_Gallon': 26, 'Cylinders': 4, 'Displacement': 97, 'Horsepower': 46, 'Weight_in_lbs': 1950, 'Acceleration': 21, 'Year': '1973-01-01', 'Origin': 'Europe'}\n",
      "{'_id': ObjectId('64d3881268d05709c63873c1'), 'Name': 'chevrolet impala', 'Miles_per_Gallon': 11, 'Cylinders': 8, 'Displacement': 400, 'Horsepower': 150, 'Weight_in_lbs': 4997, 'Acceleration': 14, 'Year': '1973-01-01', 'Origin': 'USA'}\n",
      "{'_id': ObjectId('64d3881268d05709c63873c2'), 'Name': 'ford country', 'Miles_per_Gallon': 12, 'Cylinders': 8, 'Displacement': 400, 'Horsepower': 167, 'Weight_in_lbs': 4906, 'Acceleration': 12.5, 'Year': '1973-01-01', 'Origin': 'USA'}\n",
      "{'_id': ObjectId('64d3881268d05709c63873c3'), 'Name': 'plymouth custom suburb', 'Miles_per_Gallon': 13, 'Cylinders': 8, 'Displacement': 360, 'Horsepower': 170, 'Weight_in_lbs': 4654, 'Acceleration': 13, 'Year': '1973-01-01', 'Origin': 'USA'}\n",
      "{'_id': ObjectId('64d3881268d05709c63873c4'), 'Name': 'oldsmobile vista cruiser', 'Miles_per_Gallon': 12, 'Cylinders': 8, 'Displacement': 350, 'Horsepower': 180, 'Weight_in_lbs': 4499, 'Acceleration': 12.5, 'Year': '1973-01-01', 'Origin': 'USA'}\n",
      "{'_id': ObjectId('64d3881268d05709c63873c5'), 'Name': 'amc gremlin', 'Miles_per_Gallon': 18, 'Cylinders': 6, 'Displacement': 232, 'Horsepower': 100, 'Weight_in_lbs': 2789, 'Acceleration': 15, 'Year': '1973-01-01', 'Origin': 'USA'}\n",
      "{'_id': ObjectId('64d3881268d05709c63873c6'), 'Name': 'toyota carina', 'Miles_per_Gallon': 20, 'Cylinders': 4, 'Displacement': 97, 'Horsepower': 88, 'Weight_in_lbs': 2279, 'Acceleration': 19, 'Year': '1973-01-01', 'Origin': 'Japan'}\n",
      "{'_id': ObjectId('64d3881268d05709c63873c7'), 'Name': 'chevrolet vega', 'Miles_per_Gallon': 21, 'Cylinders': 4, 'Displacement': 140, 'Horsepower': 72, 'Weight_in_lbs': 2401, 'Acceleration': 19.5, 'Year': '1973-01-01', 'Origin': 'USA'}\n",
      "{'_id': ObjectId('64d3881268d05709c63873c8'), 'Name': 'datsun 610', 'Miles_per_Gallon': 22, 'Cylinders': 4, 'Displacement': 108, 'Horsepower': 94, 'Weight_in_lbs': 2379, 'Acceleration': 16.5, 'Year': '1973-01-01', 'Origin': 'Japan'}\n",
      "{'_id': ObjectId('64d3881268d05709c63873c9'), 'Name': 'maxda rx3', 'Miles_per_Gallon': 18, 'Cylinders': 3, 'Displacement': 70, 'Horsepower': 90, 'Weight_in_lbs': 2124, 'Acceleration': 13.5, 'Year': '1973-01-01', 'Origin': 'Japan'}\n",
      "{'_id': ObjectId('64d3881268d05709c63873ca'), 'Name': 'ford pinto', 'Miles_per_Gallon': 19, 'Cylinders': 4, 'Displacement': 122, 'Horsepower': 85, 'Weight_in_lbs': 2310, 'Acceleration': 18.5, 'Year': '1973-01-01', 'Origin': 'USA'}\n",
      "{'_id': ObjectId('64d3881268d05709c63873cb'), 'Name': 'mercury capri v6', 'Miles_per_Gallon': 21, 'Cylinders': 6, 'Displacement': 155, 'Horsepower': 107, 'Weight_in_lbs': 2472, 'Acceleration': 14, 'Year': '1973-01-01', 'Origin': 'USA'}\n",
      "{'_id': ObjectId('64d3881268d05709c63873cc'), 'Name': 'fiat 124 sport coupe', 'Miles_per_Gallon': 26, 'Cylinders': 4, 'Displacement': 98, 'Horsepower': 90, 'Weight_in_lbs': 2265, 'Acceleration': 15.5, 'Year': '1973-01-01', 'Origin': 'Europe'}\n",
      "{'_id': ObjectId('64d3881268d05709c63873cd'), 'Name': 'chevrolet monte carlo s', 'Miles_per_Gallon': 15, 'Cylinders': 8, 'Displacement': 350, 'Horsepower': 145, 'Weight_in_lbs': 4082, 'Acceleration': 13, 'Year': '1973-01-01', 'Origin': 'USA'}\n",
      "{'_id': ObjectId('64d3881268d05709c63873ce'), 'Name': 'pontiac grand prix', 'Miles_per_Gallon': 16, 'Cylinders': 8, 'Displacement': 400, 'Horsepower': 230, 'Weight_in_lbs': 4278, 'Acceleration': 9.5, 'Year': '1973-01-01', 'Origin': 'USA'}\n",
      "{'_id': ObjectId('64d3881268d05709c63873cf'), 'Name': 'fiat 128', 'Miles_per_Gallon': 29, 'Cylinders': 4, 'Displacement': 68, 'Horsepower': 49, 'Weight_in_lbs': 1867, 'Acceleration': 19.5, 'Year': '1973-01-01', 'Origin': 'Europe'}\n",
      "{'_id': ObjectId('64d3881268d05709c63873d0'), 'Name': 'opel manta', 'Miles_per_Gallon': 24, 'Cylinders': 4, 'Displacement': 116, 'Horsepower': 75, 'Weight_in_lbs': 2158, 'Acceleration': 15.5, 'Year': '1973-01-01', 'Origin': 'Europe'}\n",
      "{'_id': ObjectId('64d3881268d05709c63873d1'), 'Name': 'audi 100ls', 'Miles_per_Gallon': 20, 'Cylinders': 4, 'Displacement': 114, 'Horsepower': 91, 'Weight_in_lbs': 2582, 'Acceleration': 14, 'Year': '1973-01-01', 'Origin': 'Europe'}\n",
      "{'_id': ObjectId('64d3881268d05709c63873d2'), 'Name': 'volvo 144ea', 'Miles_per_Gallon': 19, 'Cylinders': 4, 'Displacement': 121, 'Horsepower': 112, 'Weight_in_lbs': 2868, 'Acceleration': 15.5, 'Year': '1973-01-01', 'Origin': 'Europe'}\n",
      "{'_id': ObjectId('64d3881268d05709c63873d3'), 'Name': 'dodge dart custom', 'Miles_per_Gallon': 15, 'Cylinders': 8, 'Displacement': 318, 'Horsepower': 150, 'Weight_in_lbs': 3399, 'Acceleration': 11, 'Year': '1973-01-01', 'Origin': 'USA'}\n",
      "{'_id': ObjectId('64d3881268d05709c63873d4'), 'Name': 'saab 99le', 'Miles_per_Gallon': 24, 'Cylinders': 4, 'Displacement': 121, 'Horsepower': 110, 'Weight_in_lbs': 2660, 'Acceleration': 14, 'Year': '1973-01-01', 'Origin': 'Europe'}\n",
      "{'_id': ObjectId('64d3881268d05709c63873d5'), 'Name': 'toyota mark ii', 'Miles_per_Gallon': 20, 'Cylinders': 6, 'Displacement': 156, 'Horsepower': 122, 'Weight_in_lbs': 2807, 'Acceleration': 13.5, 'Year': '1973-01-01', 'Origin': 'Japan'}\n",
      "{'_id': ObjectId('64d3881268d05709c63873d6'), 'Name': 'oldsmobile omega', 'Miles_per_Gallon': 11, 'Cylinders': 8, 'Displacement': 350, 'Horsepower': 180, 'Weight_in_lbs': 3664, 'Acceleration': 11, 'Year': '1973-01-01', 'Origin': 'USA'}\n",
      "{'_id': ObjectId('64d3881268d05709c63873d7'), 'Name': 'plymouth duster', 'Miles_per_Gallon': 20, 'Cylinders': 6, 'Displacement': 198, 'Horsepower': 95, 'Weight_in_lbs': 3102, 'Acceleration': 16.5, 'Year': '1974-01-01', 'Origin': 'USA'}\n",
      "{'_id': ObjectId('64d3881268d05709c63873d8'), 'Name': 'ford maverick', 'Miles_per_Gallon': 21, 'Cylinders': 6, 'Displacement': 200, 'Horsepower': None, 'Weight_in_lbs': 2875, 'Acceleration': 17, 'Year': '1974-01-01', 'Origin': 'USA'}\n",
      "{'_id': ObjectId('64d3881268d05709c63873d9'), 'Name': 'amc hornet', 'Miles_per_Gallon': 19, 'Cylinders': 6, 'Displacement': 232, 'Horsepower': 100, 'Weight_in_lbs': 2901, 'Acceleration': 16, 'Year': '1974-01-01', 'Origin': 'USA'}\n",
      "{'_id': ObjectId('64d3881268d05709c63873da'), 'Name': 'chevrolet nova', 'Miles_per_Gallon': 15, 'Cylinders': 6, 'Displacement': 250, 'Horsepower': 100, 'Weight_in_lbs': 3336, 'Acceleration': 17, 'Year': '1974-01-01', 'Origin': 'USA'}\n",
      "{'_id': ObjectId('64d3881268d05709c63873db'), 'Name': 'datsun b210', 'Miles_per_Gallon': 31, 'Cylinders': 4, 'Displacement': 79, 'Horsepower': 67, 'Weight_in_lbs': 1950, 'Acceleration': 19, 'Year': '1974-01-01', 'Origin': 'Japan'}\n",
      "{'_id': ObjectId('64d3881268d05709c63873dc'), 'Name': 'ford pinto', 'Miles_per_Gallon': 26, 'Cylinders': 4, 'Displacement': 122, 'Horsepower': 80, 'Weight_in_lbs': 2451, 'Acceleration': 16.5, 'Year': '1974-01-01', 'Origin': 'USA'}\n",
      "{'_id': ObjectId('64d3881268d05709c63873dd'), 'Name': 'toyota corolla 1200', 'Miles_per_Gallon': 32, 'Cylinders': 4, 'Displacement': 71, 'Horsepower': 65, 'Weight_in_lbs': 1836, 'Acceleration': 21, 'Year': '1974-01-01', 'Origin': 'Japan'}\n",
      "{'_id': ObjectId('64d3881268d05709c63873de'), 'Name': 'chevrolet vega', 'Miles_per_Gallon': 25, 'Cylinders': 4, 'Displacement': 140, 'Horsepower': 75, 'Weight_in_lbs': 2542, 'Acceleration': 17, 'Year': '1974-01-01', 'Origin': 'USA'}\n",
      "{'_id': ObjectId('64d3881268d05709c63873df'), 'Name': 'chevrolet chevelle malibu classic', 'Miles_per_Gallon': 16, 'Cylinders': 6, 'Displacement': 250, 'Horsepower': 100, 'Weight_in_lbs': 3781, 'Acceleration': 17, 'Year': '1974-01-01', 'Origin': 'USA'}\n",
      "{'_id': ObjectId('64d3881268d05709c63873e0'), 'Name': 'amc matador', 'Miles_per_Gallon': 16, 'Cylinders': 6, 'Displacement': 258, 'Horsepower': 110, 'Weight_in_lbs': 3632, 'Acceleration': 18, 'Year': '1974-01-01', 'Origin': 'USA'}\n",
      "{'_id': ObjectId('64d3881268d05709c63873e1'), 'Name': 'plymouth satellite sebring', 'Miles_per_Gallon': 18, 'Cylinders': 6, 'Displacement': 225, 'Horsepower': 105, 'Weight_in_lbs': 3613, 'Acceleration': 16.5, 'Year': '1974-01-01', 'Origin': 'USA'}\n",
      "{'_id': ObjectId('64d3881268d05709c63873e2'), 'Name': 'ford gran torino', 'Miles_per_Gallon': 16, 'Cylinders': 8, 'Displacement': 302, 'Horsepower': 140, 'Weight_in_lbs': 4141, 'Acceleration': 14, 'Year': '1974-01-01', 'Origin': 'USA'}\n",
      "{'_id': ObjectId('64d3881268d05709c63873e3'), 'Name': 'buick century luxus (sw)', 'Miles_per_Gallon': 13, 'Cylinders': 8, 'Displacement': 350, 'Horsepower': 150, 'Weight_in_lbs': 4699, 'Acceleration': 14.5, 'Year': '1974-01-01', 'Origin': 'USA'}\n",
      "{'_id': ObjectId('64d3881268d05709c63873e4'), 'Name': 'dodge coronet custom (sw)', 'Miles_per_Gallon': 14, 'Cylinders': 8, 'Displacement': 318, 'Horsepower': 150, 'Weight_in_lbs': 4457, 'Acceleration': 13.5, 'Year': '1974-01-01', 'Origin': 'USA'}\n",
      "{'_id': ObjectId('64d3881268d05709c63873e5'), 'Name': 'ford gran torino (sw)', 'Miles_per_Gallon': 14, 'Cylinders': 8, 'Displacement': 302, 'Horsepower': 140, 'Weight_in_lbs': 4638, 'Acceleration': 16, 'Year': '1974-01-01', 'Origin': 'USA'}\n",
      "{'_id': ObjectId('64d3881268d05709c63873e6'), 'Name': 'amc matador (sw)', 'Miles_per_Gallon': 14, 'Cylinders': 8, 'Displacement': 304, 'Horsepower': 150, 'Weight_in_lbs': 4257, 'Acceleration': 15.5, 'Year': '1974-01-01', 'Origin': 'USA'}\n",
      "{'_id': ObjectId('64d3881268d05709c63873e7'), 'Name': 'audi fox', 'Miles_per_Gallon': 29, 'Cylinders': 4, 'Displacement': 98, 'Horsepower': 83, 'Weight_in_lbs': 2219, 'Acceleration': 16.5, 'Year': '1974-01-01', 'Origin': 'Europe'}\n",
      "{'_id': ObjectId('64d3881268d05709c63873e8'), 'Name': 'volkswagen dasher', 'Miles_per_Gallon': 26, 'Cylinders': 4, 'Displacement': 79, 'Horsepower': 67, 'Weight_in_lbs': 1963, 'Acceleration': 15.5, 'Year': '1974-01-01', 'Origin': 'Europe'}\n",
      "{'_id': ObjectId('64d3881268d05709c63873e9'), 'Name': 'opel manta', 'Miles_per_Gallon': 26, 'Cylinders': 4, 'Displacement': 97, 'Horsepower': 78, 'Weight_in_lbs': 2300, 'Acceleration': 14.5, 'Year': '1974-01-01', 'Origin': 'Europe'}\n",
      "{'_id': ObjectId('64d3881268d05709c63873ea'), 'Name': 'toyota corona', 'Miles_per_Gallon': 31, 'Cylinders': 4, 'Displacement': 76, 'Horsepower': 52, 'Weight_in_lbs': 1649, 'Acceleration': 16.5, 'Year': '1974-01-01', 'Origin': 'Japan'}\n",
      "{'_id': ObjectId('64d3881268d05709c63873eb'), 'Name': 'datsun 710', 'Miles_per_Gallon': 32, 'Cylinders': 4, 'Displacement': 83, 'Horsepower': 61, 'Weight_in_lbs': 2003, 'Acceleration': 19, 'Year': '1974-01-01', 'Origin': 'Japan'}\n",
      "{'_id': ObjectId('64d3881268d05709c63873ec'), 'Name': 'dodge colt', 'Miles_per_Gallon': 28, 'Cylinders': 4, 'Displacement': 90, 'Horsepower': 75, 'Weight_in_lbs': 2125, 'Acceleration': 14.5, 'Year': '1974-01-01', 'Origin': 'USA'}\n",
      "{'_id': ObjectId('64d3881268d05709c63873ed'), 'Name': 'fiat 128', 'Miles_per_Gallon': 24, 'Cylinders': 4, 'Displacement': 90, 'Horsepower': 75, 'Weight_in_lbs': 2108, 'Acceleration': 15.5, 'Year': '1974-01-01', 'Origin': 'Europe'}\n",
      "{'_id': ObjectId('64d3881268d05709c63873ee'), 'Name': 'fiat 124 tc', 'Miles_per_Gallon': 26, 'Cylinders': 4, 'Displacement': 116, 'Horsepower': 75, 'Weight_in_lbs': 2246, 'Acceleration': 14, 'Year': '1974-01-01', 'Origin': 'Europe'}\n",
      "{'_id': ObjectId('64d3881268d05709c63873ef'), 'Name': 'honda civic', 'Miles_per_Gallon': 24, 'Cylinders': 4, 'Displacement': 120, 'Horsepower': 97, 'Weight_in_lbs': 2489, 'Acceleration': 15, 'Year': '1974-01-01', 'Origin': 'Japan'}\n",
      "{'_id': ObjectId('64d3881268d05709c63873f0'), 'Name': 'subaru', 'Miles_per_Gallon': 26, 'Cylinders': 4, 'Displacement': 108, 'Horsepower': 93, 'Weight_in_lbs': 2391, 'Acceleration': 15.5, 'Year': '1974-01-01', 'Origin': 'Japan'}\n",
      "{'_id': ObjectId('64d3881268d05709c63873f1'), 'Name': 'fiat x1.9', 'Miles_per_Gallon': 31, 'Cylinders': 4, 'Displacement': 79, 'Horsepower': 67, 'Weight_in_lbs': 2000, 'Acceleration': 16, 'Year': '1974-01-01', 'Origin': 'Europe'}\n",
      "{'_id': ObjectId('64d3881268d05709c63873f2'), 'Name': 'plymouth valiant custom', 'Miles_per_Gallon': 19, 'Cylinders': 6, 'Displacement': 225, 'Horsepower': 95, 'Weight_in_lbs': 3264, 'Acceleration': 16, 'Year': '1975-01-01', 'Origin': 'USA'}\n",
      "{'_id': ObjectId('64d3881268d05709c63873f3'), 'Name': 'chevrolet nova', 'Miles_per_Gallon': 18, 'Cylinders': 6, 'Displacement': 250, 'Horsepower': 105, 'Weight_in_lbs': 3459, 'Acceleration': 16, 'Year': '1975-01-01', 'Origin': 'USA'}\n",
      "{'_id': ObjectId('64d3881268d05709c63873f4'), 'Name': 'mercury monarch', 'Miles_per_Gallon': 15, 'Cylinders': 6, 'Displacement': 250, 'Horsepower': 72, 'Weight_in_lbs': 3432, 'Acceleration': 21, 'Year': '1975-01-01', 'Origin': 'USA'}\n",
      "{'_id': ObjectId('64d3881268d05709c63873f5'), 'Name': 'ford maverick', 'Miles_per_Gallon': 15, 'Cylinders': 6, 'Displacement': 250, 'Horsepower': 72, 'Weight_in_lbs': 3158, 'Acceleration': 19.5, 'Year': '1975-01-01', 'Origin': 'USA'}\n",
      "{'_id': ObjectId('64d3881268d05709c63873f6'), 'Name': 'pontiac catalina', 'Miles_per_Gallon': 16, 'Cylinders': 8, 'Displacement': 400, 'Horsepower': 170, 'Weight_in_lbs': 4668, 'Acceleration': 11.5, 'Year': '1975-01-01', 'Origin': 'USA'}\n",
      "{'_id': ObjectId('64d3881268d05709c63873f7'), 'Name': 'chevrolet bel air', 'Miles_per_Gallon': 15, 'Cylinders': 8, 'Displacement': 350, 'Horsepower': 145, 'Weight_in_lbs': 4440, 'Acceleration': 14, 'Year': '1975-01-01', 'Origin': 'USA'}\n",
      "{'_id': ObjectId('64d3881268d05709c63873f8'), 'Name': 'plymouth grand fury', 'Miles_per_Gallon': 16, 'Cylinders': 8, 'Displacement': 318, 'Horsepower': 150, 'Weight_in_lbs': 4498, 'Acceleration': 14.5, 'Year': '1975-01-01', 'Origin': 'USA'}\n",
      "{'_id': ObjectId('64d3881268d05709c63873f9'), 'Name': 'ford ltd', 'Miles_per_Gallon': 14, 'Cylinders': 8, 'Displacement': 351, 'Horsepower': 148, 'Weight_in_lbs': 4657, 'Acceleration': 13.5, 'Year': '1975-01-01', 'Origin': 'USA'}\n",
      "{'_id': ObjectId('64d3881268d05709c63873fa'), 'Name': 'buick century', 'Miles_per_Gallon': 17, 'Cylinders': 6, 'Displacement': 231, 'Horsepower': 110, 'Weight_in_lbs': 3907, 'Acceleration': 21, 'Year': '1975-01-01', 'Origin': 'USA'}\n",
      "{'_id': ObjectId('64d3881268d05709c63873fb'), 'Name': 'chevroelt chevelle malibu', 'Miles_per_Gallon': 16, 'Cylinders': 6, 'Displacement': 250, 'Horsepower': 105, 'Weight_in_lbs': 3897, 'Acceleration': 18.5, 'Year': '1975-01-01', 'Origin': 'USA'}\n",
      "{'_id': ObjectId('64d3881268d05709c63873fc'), 'Name': 'amc matador', 'Miles_per_Gallon': 15, 'Cylinders': 6, 'Displacement': 258, 'Horsepower': 110, 'Weight_in_lbs': 3730, 'Acceleration': 19, 'Year': '1975-01-01', 'Origin': 'USA'}\n",
      "{'_id': ObjectId('64d3881268d05709c63873fd'), 'Name': 'plymouth fury', 'Miles_per_Gallon': 18, 'Cylinders': 6, 'Displacement': 225, 'Horsepower': 95, 'Weight_in_lbs': 3785, 'Acceleration': 19, 'Year': '1975-01-01', 'Origin': 'USA'}\n",
      "{'_id': ObjectId('64d3881268d05709c63873fe'), 'Name': 'buick skyhawk', 'Miles_per_Gallon': 21, 'Cylinders': 6, 'Displacement': 231, 'Horsepower': 110, 'Weight_in_lbs': 3039, 'Acceleration': 15, 'Year': '1975-01-01', 'Origin': 'USA'}\n",
      "{'_id': ObjectId('64d3881268d05709c63873ff'), 'Name': 'chevrolet monza 2+2', 'Miles_per_Gallon': 20, 'Cylinders': 8, 'Displacement': 262, 'Horsepower': 110, 'Weight_in_lbs': 3221, 'Acceleration': 13.5, 'Year': '1975-01-01', 'Origin': 'USA'}\n",
      "{'_id': ObjectId('64d3881268d05709c6387400'), 'Name': 'ford mustang ii', 'Miles_per_Gallon': 13, 'Cylinders': 8, 'Displacement': 302, 'Horsepower': 129, 'Weight_in_lbs': 3169, 'Acceleration': 12, 'Year': '1975-01-01', 'Origin': 'USA'}\n",
      "{'_id': ObjectId('64d3881268d05709c6387401'), 'Name': 'toyota corolla', 'Miles_per_Gallon': 29, 'Cylinders': 4, 'Displacement': 97, 'Horsepower': 75, 'Weight_in_lbs': 2171, 'Acceleration': 16, 'Year': '1975-01-01', 'Origin': 'Japan'}\n",
      "{'_id': ObjectId('64d3881268d05709c6387402'), 'Name': 'ford pinto', 'Miles_per_Gallon': 23, 'Cylinders': 4, 'Displacement': 140, 'Horsepower': 83, 'Weight_in_lbs': 2639, 'Acceleration': 17, 'Year': '1975-01-01', 'Origin': 'USA'}\n",
      "{'_id': ObjectId('64d3881268d05709c6387403'), 'Name': 'amc gremlin', 'Miles_per_Gallon': 20, 'Cylinders': 6, 'Displacement': 232, 'Horsepower': 100, 'Weight_in_lbs': 2914, 'Acceleration': 16, 'Year': '1975-01-01', 'Origin': 'USA'}\n",
      "{'_id': ObjectId('64d3881268d05709c6387404'), 'Name': 'pontiac astro', 'Miles_per_Gallon': 23, 'Cylinders': 4, 'Displacement': 140, 'Horsepower': 78, 'Weight_in_lbs': 2592, 'Acceleration': 18.5, 'Year': '1975-01-01', 'Origin': 'USA'}\n",
      "{'_id': ObjectId('64d3881268d05709c6387405'), 'Name': 'toyota corona', 'Miles_per_Gallon': 24, 'Cylinders': 4, 'Displacement': 134, 'Horsepower': 96, 'Weight_in_lbs': 2702, 'Acceleration': 13.5, 'Year': '1975-01-01', 'Origin': 'Japan'}\n",
      "{'_id': ObjectId('64d3881268d05709c6387406'), 'Name': 'volkswagen dasher', 'Miles_per_Gallon': 25, 'Cylinders': 4, 'Displacement': 90, 'Horsepower': 71, 'Weight_in_lbs': 2223, 'Acceleration': 16.5, 'Year': '1975-01-01', 'Origin': 'Europe'}\n",
      "{'_id': ObjectId('64d3881268d05709c6387407'), 'Name': 'datsun 710', 'Miles_per_Gallon': 24, 'Cylinders': 4, 'Displacement': 119, 'Horsepower': 97, 'Weight_in_lbs': 2545, 'Acceleration': 17, 'Year': '1975-01-01', 'Origin': 'Japan'}\n",
      "{'_id': ObjectId('64d3881268d05709c6387408'), 'Name': 'ford pinto', 'Miles_per_Gallon': 18, 'Cylinders': 6, 'Displacement': 171, 'Horsepower': 97, 'Weight_in_lbs': 2984, 'Acceleration': 14.5, 'Year': '1975-01-01', 'Origin': 'USA'}\n",
      "{'_id': ObjectId('64d3881268d05709c6387409'), 'Name': 'volkswagen rabbit', 'Miles_per_Gallon': 29, 'Cylinders': 4, 'Displacement': 90, 'Horsepower': 70, 'Weight_in_lbs': 1937, 'Acceleration': 14, 'Year': '1975-01-01', 'Origin': 'Europe'}\n",
      "{'_id': ObjectId('64d3881268d05709c638740a'), 'Name': 'amc pacer', 'Miles_per_Gallon': 19, 'Cylinders': 6, 'Displacement': 232, 'Horsepower': 90, 'Weight_in_lbs': 3211, 'Acceleration': 17, 'Year': '1975-01-01', 'Origin': 'USA'}\n",
      "{'_id': ObjectId('64d3881268d05709c638740b'), 'Name': 'audi 100ls', 'Miles_per_Gallon': 23, 'Cylinders': 4, 'Displacement': 115, 'Horsepower': 95, 'Weight_in_lbs': 2694, 'Acceleration': 15, 'Year': '1975-01-01', 'Origin': 'Europe'}\n",
      "{'_id': ObjectId('64d3881268d05709c638740c'), 'Name': 'peugeot 504', 'Miles_per_Gallon': 23, 'Cylinders': 4, 'Displacement': 120, 'Horsepower': 88, 'Weight_in_lbs': 2957, 'Acceleration': 17, 'Year': '1975-01-01', 'Origin': 'Europe'}\n",
      "{'_id': ObjectId('64d3881268d05709c638740d'), 'Name': 'volvo 244dl', 'Miles_per_Gallon': 22, 'Cylinders': 4, 'Displacement': 121, 'Horsepower': 98, 'Weight_in_lbs': 2945, 'Acceleration': 14.5, 'Year': '1975-01-01', 'Origin': 'Europe'}\n",
      "{'_id': ObjectId('64d3881268d05709c638740e'), 'Name': 'saab 99le', 'Miles_per_Gallon': 25, 'Cylinders': 4, 'Displacement': 121, 'Horsepower': 115, 'Weight_in_lbs': 2671, 'Acceleration': 13.5, 'Year': '1975-01-01', 'Origin': 'Europe'}\n",
      "{'_id': ObjectId('64d3881268d05709c638740f'), 'Name': 'honda civic cvcc', 'Miles_per_Gallon': 33, 'Cylinders': 4, 'Displacement': 91, 'Horsepower': 53, 'Weight_in_lbs': 1795, 'Acceleration': 17.5, 'Year': '1975-01-01', 'Origin': 'Japan'}\n",
      "{'_id': ObjectId('64d3881268d05709c6387410'), 'Name': 'fiat 131', 'Miles_per_Gallon': 28, 'Cylinders': 4, 'Displacement': 107, 'Horsepower': 86, 'Weight_in_lbs': 2464, 'Acceleration': 15.5, 'Year': '1976-01-01', 'Origin': 'Europe'}\n",
      "{'_id': ObjectId('64d3881268d05709c6387411'), 'Name': 'opel 1900', 'Miles_per_Gallon': 25, 'Cylinders': 4, 'Displacement': 116, 'Horsepower': 81, 'Weight_in_lbs': 2220, 'Acceleration': 16.9, 'Year': '1976-01-01', 'Origin': 'Europe'}\n",
      "{'_id': ObjectId('64d3881268d05709c6387412'), 'Name': 'capri ii', 'Miles_per_Gallon': 25, 'Cylinders': 4, 'Displacement': 140, 'Horsepower': 92, 'Weight_in_lbs': 2572, 'Acceleration': 14.9, 'Year': '1976-01-01', 'Origin': 'USA'}\n",
      "{'_id': ObjectId('64d3881268d05709c6387413'), 'Name': 'dodge colt', 'Miles_per_Gallon': 26, 'Cylinders': 4, 'Displacement': 98, 'Horsepower': 79, 'Weight_in_lbs': 2255, 'Acceleration': 17.7, 'Year': '1976-01-01', 'Origin': 'USA'}\n",
      "{'_id': ObjectId('64d3881268d05709c6387414'), 'Name': 'renault 12tl', 'Miles_per_Gallon': 27, 'Cylinders': 4, 'Displacement': 101, 'Horsepower': 83, 'Weight_in_lbs': 2202, 'Acceleration': 15.3, 'Year': '1976-01-01', 'Origin': 'Europe'}\n",
      "{'_id': ObjectId('64d3881268d05709c6387415'), 'Name': 'chevrolet chevelle malibu classic', 'Miles_per_Gallon': 17.5, 'Cylinders': 8, 'Displacement': 305, 'Horsepower': 140, 'Weight_in_lbs': 4215, 'Acceleration': 13, 'Year': '1976-01-01', 'Origin': 'USA'}\n",
      "{'_id': ObjectId('64d3881268d05709c6387416'), 'Name': 'dodge coronet brougham', 'Miles_per_Gallon': 16, 'Cylinders': 8, 'Displacement': 318, 'Horsepower': 150, 'Weight_in_lbs': 4190, 'Acceleration': 13, 'Year': '1976-01-01', 'Origin': 'USA'}\n",
      "{'_id': ObjectId('64d3881268d05709c6387417'), 'Name': 'amc matador', 'Miles_per_Gallon': 15.5, 'Cylinders': 8, 'Displacement': 304, 'Horsepower': 120, 'Weight_in_lbs': 3962, 'Acceleration': 13.9, 'Year': '1976-01-01', 'Origin': 'USA'}\n",
      "{'_id': ObjectId('64d3881268d05709c6387418'), 'Name': 'ford gran torino', 'Miles_per_Gallon': 14.5, 'Cylinders': 8, 'Displacement': 351, 'Horsepower': 152, 'Weight_in_lbs': 4215, 'Acceleration': 12.8, 'Year': '1976-01-01', 'Origin': 'USA'}\n",
      "{'_id': ObjectId('64d3881268d05709c6387419'), 'Name': 'plymouth valiant', 'Miles_per_Gallon': 22, 'Cylinders': 6, 'Displacement': 225, 'Horsepower': 100, 'Weight_in_lbs': 3233, 'Acceleration': 15.4, 'Year': '1976-01-01', 'Origin': 'USA'}\n",
      "{'_id': ObjectId('64d3881268d05709c638741a'), 'Name': 'chevrolet nova', 'Miles_per_Gallon': 22, 'Cylinders': 6, 'Displacement': 250, 'Horsepower': 105, 'Weight_in_lbs': 3353, 'Acceleration': 14.5, 'Year': '1976-01-01', 'Origin': 'USA'}\n",
      "{'_id': ObjectId('64d3881268d05709c638741b'), 'Name': 'ford maverick', 'Miles_per_Gallon': 24, 'Cylinders': 6, 'Displacement': 200, 'Horsepower': 81, 'Weight_in_lbs': 3012, 'Acceleration': 17.6, 'Year': '1976-01-01', 'Origin': 'USA'}\n",
      "{'_id': ObjectId('64d3881268d05709c638741c'), 'Name': 'amc hornet', 'Miles_per_Gallon': 22.5, 'Cylinders': 6, 'Displacement': 232, 'Horsepower': 90, 'Weight_in_lbs': 3085, 'Acceleration': 17.6, 'Year': '1976-01-01', 'Origin': 'USA'}\n",
      "{'_id': ObjectId('64d3881268d05709c638741d'), 'Name': 'chevrolet chevette', 'Miles_per_Gallon': 29, 'Cylinders': 4, 'Displacement': 85, 'Horsepower': 52, 'Weight_in_lbs': 2035, 'Acceleration': 22.2, 'Year': '1976-01-01', 'Origin': 'USA'}\n",
      "{'_id': ObjectId('64d3881268d05709c638741e'), 'Name': 'chevrolet woody', 'Miles_per_Gallon': 24.5, 'Cylinders': 4, 'Displacement': 98, 'Horsepower': 60, 'Weight_in_lbs': 2164, 'Acceleration': 22.1, 'Year': '1976-01-01', 'Origin': 'USA'}\n",
      "{'_id': ObjectId('64d3881268d05709c638741f'), 'Name': 'vw rabbit', 'Miles_per_Gallon': 29, 'Cylinders': 4, 'Displacement': 90, 'Horsepower': 70, 'Weight_in_lbs': 1937, 'Acceleration': 14.2, 'Year': '1976-01-01', 'Origin': 'Europe'}\n",
      "{'_id': ObjectId('64d3881268d05709c6387420'), 'Name': 'honda civic', 'Miles_per_Gallon': 33, 'Cylinders': 4, 'Displacement': 91, 'Horsepower': 53, 'Weight_in_lbs': 1795, 'Acceleration': 17.4, 'Year': '1976-01-01', 'Origin': 'Japan'}\n",
      "{'_id': ObjectId('64d3881268d05709c6387421'), 'Name': 'dodge aspen se', 'Miles_per_Gallon': 20, 'Cylinders': 6, 'Displacement': 225, 'Horsepower': 100, 'Weight_in_lbs': 3651, 'Acceleration': 17.7, 'Year': '1976-01-01', 'Origin': 'USA'}\n",
      "{'_id': ObjectId('64d3881268d05709c6387422'), 'Name': 'ford granada ghia', 'Miles_per_Gallon': 18, 'Cylinders': 6, 'Displacement': 250, 'Horsepower': 78, 'Weight_in_lbs': 3574, 'Acceleration': 21, 'Year': '1976-01-01', 'Origin': 'USA'}\n",
      "{'_id': ObjectId('64d3881268d05709c6387423'), 'Name': 'pontiac ventura sj', 'Miles_per_Gallon': 18.5, 'Cylinders': 6, 'Displacement': 250, 'Horsepower': 110, 'Weight_in_lbs': 3645, 'Acceleration': 16.2, 'Year': '1976-01-01', 'Origin': 'USA'}\n",
      "{'_id': ObjectId('64d3881268d05709c6387424'), 'Name': 'amc pacer d/l', 'Miles_per_Gallon': 17.5, 'Cylinders': 6, 'Displacement': 258, 'Horsepower': 95, 'Weight_in_lbs': 3193, 'Acceleration': 17.8, 'Year': '1976-01-01', 'Origin': 'USA'}\n",
      "{'_id': ObjectId('64d3881268d05709c6387425'), 'Name': 'volkswagen rabbit', 'Miles_per_Gallon': 29.5, 'Cylinders': 4, 'Displacement': 97, 'Horsepower': 71, 'Weight_in_lbs': 1825, 'Acceleration': 12.2, 'Year': '1976-01-01', 'Origin': 'Europe'}\n",
      "{'_id': ObjectId('64d3881268d05709c6387426'), 'Name': 'datsun b-210', 'Miles_per_Gallon': 32, 'Cylinders': 4, 'Displacement': 85, 'Horsepower': 70, 'Weight_in_lbs': 1990, 'Acceleration': 17, 'Year': '1976-01-01', 'Origin': 'Japan'}\n",
      "{'_id': ObjectId('64d3881268d05709c6387427'), 'Name': 'toyota corolla', 'Miles_per_Gallon': 28, 'Cylinders': 4, 'Displacement': 97, 'Horsepower': 75, 'Weight_in_lbs': 2155, 'Acceleration': 16.4, 'Year': '1976-01-01', 'Origin': 'Japan'}\n",
      "{'_id': ObjectId('64d3881268d05709c6387428'), 'Name': 'ford pinto', 'Miles_per_Gallon': 26.5, 'Cylinders': 4, 'Displacement': 140, 'Horsepower': 72, 'Weight_in_lbs': 2565, 'Acceleration': 13.6, 'Year': '1976-01-01', 'Origin': 'USA'}\n",
      "{'_id': ObjectId('64d3881268d05709c6387429'), 'Name': 'volvo 245', 'Miles_per_Gallon': 20, 'Cylinders': 4, 'Displacement': 130, 'Horsepower': 102, 'Weight_in_lbs': 3150, 'Acceleration': 15.7, 'Year': '1976-01-01', 'Origin': 'Europe'}\n",
      "{'_id': ObjectId('64d3881268d05709c638742a'), 'Name': 'plymouth volare premier v8', 'Miles_per_Gallon': 13, 'Cylinders': 8, 'Displacement': 318, 'Horsepower': 150, 'Weight_in_lbs': 3940, 'Acceleration': 13.2, 'Year': '1976-01-01', 'Origin': 'USA'}\n",
      "{'_id': ObjectId('64d3881268d05709c638742b'), 'Name': 'peugeot 504', 'Miles_per_Gallon': 19, 'Cylinders': 4, 'Displacement': 120, 'Horsepower': 88, 'Weight_in_lbs': 3270, 'Acceleration': 21.9, 'Year': '1976-01-01', 'Origin': 'Europe'}\n",
      "{'_id': ObjectId('64d3881268d05709c638742c'), 'Name': 'toyota mark ii', 'Miles_per_Gallon': 19, 'Cylinders': 6, 'Displacement': 156, 'Horsepower': 108, 'Weight_in_lbs': 2930, 'Acceleration': 15.5, 'Year': '1976-01-01', 'Origin': 'Japan'}\n",
      "{'_id': ObjectId('64d3881268d05709c638742d'), 'Name': 'mercedes-benz 280s', 'Miles_per_Gallon': 16.5, 'Cylinders': 6, 'Displacement': 168, 'Horsepower': 120, 'Weight_in_lbs': 3820, 'Acceleration': 16.7, 'Year': '1976-01-01', 'Origin': 'Europe'}\n",
      "{'_id': ObjectId('64d3881268d05709c638742e'), 'Name': 'cadillac seville', 'Miles_per_Gallon': 16.5, 'Cylinders': 8, 'Displacement': 350, 'Horsepower': 180, 'Weight_in_lbs': 4380, 'Acceleration': 12.1, 'Year': '1976-01-01', 'Origin': 'USA'}\n",
      "{'_id': ObjectId('64d3881268d05709c638742f'), 'Name': 'chevy c10', 'Miles_per_Gallon': 13, 'Cylinders': 8, 'Displacement': 350, 'Horsepower': 145, 'Weight_in_lbs': 4055, 'Acceleration': 12, 'Year': '1976-01-01', 'Origin': 'USA'}\n",
      "{'_id': ObjectId('64d3881268d05709c6387430'), 'Name': 'ford f108', 'Miles_per_Gallon': 13, 'Cylinders': 8, 'Displacement': 302, 'Horsepower': 130, 'Weight_in_lbs': 3870, 'Acceleration': 15, 'Year': '1976-01-01', 'Origin': 'USA'}\n",
      "{'_id': ObjectId('64d3881268d05709c6387431'), 'Name': 'dodge d100', 'Miles_per_Gallon': 13, 'Cylinders': 8, 'Displacement': 318, 'Horsepower': 150, 'Weight_in_lbs': 3755, 'Acceleration': 14, 'Year': '1976-01-01', 'Origin': 'USA'}\n",
      "{'_id': ObjectId('64d3881268d05709c6387432'), 'Name': 'honda Accelerationord cvcc', 'Miles_per_Gallon': 31.5, 'Cylinders': 4, 'Displacement': 98, 'Horsepower': 68, 'Weight_in_lbs': 2045, 'Acceleration': 18.5, 'Year': '1977-01-01', 'Origin': 'Japan'}\n",
      "{'_id': ObjectId('64d3881268d05709c6387433'), 'Name': 'buick opel isuzu deluxe', 'Miles_per_Gallon': 30, 'Cylinders': 4, 'Displacement': 111, 'Horsepower': 80, 'Weight_in_lbs': 2155, 'Acceleration': 14.8, 'Year': '1977-01-01', 'Origin': 'USA'}\n",
      "{'_id': ObjectId('64d3881268d05709c6387434'), 'Name': 'renault 5 gtl', 'Miles_per_Gallon': 36, 'Cylinders': 4, 'Displacement': 79, 'Horsepower': 58, 'Weight_in_lbs': 1825, 'Acceleration': 18.6, 'Year': '1977-01-01', 'Origin': 'Europe'}\n",
      "{'_id': ObjectId('64d3881268d05709c6387435'), 'Name': 'plymouth arrow gs', 'Miles_per_Gallon': 25.5, 'Cylinders': 4, 'Displacement': 122, 'Horsepower': 96, 'Weight_in_lbs': 2300, 'Acceleration': 15.5, 'Year': '1977-01-01', 'Origin': 'USA'}\n",
      "{'_id': ObjectId('64d3881268d05709c6387436'), 'Name': 'datsun f-10 hatchback', 'Miles_per_Gallon': 33.5, 'Cylinders': 4, 'Displacement': 85, 'Horsepower': 70, 'Weight_in_lbs': 1945, 'Acceleration': 16.8, 'Year': '1977-01-01', 'Origin': 'Japan'}\n",
      "{'_id': ObjectId('64d3881268d05709c6387437'), 'Name': 'chevrolet caprice classic', 'Miles_per_Gallon': 17.5, 'Cylinders': 8, 'Displacement': 305, 'Horsepower': 145, 'Weight_in_lbs': 3880, 'Acceleration': 12.5, 'Year': '1977-01-01', 'Origin': 'USA'}\n",
      "{'_id': ObjectId('64d3881268d05709c6387438'), 'Name': 'oldsmobile cutlass supreme', 'Miles_per_Gallon': 17, 'Cylinders': 8, 'Displacement': 260, 'Horsepower': 110, 'Weight_in_lbs': 4060, 'Acceleration': 19, 'Year': '1977-01-01', 'Origin': 'USA'}\n",
      "{'_id': ObjectId('64d3881268d05709c6387439'), 'Name': 'dodge monaco brougham', 'Miles_per_Gallon': 15.5, 'Cylinders': 8, 'Displacement': 318, 'Horsepower': 145, 'Weight_in_lbs': 4140, 'Acceleration': 13.7, 'Year': '1977-01-01', 'Origin': 'USA'}\n",
      "{'_id': ObjectId('64d3881268d05709c638743a'), 'Name': 'mercury cougar brougham', 'Miles_per_Gallon': 15, 'Cylinders': 8, 'Displacement': 302, 'Horsepower': 130, 'Weight_in_lbs': 4295, 'Acceleration': 14.9, 'Year': '1977-01-01', 'Origin': 'USA'}\n",
      "{'_id': ObjectId('64d3881268d05709c638743b'), 'Name': 'chevrolet concours', 'Miles_per_Gallon': 17.5, 'Cylinders': 6, 'Displacement': 250, 'Horsepower': 110, 'Weight_in_lbs': 3520, 'Acceleration': 16.4, 'Year': '1977-01-01', 'Origin': 'USA'}\n",
      "{'_id': ObjectId('64d3881268d05709c638743c'), 'Name': 'buick skylark', 'Miles_per_Gallon': 20.5, 'Cylinders': 6, 'Displacement': 231, 'Horsepower': 105, 'Weight_in_lbs': 3425, 'Acceleration': 16.9, 'Year': '1977-01-01', 'Origin': 'USA'}\n",
      "{'_id': ObjectId('64d3881268d05709c638743d'), 'Name': 'plymouth volare custom', 'Miles_per_Gallon': 19, 'Cylinders': 6, 'Displacement': 225, 'Horsepower': 100, 'Weight_in_lbs': 3630, 'Acceleration': 17.7, 'Year': '1977-01-01', 'Origin': 'USA'}\n",
      "{'_id': ObjectId('64d3881268d05709c638743e'), 'Name': 'ford granada', 'Miles_per_Gallon': 18.5, 'Cylinders': 6, 'Displacement': 250, 'Horsepower': 98, 'Weight_in_lbs': 3525, 'Acceleration': 19, 'Year': '1977-01-01', 'Origin': 'USA'}\n",
      "{'_id': ObjectId('64d3881268d05709c638743f'), 'Name': 'pontiac grand prix lj', 'Miles_per_Gallon': 16, 'Cylinders': 8, 'Displacement': 400, 'Horsepower': 180, 'Weight_in_lbs': 4220, 'Acceleration': 11.1, 'Year': '1977-01-01', 'Origin': 'USA'}\n",
      "{'_id': ObjectId('64d3881268d05709c6387440'), 'Name': 'chevrolet monte carlo landau', 'Miles_per_Gallon': 15.5, 'Cylinders': 8, 'Displacement': 350, 'Horsepower': 170, 'Weight_in_lbs': 4165, 'Acceleration': 11.4, 'Year': '1977-01-01', 'Origin': 'USA'}\n",
      "{'_id': ObjectId('64d3881268d05709c6387441'), 'Name': 'chrysler cordoba', 'Miles_per_Gallon': 15.5, 'Cylinders': 8, 'Displacement': 400, 'Horsepower': 190, 'Weight_in_lbs': 4325, 'Acceleration': 12.2, 'Year': '1977-01-01', 'Origin': 'USA'}\n",
      "{'_id': ObjectId('64d3881268d05709c6387442'), 'Name': 'ford thunderbird', 'Miles_per_Gallon': 16, 'Cylinders': 8, 'Displacement': 351, 'Horsepower': 149, 'Weight_in_lbs': 4335, 'Acceleration': 14.5, 'Year': '1977-01-01', 'Origin': 'USA'}\n",
      "{'_id': ObjectId('64d3881268d05709c6387443'), 'Name': 'volkswagen rabbit custom', 'Miles_per_Gallon': 29, 'Cylinders': 4, 'Displacement': 97, 'Horsepower': 78, 'Weight_in_lbs': 1940, 'Acceleration': 14.5, 'Year': '1977-01-01', 'Origin': 'Europe'}\n",
      "{'_id': ObjectId('64d3881268d05709c6387444'), 'Name': 'pontiac sunbird coupe', 'Miles_per_Gallon': 24.5, 'Cylinders': 4, 'Displacement': 151, 'Horsepower': 88, 'Weight_in_lbs': 2740, 'Acceleration': 16, 'Year': '1977-01-01', 'Origin': 'USA'}\n",
      "{'_id': ObjectId('64d3881268d05709c6387445'), 'Name': 'toyota corolla liftback', 'Miles_per_Gallon': 26, 'Cylinders': 4, 'Displacement': 97, 'Horsepower': 75, 'Weight_in_lbs': 2265, 'Acceleration': 18.2, 'Year': '1977-01-01', 'Origin': 'Japan'}\n",
      "{'_id': ObjectId('64d3881268d05709c6387446'), 'Name': 'ford mustang ii 2+2', 'Miles_per_Gallon': 25.5, 'Cylinders': 4, 'Displacement': 140, 'Horsepower': 89, 'Weight_in_lbs': 2755, 'Acceleration': 15.8, 'Year': '1977-01-01', 'Origin': 'USA'}\n",
      "{'_id': ObjectId('64d3881268d05709c6387447'), 'Name': 'chevrolet chevette', 'Miles_per_Gallon': 30.5, 'Cylinders': 4, 'Displacement': 98, 'Horsepower': 63, 'Weight_in_lbs': 2051, 'Acceleration': 17, 'Year': '1977-01-01', 'Origin': 'USA'}\n",
      "{'_id': ObjectId('64d3881268d05709c6387448'), 'Name': 'dodge colt m/m', 'Miles_per_Gallon': 33.5, 'Cylinders': 4, 'Displacement': 98, 'Horsepower': 83, 'Weight_in_lbs': 2075, 'Acceleration': 15.9, 'Year': '1977-01-01', 'Origin': 'USA'}\n",
      "{'_id': ObjectId('64d3881268d05709c6387449'), 'Name': 'subaru dl', 'Miles_per_Gallon': 30, 'Cylinders': 4, 'Displacement': 97, 'Horsepower': 67, 'Weight_in_lbs': 1985, 'Acceleration': 16.4, 'Year': '1977-01-01', 'Origin': 'Japan'}\n",
      "{'_id': ObjectId('64d3881268d05709c638744a'), 'Name': 'volkswagen dasher', 'Miles_per_Gallon': 30.5, 'Cylinders': 4, 'Displacement': 97, 'Horsepower': 78, 'Weight_in_lbs': 2190, 'Acceleration': 14.1, 'Year': '1977-01-01', 'Origin': 'Europe'}\n",
      "{'_id': ObjectId('64d3881268d05709c638744b'), 'Name': 'datsun 810', 'Miles_per_Gallon': 22, 'Cylinders': 6, 'Displacement': 146, 'Horsepower': 97, 'Weight_in_lbs': 2815, 'Acceleration': 14.5, 'Year': '1977-01-01', 'Origin': 'Japan'}\n",
      "{'_id': ObjectId('64d3881268d05709c638744c'), 'Name': 'bmw 320i', 'Miles_per_Gallon': 21.5, 'Cylinders': 4, 'Displacement': 121, 'Horsepower': 110, 'Weight_in_lbs': 2600, 'Acceleration': 12.8, 'Year': '1977-01-01', 'Origin': 'Europe'}\n",
      "{'_id': ObjectId('64d3881268d05709c638744d'), 'Name': 'mazda rx-4', 'Miles_per_Gallon': 21.5, 'Cylinders': 3, 'Displacement': 80, 'Horsepower': 110, 'Weight_in_lbs': 2720, 'Acceleration': 13.5, 'Year': '1977-01-01', 'Origin': 'Japan'}\n",
      "{'_id': ObjectId('64d3881268d05709c638744e'), 'Name': 'volkswagen rabbit custom diesel', 'Miles_per_Gallon': 43.1, 'Cylinders': 4, 'Displacement': 90, 'Horsepower': 48, 'Weight_in_lbs': 1985, 'Acceleration': 21.5, 'Year': '1978-01-01', 'Origin': 'Europe'}\n",
      "{'_id': ObjectId('64d3881268d05709c638744f'), 'Name': 'ford fiesta', 'Miles_per_Gallon': 36.1, 'Cylinders': 4, 'Displacement': 98, 'Horsepower': 66, 'Weight_in_lbs': 1800, 'Acceleration': 14.4, 'Year': '1978-01-01', 'Origin': 'USA'}\n",
      "{'_id': ObjectId('64d3881268d05709c6387450'), 'Name': 'mazda glc deluxe', 'Miles_per_Gallon': 32.8, 'Cylinders': 4, 'Displacement': 78, 'Horsepower': 52, 'Weight_in_lbs': 1985, 'Acceleration': 19.4, 'Year': '1978-01-01', 'Origin': 'Japan'}\n",
      "{'_id': ObjectId('64d3881268d05709c6387451'), 'Name': 'datsun b210 gx', 'Miles_per_Gallon': 39.4, 'Cylinders': 4, 'Displacement': 85, 'Horsepower': 70, 'Weight_in_lbs': 2070, 'Acceleration': 18.6, 'Year': '1978-01-01', 'Origin': 'Japan'}\n",
      "{'_id': ObjectId('64d3881268d05709c6387452'), 'Name': 'honda civic cvcc', 'Miles_per_Gallon': 36.1, 'Cylinders': 4, 'Displacement': 91, 'Horsepower': 60, 'Weight_in_lbs': 1800, 'Acceleration': 16.4, 'Year': '1978-01-01', 'Origin': 'Japan'}\n",
      "{'_id': ObjectId('64d3881268d05709c6387453'), 'Name': 'oldsmobile cutlass salon brougham', 'Miles_per_Gallon': 19.9, 'Cylinders': 8, 'Displacement': 260, 'Horsepower': 110, 'Weight_in_lbs': 3365, 'Acceleration': 15.5, 'Year': '1978-01-01', 'Origin': 'USA'}\n",
      "{'_id': ObjectId('64d3881268d05709c6387454'), 'Name': 'dodge diplomat', 'Miles_per_Gallon': 19.4, 'Cylinders': 8, 'Displacement': 318, 'Horsepower': 140, 'Weight_in_lbs': 3735, 'Acceleration': 13.2, 'Year': '1978-01-01', 'Origin': 'USA'}\n",
      "{'_id': ObjectId('64d3881268d05709c6387455'), 'Name': 'mercury monarch ghia', 'Miles_per_Gallon': 20.2, 'Cylinders': 8, 'Displacement': 302, 'Horsepower': 139, 'Weight_in_lbs': 3570, 'Acceleration': 12.8, 'Year': '1978-01-01', 'Origin': 'USA'}\n",
      "{'_id': ObjectId('64d3881268d05709c6387456'), 'Name': 'pontiac phoenix lj', 'Miles_per_Gallon': 19.2, 'Cylinders': 6, 'Displacement': 231, 'Horsepower': 105, 'Weight_in_lbs': 3535, 'Acceleration': 19.2, 'Year': '1978-01-01', 'Origin': 'USA'}\n",
      "{'_id': ObjectId('64d3881268d05709c6387457'), 'Name': 'chevrolet malibu', 'Miles_per_Gallon': 20.5, 'Cylinders': 6, 'Displacement': 200, 'Horsepower': 95, 'Weight_in_lbs': 3155, 'Acceleration': 18.2, 'Year': '1978-01-01', 'Origin': 'USA'}\n",
      "{'_id': ObjectId('64d3881268d05709c6387458'), 'Name': 'ford fairmont (auto)', 'Miles_per_Gallon': 20.2, 'Cylinders': 6, 'Displacement': 200, 'Horsepower': 85, 'Weight_in_lbs': 2965, 'Acceleration': 15.8, 'Year': '1978-01-01', 'Origin': 'USA'}\n",
      "{'_id': ObjectId('64d3881268d05709c6387459'), 'Name': 'ford fairmont (man)', 'Miles_per_Gallon': 25.1, 'Cylinders': 4, 'Displacement': 140, 'Horsepower': 88, 'Weight_in_lbs': 2720, 'Acceleration': 15.4, 'Year': '1978-01-01', 'Origin': 'USA'}\n",
      "{'_id': ObjectId('64d3881268d05709c638745a'), 'Name': 'plymouth volare', 'Miles_per_Gallon': 20.5, 'Cylinders': 6, 'Displacement': 225, 'Horsepower': 100, 'Weight_in_lbs': 3430, 'Acceleration': 17.2, 'Year': '1978-01-01', 'Origin': 'USA'}\n",
      "{'_id': ObjectId('64d3881268d05709c638745b'), 'Name': 'amc concord', 'Miles_per_Gallon': 19.4, 'Cylinders': 6, 'Displacement': 232, 'Horsepower': 90, 'Weight_in_lbs': 3210, 'Acceleration': 17.2, 'Year': '1978-01-01', 'Origin': 'USA'}\n",
      "{'_id': ObjectId('64d3881268d05709c638745c'), 'Name': 'buick century special', 'Miles_per_Gallon': 20.6, 'Cylinders': 6, 'Displacement': 231, 'Horsepower': 105, 'Weight_in_lbs': 3380, 'Acceleration': 15.8, 'Year': '1978-01-01', 'Origin': 'USA'}\n",
      "{'_id': ObjectId('64d3881268d05709c638745d'), 'Name': 'mercury zephyr', 'Miles_per_Gallon': 20.8, 'Cylinders': 6, 'Displacement': 200, 'Horsepower': 85, 'Weight_in_lbs': 3070, 'Acceleration': 16.7, 'Year': '1978-01-01', 'Origin': 'USA'}\n",
      "{'_id': ObjectId('64d3881268d05709c638745e'), 'Name': 'dodge aspen', 'Miles_per_Gallon': 18.6, 'Cylinders': 6, 'Displacement': 225, 'Horsepower': 110, 'Weight_in_lbs': 3620, 'Acceleration': 18.7, 'Year': '1978-01-01', 'Origin': 'USA'}\n",
      "{'_id': ObjectId('64d3881268d05709c638745f'), 'Name': 'amc concord d/l', 'Miles_per_Gallon': 18.1, 'Cylinders': 6, 'Displacement': 258, 'Horsepower': 120, 'Weight_in_lbs': 3410, 'Acceleration': 15.1, 'Year': '1978-01-01', 'Origin': 'USA'}\n",
      "{'_id': ObjectId('64d3881268d05709c6387460'), 'Name': 'chevrolet monte carlo landau', 'Miles_per_Gallon': 19.2, 'Cylinders': 8, 'Displacement': 305, 'Horsepower': 145, 'Weight_in_lbs': 3425, 'Acceleration': 13.2, 'Year': '1978-01-01', 'Origin': 'USA'}\n",
      "{'_id': ObjectId('64d3881268d05709c6387461'), 'Name': 'buick regal sport coupe (turbo)', 'Miles_per_Gallon': 17.7, 'Cylinders': 6, 'Displacement': 231, 'Horsepower': 165, 'Weight_in_lbs': 3445, 'Acceleration': 13.4, 'Year': '1978-01-01', 'Origin': 'USA'}\n",
      "{'_id': ObjectId('64d3881268d05709c6387462'), 'Name': 'ford futura', 'Miles_per_Gallon': 18.1, 'Cylinders': 8, 'Displacement': 302, 'Horsepower': 139, 'Weight_in_lbs': 3205, 'Acceleration': 11.2, 'Year': '1978-01-01', 'Origin': 'USA'}\n",
      "{'_id': ObjectId('64d3881268d05709c6387463'), 'Name': 'dodge magnum xe', 'Miles_per_Gallon': 17.5, 'Cylinders': 8, 'Displacement': 318, 'Horsepower': 140, 'Weight_in_lbs': 4080, 'Acceleration': 13.7, 'Year': '1978-01-01', 'Origin': 'USA'}\n",
      "{'_id': ObjectId('64d3881268d05709c6387464'), 'Name': 'chevrolet chevette', 'Miles_per_Gallon': 30, 'Cylinders': 4, 'Displacement': 98, 'Horsepower': 68, 'Weight_in_lbs': 2155, 'Acceleration': 16.5, 'Year': '1978-01-01', 'Origin': 'USA'}\n",
      "{'_id': ObjectId('64d3881268d05709c6387465'), 'Name': 'toyota corona', 'Miles_per_Gallon': 27.5, 'Cylinders': 4, 'Displacement': 134, 'Horsepower': 95, 'Weight_in_lbs': 2560, 'Acceleration': 14.2, 'Year': '1978-01-01', 'Origin': 'Japan'}\n",
      "{'_id': ObjectId('64d3881268d05709c6387466'), 'Name': 'datsun 510', 'Miles_per_Gallon': 27.2, 'Cylinders': 4, 'Displacement': 119, 'Horsepower': 97, 'Weight_in_lbs': 2300, 'Acceleration': 14.7, 'Year': '1978-01-01', 'Origin': 'Japan'}\n",
      "{'_id': ObjectId('64d3881268d05709c6387467'), 'Name': 'dodge omni', 'Miles_per_Gallon': 30.9, 'Cylinders': 4, 'Displacement': 105, 'Horsepower': 75, 'Weight_in_lbs': 2230, 'Acceleration': 14.5, 'Year': '1978-01-01', 'Origin': 'USA'}\n",
      "{'_id': ObjectId('64d3881268d05709c6387468'), 'Name': 'toyota celica gt liftback', 'Miles_per_Gallon': 21.1, 'Cylinders': 4, 'Displacement': 134, 'Horsepower': 95, 'Weight_in_lbs': 2515, 'Acceleration': 14.8, 'Year': '1978-01-01', 'Origin': 'Japan'}\n",
      "{'_id': ObjectId('64d3881268d05709c6387469'), 'Name': 'plymouth sapporo', 'Miles_per_Gallon': 23.2, 'Cylinders': 4, 'Displacement': 156, 'Horsepower': 105, 'Weight_in_lbs': 2745, 'Acceleration': 16.7, 'Year': '1978-01-01', 'Origin': 'USA'}\n",
      "{'_id': ObjectId('64d3881268d05709c638746a'), 'Name': 'oldsmobile starfire sx', 'Miles_per_Gallon': 23.8, 'Cylinders': 4, 'Displacement': 151, 'Horsepower': 85, 'Weight_in_lbs': 2855, 'Acceleration': 17.6, 'Year': '1978-01-01', 'Origin': 'USA'}\n",
      "{'_id': ObjectId('64d3881268d05709c638746b'), 'Name': 'datsun 200-sx', 'Miles_per_Gallon': 23.9, 'Cylinders': 4, 'Displacement': 119, 'Horsepower': 97, 'Weight_in_lbs': 2405, 'Acceleration': 14.9, 'Year': '1978-01-01', 'Origin': 'Japan'}\n",
      "{'_id': ObjectId('64d3881268d05709c638746c'), 'Name': 'audi 5000', 'Miles_per_Gallon': 20.3, 'Cylinders': 5, 'Displacement': 131, 'Horsepower': 103, 'Weight_in_lbs': 2830, 'Acceleration': 15.9, 'Year': '1978-01-01', 'Origin': 'Europe'}\n",
      "{'_id': ObjectId('64d3881268d05709c638746d'), 'Name': 'volvo 264gl', 'Miles_per_Gallon': 17, 'Cylinders': 6, 'Displacement': 163, 'Horsepower': 125, 'Weight_in_lbs': 3140, 'Acceleration': 13.6, 'Year': '1978-01-01', 'Origin': 'Europe'}\n",
      "{'_id': ObjectId('64d3881268d05709c638746e'), 'Name': 'saab 99gle', 'Miles_per_Gallon': 21.6, 'Cylinders': 4, 'Displacement': 121, 'Horsepower': 115, 'Weight_in_lbs': 2795, 'Acceleration': 15.7, 'Year': '1978-01-01', 'Origin': 'Europe'}\n",
      "{'_id': ObjectId('64d3881268d05709c638746f'), 'Name': 'peugeot 604sl', 'Miles_per_Gallon': 16.2, 'Cylinders': 6, 'Displacement': 163, 'Horsepower': 133, 'Weight_in_lbs': 3410, 'Acceleration': 15.8, 'Year': '1978-01-01', 'Origin': 'Europe'}\n",
      "{'_id': ObjectId('64d3881268d05709c6387470'), 'Name': 'volkswagen scirocco', 'Miles_per_Gallon': 31.5, 'Cylinders': 4, 'Displacement': 89, 'Horsepower': 71, 'Weight_in_lbs': 1990, 'Acceleration': 14.9, 'Year': '1978-01-01', 'Origin': 'Europe'}\n",
      "{'_id': ObjectId('64d3881268d05709c6387471'), 'Name': 'honda Accelerationord lx', 'Miles_per_Gallon': 29.5, 'Cylinders': 4, 'Displacement': 98, 'Horsepower': 68, 'Weight_in_lbs': 2135, 'Acceleration': 16.6, 'Year': '1978-01-01', 'Origin': 'Japan'}\n",
      "{'_id': ObjectId('64d3881268d05709c6387472'), 'Name': 'pontiac lemans v6', 'Miles_per_Gallon': 21.5, 'Cylinders': 6, 'Displacement': 231, 'Horsepower': 115, 'Weight_in_lbs': 3245, 'Acceleration': 15.4, 'Year': '1979-01-01', 'Origin': 'USA'}\n",
      "{'_id': ObjectId('64d3881268d05709c6387473'), 'Name': 'mercury zephyr 6', 'Miles_per_Gallon': 19.8, 'Cylinders': 6, 'Displacement': 200, 'Horsepower': 85, 'Weight_in_lbs': 2990, 'Acceleration': 18.2, 'Year': '1979-01-01', 'Origin': 'USA'}\n",
      "{'_id': ObjectId('64d3881268d05709c6387474'), 'Name': 'ford fairmont 4', 'Miles_per_Gallon': 22.3, 'Cylinders': 4, 'Displacement': 140, 'Horsepower': 88, 'Weight_in_lbs': 2890, 'Acceleration': 17.3, 'Year': '1979-01-01', 'Origin': 'USA'}\n",
      "{'_id': ObjectId('64d3881268d05709c6387475'), 'Name': 'amc concord dl 6', 'Miles_per_Gallon': 20.2, 'Cylinders': 6, 'Displacement': 232, 'Horsepower': 90, 'Weight_in_lbs': 3265, 'Acceleration': 18.2, 'Year': '1979-01-01', 'Origin': 'USA'}\n",
      "{'_id': ObjectId('64d3881268d05709c6387476'), 'Name': 'dodge aspen 6', 'Miles_per_Gallon': 20.6, 'Cylinders': 6, 'Displacement': 225, 'Horsepower': 110, 'Weight_in_lbs': 3360, 'Acceleration': 16.6, 'Year': '1979-01-01', 'Origin': 'USA'}\n",
      "{'_id': ObjectId('64d3881268d05709c6387477'), 'Name': 'chevrolet caprice classic', 'Miles_per_Gallon': 17, 'Cylinders': 8, 'Displacement': 305, 'Horsepower': 130, 'Weight_in_lbs': 3840, 'Acceleration': 15.4, 'Year': '1979-01-01', 'Origin': 'USA'}\n",
      "{'_id': ObjectId('64d3881268d05709c6387478'), 'Name': 'ford ltd landau', 'Miles_per_Gallon': 17.6, 'Cylinders': 8, 'Displacement': 302, 'Horsepower': 129, 'Weight_in_lbs': 3725, 'Acceleration': 13.4, 'Year': '1979-01-01', 'Origin': 'USA'}\n",
      "{'_id': ObjectId('64d3881268d05709c6387479'), 'Name': 'mercury grand marquis', 'Miles_per_Gallon': 16.5, 'Cylinders': 8, 'Displacement': 351, 'Horsepower': 138, 'Weight_in_lbs': 3955, 'Acceleration': 13.2, 'Year': '1979-01-01', 'Origin': 'USA'}\n",
      "{'_id': ObjectId('64d3881268d05709c638747a'), 'Name': 'dodge st. regis', 'Miles_per_Gallon': 18.2, 'Cylinders': 8, 'Displacement': 318, 'Horsepower': 135, 'Weight_in_lbs': 3830, 'Acceleration': 15.2, 'Year': '1979-01-01', 'Origin': 'USA'}\n",
      "{'_id': ObjectId('64d3881268d05709c638747b'), 'Name': 'buick estate wagon (sw)', 'Miles_per_Gallon': 16.9, 'Cylinders': 8, 'Displacement': 350, 'Horsepower': 155, 'Weight_in_lbs': 4360, 'Acceleration': 14.9, 'Year': '1979-01-01', 'Origin': 'USA'}\n",
      "{'_id': ObjectId('64d3881268d05709c638747c'), 'Name': 'ford country squire (sw)', 'Miles_per_Gallon': 15.5, 'Cylinders': 8, 'Displacement': 351, 'Horsepower': 142, 'Weight_in_lbs': 4054, 'Acceleration': 14.3, 'Year': '1979-01-01', 'Origin': 'USA'}\n",
      "{'_id': ObjectId('64d3881268d05709c638747d'), 'Name': 'chevrolet malibu classic (sw)', 'Miles_per_Gallon': 19.2, 'Cylinders': 8, 'Displacement': 267, 'Horsepower': 125, 'Weight_in_lbs': 3605, 'Acceleration': 15, 'Year': '1979-01-01', 'Origin': 'USA'}\n",
      "{'_id': ObjectId('64d3881268d05709c638747e'), 'Name': 'chrysler lebaron town @ country (sw)', 'Miles_per_Gallon': 18.5, 'Cylinders': 8, 'Displacement': 360, 'Horsepower': 150, 'Weight_in_lbs': 3940, 'Acceleration': 13, 'Year': '1979-01-01', 'Origin': 'USA'}\n",
      "{'_id': ObjectId('64d3881268d05709c638747f'), 'Name': 'vw rabbit custom', 'Miles_per_Gallon': 31.9, 'Cylinders': 4, 'Displacement': 89, 'Horsepower': 71, 'Weight_in_lbs': 1925, 'Acceleration': 14, 'Year': '1979-01-01', 'Origin': 'Europe'}\n",
      "{'_id': ObjectId('64d3881268d05709c6387480'), 'Name': 'maxda glc deluxe', 'Miles_per_Gallon': 34.1, 'Cylinders': 4, 'Displacement': 86, 'Horsepower': 65, 'Weight_in_lbs': 1975, 'Acceleration': 15.2, 'Year': '1979-01-01', 'Origin': 'Japan'}\n",
      "{'_id': ObjectId('64d3881268d05709c6387481'), 'Name': 'dodge colt hatchback custom', 'Miles_per_Gallon': 35.7, 'Cylinders': 4, 'Displacement': 98, 'Horsepower': 80, 'Weight_in_lbs': 1915, 'Acceleration': 14.4, 'Year': '1979-01-01', 'Origin': 'USA'}\n",
      "{'_id': ObjectId('64d3881268d05709c6387482'), 'Name': 'amc spirit dl', 'Miles_per_Gallon': 27.4, 'Cylinders': 4, 'Displacement': 121, 'Horsepower': 80, 'Weight_in_lbs': 2670, 'Acceleration': 15, 'Year': '1979-01-01', 'Origin': 'USA'}\n",
      "{'_id': ObjectId('64d3881268d05709c6387483'), 'Name': 'mercedes benz 300d', 'Miles_per_Gallon': 25.4, 'Cylinders': 5, 'Displacement': 183, 'Horsepower': 77, 'Weight_in_lbs': 3530, 'Acceleration': 20.1, 'Year': '1979-01-01', 'Origin': 'Europe'}\n",
      "{'_id': ObjectId('64d3881268d05709c6387484'), 'Name': 'cadillac eldorado', 'Miles_per_Gallon': 23, 'Cylinders': 8, 'Displacement': 350, 'Horsepower': 125, 'Weight_in_lbs': 3900, 'Acceleration': 17.4, 'Year': '1979-01-01', 'Origin': 'USA'}\n",
      "{'_id': ObjectId('64d3881268d05709c6387485'), 'Name': 'peugeot 504', 'Miles_per_Gallon': 27.2, 'Cylinders': 4, 'Displacement': 141, 'Horsepower': 71, 'Weight_in_lbs': 3190, 'Acceleration': 24.8, 'Year': '1979-01-01', 'Origin': 'Europe'}\n",
      "{'_id': ObjectId('64d3881268d05709c6387486'), 'Name': 'oldsmobile cutlass salon brougham', 'Miles_per_Gallon': 23.9, 'Cylinders': 8, 'Displacement': 260, 'Horsepower': 90, 'Weight_in_lbs': 3420, 'Acceleration': 22.2, 'Year': '1979-01-01', 'Origin': 'USA'}\n",
      "{'_id': ObjectId('64d3881268d05709c6387487'), 'Name': 'plymouth horizon', 'Miles_per_Gallon': 34.2, 'Cylinders': 4, 'Displacement': 105, 'Horsepower': 70, 'Weight_in_lbs': 2200, 'Acceleration': 13.2, 'Year': '1979-01-01', 'Origin': 'USA'}\n",
      "{'_id': ObjectId('64d3881268d05709c6387488'), 'Name': 'plymouth horizon tc3', 'Miles_per_Gallon': 34.5, 'Cylinders': 4, 'Displacement': 105, 'Horsepower': 70, 'Weight_in_lbs': 2150, 'Acceleration': 14.9, 'Year': '1979-01-01', 'Origin': 'USA'}\n",
      "{'_id': ObjectId('64d3881268d05709c6387489'), 'Name': 'datsun 210', 'Miles_per_Gallon': 31.8, 'Cylinders': 4, 'Displacement': 85, 'Horsepower': 65, 'Weight_in_lbs': 2020, 'Acceleration': 19.2, 'Year': '1979-01-01', 'Origin': 'Japan'}\n",
      "{'_id': ObjectId('64d3881268d05709c638748a'), 'Name': 'fiat strada custom', 'Miles_per_Gallon': 37.3, 'Cylinders': 4, 'Displacement': 91, 'Horsepower': 69, 'Weight_in_lbs': 2130, 'Acceleration': 14.7, 'Year': '1979-01-01', 'Origin': 'Europe'}\n",
      "{'_id': ObjectId('64d3881268d05709c638748b'), 'Name': 'buick skylark limited', 'Miles_per_Gallon': 28.4, 'Cylinders': 4, 'Displacement': 151, 'Horsepower': 90, 'Weight_in_lbs': 2670, 'Acceleration': 16, 'Year': '1979-01-01', 'Origin': 'USA'}\n",
      "{'_id': ObjectId('64d3881268d05709c638748c'), 'Name': 'chevrolet citation', 'Miles_per_Gallon': 28.8, 'Cylinders': 6, 'Displacement': 173, 'Horsepower': 115, 'Weight_in_lbs': 2595, 'Acceleration': 11.3, 'Year': '1979-01-01', 'Origin': 'USA'}\n",
      "{'_id': ObjectId('64d3881268d05709c638748d'), 'Name': 'oldsmobile omega brougham', 'Miles_per_Gallon': 26.8, 'Cylinders': 6, 'Displacement': 173, 'Horsepower': 115, 'Weight_in_lbs': 2700, 'Acceleration': 12.9, 'Year': '1979-01-01', 'Origin': 'USA'}\n",
      "{'_id': ObjectId('64d3881268d05709c638748e'), 'Name': 'pontiac phoenix', 'Miles_per_Gallon': 33.5, 'Cylinders': 4, 'Displacement': 151, 'Horsepower': 90, 'Weight_in_lbs': 2556, 'Acceleration': 13.2, 'Year': '1979-01-01', 'Origin': 'USA'}\n",
      "{'_id': ObjectId('64d3881268d05709c638748f'), 'Name': 'vw rabbit', 'Miles_per_Gallon': 41.5, 'Cylinders': 4, 'Displacement': 98, 'Horsepower': 76, 'Weight_in_lbs': 2144, 'Acceleration': 14.7, 'Year': '1980-01-01', 'Origin': 'Europe'}\n",
      "{'_id': ObjectId('64d3881268d05709c6387490'), 'Name': 'toyota corolla tercel', 'Miles_per_Gallon': 38.1, 'Cylinders': 4, 'Displacement': 89, 'Horsepower': 60, 'Weight_in_lbs': 1968, 'Acceleration': 18.8, 'Year': '1980-01-01', 'Origin': 'Japan'}\n",
      "{'_id': ObjectId('64d3881268d05709c6387491'), 'Name': 'chevrolet chevette', 'Miles_per_Gallon': 32.1, 'Cylinders': 4, 'Displacement': 98, 'Horsepower': 70, 'Weight_in_lbs': 2120, 'Acceleration': 15.5, 'Year': '1980-01-01', 'Origin': 'USA'}\n",
      "{'_id': ObjectId('64d3881268d05709c6387492'), 'Name': 'datsun 310', 'Miles_per_Gallon': 37.2, 'Cylinders': 4, 'Displacement': 86, 'Horsepower': 65, 'Weight_in_lbs': 2019, 'Acceleration': 16.4, 'Year': '1980-01-01', 'Origin': 'Japan'}\n",
      "{'_id': ObjectId('64d3881268d05709c6387493'), 'Name': 'chevrolet citation', 'Miles_per_Gallon': 28, 'Cylinders': 4, 'Displacement': 151, 'Horsepower': 90, 'Weight_in_lbs': 2678, 'Acceleration': 16.5, 'Year': '1980-01-01', 'Origin': 'USA'}\n",
      "{'_id': ObjectId('64d3881268d05709c6387494'), 'Name': 'ford fairmont', 'Miles_per_Gallon': 26.4, 'Cylinders': 4, 'Displacement': 140, 'Horsepower': 88, 'Weight_in_lbs': 2870, 'Acceleration': 18.1, 'Year': '1980-01-01', 'Origin': 'USA'}\n",
      "{'_id': ObjectId('64d3881268d05709c6387495'), 'Name': 'amc concord', 'Miles_per_Gallon': 24.3, 'Cylinders': 4, 'Displacement': 151, 'Horsepower': 90, 'Weight_in_lbs': 3003, 'Acceleration': 20.1, 'Year': '1980-01-01', 'Origin': 'USA'}\n",
      "{'_id': ObjectId('64d3881268d05709c6387496'), 'Name': 'dodge aspen', 'Miles_per_Gallon': 19.1, 'Cylinders': 6, 'Displacement': 225, 'Horsepower': 90, 'Weight_in_lbs': 3381, 'Acceleration': 18.7, 'Year': '1980-01-01', 'Origin': 'USA'}\n",
      "{'_id': ObjectId('64d3881268d05709c6387497'), 'Name': 'audi 4000', 'Miles_per_Gallon': 34.3, 'Cylinders': 4, 'Displacement': 97, 'Horsepower': 78, 'Weight_in_lbs': 2188, 'Acceleration': 15.8, 'Year': '1980-01-01', 'Origin': 'Europe'}\n",
      "{'_id': ObjectId('64d3881268d05709c6387498'), 'Name': 'toyota corona liftback', 'Miles_per_Gallon': 29.8, 'Cylinders': 4, 'Displacement': 134, 'Horsepower': 90, 'Weight_in_lbs': 2711, 'Acceleration': 15.5, 'Year': '1980-01-01', 'Origin': 'Japan'}\n",
      "{'_id': ObjectId('64d3881268d05709c6387499'), 'Name': 'mazda 626', 'Miles_per_Gallon': 31.3, 'Cylinders': 4, 'Displacement': 120, 'Horsepower': 75, 'Weight_in_lbs': 2542, 'Acceleration': 17.5, 'Year': '1980-01-01', 'Origin': 'Japan'}\n",
      "{'_id': ObjectId('64d3881268d05709c638749a'), 'Name': 'datsun 510 hatchback', 'Miles_per_Gallon': 37, 'Cylinders': 4, 'Displacement': 119, 'Horsepower': 92, 'Weight_in_lbs': 2434, 'Acceleration': 15, 'Year': '1980-01-01', 'Origin': 'Japan'}\n",
      "{'_id': ObjectId('64d3881268d05709c638749b'), 'Name': 'toyota corolla', 'Miles_per_Gallon': 32.2, 'Cylinders': 4, 'Displacement': 108, 'Horsepower': 75, 'Weight_in_lbs': 2265, 'Acceleration': 15.2, 'Year': '1980-01-01', 'Origin': 'Japan'}\n",
      "{'_id': ObjectId('64d3881268d05709c638749c'), 'Name': 'mazda glc', 'Miles_per_Gallon': 46.6, 'Cylinders': 4, 'Displacement': 86, 'Horsepower': 65, 'Weight_in_lbs': 2110, 'Acceleration': 17.9, 'Year': '1980-01-01', 'Origin': 'Japan'}\n",
      "{'_id': ObjectId('64d3881268d05709c638749d'), 'Name': 'dodge colt', 'Miles_per_Gallon': 27.9, 'Cylinders': 4, 'Displacement': 156, 'Horsepower': 105, 'Weight_in_lbs': 2800, 'Acceleration': 14.4, 'Year': '1980-01-01', 'Origin': 'USA'}\n",
      "{'_id': ObjectId('64d3881268d05709c638749e'), 'Name': 'datsun 210', 'Miles_per_Gallon': 40.8, 'Cylinders': 4, 'Displacement': 85, 'Horsepower': 65, 'Weight_in_lbs': 2110, 'Acceleration': 19.2, 'Year': '1980-01-01', 'Origin': 'Japan'}\n",
      "{'_id': ObjectId('64d3881268d05709c638749f'), 'Name': 'vw rabbit c (diesel)', 'Miles_per_Gallon': 44.3, 'Cylinders': 4, 'Displacement': 90, 'Horsepower': 48, 'Weight_in_lbs': 2085, 'Acceleration': 21.7, 'Year': '1980-01-01', 'Origin': 'Europe'}\n",
      "{'_id': ObjectId('64d3881268d05709c63874a0'), 'Name': 'vw dasher (diesel)', 'Miles_per_Gallon': 43.4, 'Cylinders': 4, 'Displacement': 90, 'Horsepower': 48, 'Weight_in_lbs': 2335, 'Acceleration': 23.7, 'Year': '1980-01-01', 'Origin': 'Europe'}\n",
      "{'_id': ObjectId('64d3881268d05709c63874a1'), 'Name': 'audi 5000s (diesel)', 'Miles_per_Gallon': 36.4, 'Cylinders': 5, 'Displacement': 121, 'Horsepower': 67, 'Weight_in_lbs': 2950, 'Acceleration': 19.9, 'Year': '1980-01-01', 'Origin': 'Europe'}\n",
      "{'_id': ObjectId('64d3881268d05709c63874a2'), 'Name': 'mercedes-benz 240d', 'Miles_per_Gallon': 30, 'Cylinders': 4, 'Displacement': 146, 'Horsepower': 67, 'Weight_in_lbs': 3250, 'Acceleration': 21.8, 'Year': '1980-01-01', 'Origin': 'Europe'}\n",
      "{'_id': ObjectId('64d3881268d05709c63874a3'), 'Name': 'honda civic 1500 gl', 'Miles_per_Gallon': 44.6, 'Cylinders': 4, 'Displacement': 91, 'Horsepower': 67, 'Weight_in_lbs': 1850, 'Acceleration': 13.8, 'Year': '1980-01-01', 'Origin': 'Japan'}\n",
      "{'_id': ObjectId('64d3881268d05709c63874a4'), 'Name': 'renault lecar deluxe', 'Miles_per_Gallon': 40.9, 'Cylinders': 4, 'Displacement': 85, 'Horsepower': None, 'Weight_in_lbs': 1835, 'Acceleration': 17.3, 'Year': '1980-01-01', 'Origin': 'Europe'}\n",
      "{'_id': ObjectId('64d3881268d05709c63874a5'), 'Name': 'subaru dl', 'Miles_per_Gallon': 33.8, 'Cylinders': 4, 'Displacement': 97, 'Horsepower': 67, 'Weight_in_lbs': 2145, 'Acceleration': 18, 'Year': '1980-01-01', 'Origin': 'Japan'}\n",
      "{'_id': ObjectId('64d3881268d05709c63874a6'), 'Name': 'vokswagen rabbit', 'Miles_per_Gallon': 29.8, 'Cylinders': 4, 'Displacement': 89, 'Horsepower': 62, 'Weight_in_lbs': 1845, 'Acceleration': 15.3, 'Year': '1980-01-01', 'Origin': 'Europe'}\n",
      "{'_id': ObjectId('64d3881268d05709c63874a7'), 'Name': 'datsun 280-zx', 'Miles_per_Gallon': 32.7, 'Cylinders': 6, 'Displacement': 168, 'Horsepower': 132, 'Weight_in_lbs': 2910, 'Acceleration': 11.4, 'Year': '1980-01-01', 'Origin': 'Japan'}\n",
      "{'_id': ObjectId('64d3881268d05709c63874a8'), 'Name': 'mazda rx-7 gs', 'Miles_per_Gallon': 23.7, 'Cylinders': 3, 'Displacement': 70, 'Horsepower': 100, 'Weight_in_lbs': 2420, 'Acceleration': 12.5, 'Year': '1980-01-01', 'Origin': 'Japan'}\n",
      "{'_id': ObjectId('64d3881268d05709c63874a9'), 'Name': 'triumph tr7 coupe', 'Miles_per_Gallon': 35, 'Cylinders': 4, 'Displacement': 122, 'Horsepower': 88, 'Weight_in_lbs': 2500, 'Acceleration': 15.1, 'Year': '1980-01-01', 'Origin': 'Europe'}\n",
      "{'_id': ObjectId('64d3881268d05709c63874aa'), 'Name': 'ford mustang cobra', 'Miles_per_Gallon': 23.6, 'Cylinders': 4, 'Displacement': 140, 'Horsepower': None, 'Weight_in_lbs': 2905, 'Acceleration': 14.3, 'Year': '1980-01-01', 'Origin': 'USA'}\n",
      "{'_id': ObjectId('64d3881268d05709c63874ab'), 'Name': 'honda Accelerationord', 'Miles_per_Gallon': 32.4, 'Cylinders': 4, 'Displacement': 107, 'Horsepower': 72, 'Weight_in_lbs': 2290, 'Acceleration': 17, 'Year': '1980-01-01', 'Origin': 'Japan'}\n",
      "{'_id': ObjectId('64d3881268d05709c63874ac'), 'Name': 'plymouth reliant', 'Miles_per_Gallon': 27.2, 'Cylinders': 4, 'Displacement': 135, 'Horsepower': 84, 'Weight_in_lbs': 2490, 'Acceleration': 15.7, 'Year': '1982-01-01', 'Origin': 'USA'}\n",
      "{'_id': ObjectId('64d3881268d05709c63874ad'), 'Name': 'buick skylark', 'Miles_per_Gallon': 26.6, 'Cylinders': 4, 'Displacement': 151, 'Horsepower': 84, 'Weight_in_lbs': 2635, 'Acceleration': 16.4, 'Year': '1982-01-01', 'Origin': 'USA'}\n",
      "{'_id': ObjectId('64d3881268d05709c63874ae'), 'Name': 'dodge aries wagon (sw)', 'Miles_per_Gallon': 25.8, 'Cylinders': 4, 'Displacement': 156, 'Horsepower': 92, 'Weight_in_lbs': 2620, 'Acceleration': 14.4, 'Year': '1982-01-01', 'Origin': 'USA'}\n",
      "{'_id': ObjectId('64d3881268d05709c63874af'), 'Name': 'chevrolet citation', 'Miles_per_Gallon': 23.5, 'Cylinders': 6, 'Displacement': 173, 'Horsepower': 110, 'Weight_in_lbs': 2725, 'Acceleration': 12.6, 'Year': '1982-01-01', 'Origin': 'USA'}\n",
      "{'_id': ObjectId('64d3881268d05709c63874b0'), 'Name': 'plymouth reliant', 'Miles_per_Gallon': 30, 'Cylinders': 4, 'Displacement': 135, 'Horsepower': 84, 'Weight_in_lbs': 2385, 'Acceleration': 12.9, 'Year': '1982-01-01', 'Origin': 'USA'}\n",
      "{'_id': ObjectId('64d3881268d05709c63874b1'), 'Name': 'toyota starlet', 'Miles_per_Gallon': 39.1, 'Cylinders': 4, 'Displacement': 79, 'Horsepower': 58, 'Weight_in_lbs': 1755, 'Acceleration': 16.9, 'Year': '1982-01-01', 'Origin': 'Japan'}\n",
      "{'_id': ObjectId('64d3881268d05709c63874b2'), 'Name': 'plymouth champ', 'Miles_per_Gallon': 39, 'Cylinders': 4, 'Displacement': 86, 'Horsepower': 64, 'Weight_in_lbs': 1875, 'Acceleration': 16.4, 'Year': '1982-01-01', 'Origin': 'USA'}\n",
      "{'_id': ObjectId('64d3881268d05709c63874b3'), 'Name': 'honda civic 1300', 'Miles_per_Gallon': 35.1, 'Cylinders': 4, 'Displacement': 81, 'Horsepower': 60, 'Weight_in_lbs': 1760, 'Acceleration': 16.1, 'Year': '1982-01-01', 'Origin': 'Japan'}\n",
      "{'_id': ObjectId('64d3881268d05709c63874b4'), 'Name': 'subaru', 'Miles_per_Gallon': 32.3, 'Cylinders': 4, 'Displacement': 97, 'Horsepower': 67, 'Weight_in_lbs': 2065, 'Acceleration': 17.8, 'Year': '1982-01-01', 'Origin': 'Japan'}\n",
      "{'_id': ObjectId('64d3881268d05709c63874b5'), 'Name': 'datsun 210', 'Miles_per_Gallon': 37, 'Cylinders': 4, 'Displacement': 85, 'Horsepower': 65, 'Weight_in_lbs': 1975, 'Acceleration': 19.4, 'Year': '1982-01-01', 'Origin': 'Japan'}\n",
      "{'_id': ObjectId('64d3881268d05709c63874b6'), 'Name': 'toyota tercel', 'Miles_per_Gallon': 37.7, 'Cylinders': 4, 'Displacement': 89, 'Horsepower': 62, 'Weight_in_lbs': 2050, 'Acceleration': 17.3, 'Year': '1982-01-01', 'Origin': 'Japan'}\n",
      "{'_id': ObjectId('64d3881268d05709c63874b7'), 'Name': 'mazda glc 4', 'Miles_per_Gallon': 34.1, 'Cylinders': 4, 'Displacement': 91, 'Horsepower': 68, 'Weight_in_lbs': 1985, 'Acceleration': 16, 'Year': '1982-01-01', 'Origin': 'Japan'}\n",
      "{'_id': ObjectId('64d3881268d05709c63874b8'), 'Name': 'plymouth horizon 4', 'Miles_per_Gallon': 34.7, 'Cylinders': 4, 'Displacement': 105, 'Horsepower': 63, 'Weight_in_lbs': 2215, 'Acceleration': 14.9, 'Year': '1982-01-01', 'Origin': 'USA'}\n",
      "{'_id': ObjectId('64d3881268d05709c63874b9'), 'Name': 'ford escort 4w', 'Miles_per_Gallon': 34.4, 'Cylinders': 4, 'Displacement': 98, 'Horsepower': 65, 'Weight_in_lbs': 2045, 'Acceleration': 16.2, 'Year': '1982-01-01', 'Origin': 'USA'}\n",
      "{'_id': ObjectId('64d3881268d05709c63874ba'), 'Name': 'ford escort 2h', 'Miles_per_Gallon': 29.9, 'Cylinders': 4, 'Displacement': 98, 'Horsepower': 65, 'Weight_in_lbs': 2380, 'Acceleration': 20.7, 'Year': '1982-01-01', 'Origin': 'USA'}\n",
      "{'_id': ObjectId('64d3881268d05709c63874bb'), 'Name': 'volkswagen jetta', 'Miles_per_Gallon': 33, 'Cylinders': 4, 'Displacement': 105, 'Horsepower': 74, 'Weight_in_lbs': 2190, 'Acceleration': 14.2, 'Year': '1982-01-01', 'Origin': 'Europe'}\n",
      "{'_id': ObjectId('64d3881268d05709c63874bc'), 'Name': 'renault 18i', 'Miles_per_Gallon': 34.5, 'Cylinders': 4, 'Displacement': 100, 'Horsepower': None, 'Weight_in_lbs': 2320, 'Acceleration': 15.8, 'Year': '1982-01-01', 'Origin': 'Europe'}\n",
      "{'_id': ObjectId('64d3881268d05709c63874bd'), 'Name': 'honda prelude', 'Miles_per_Gallon': 33.7, 'Cylinders': 4, 'Displacement': 107, 'Horsepower': 75, 'Weight_in_lbs': 2210, 'Acceleration': 14.4, 'Year': '1982-01-01', 'Origin': 'Japan'}\n",
      "{'_id': ObjectId('64d3881268d05709c63874be'), 'Name': 'toyota corolla', 'Miles_per_Gallon': 32.4, 'Cylinders': 4, 'Displacement': 108, 'Horsepower': 75, 'Weight_in_lbs': 2350, 'Acceleration': 16.8, 'Year': '1982-01-01', 'Origin': 'Japan'}\n",
      "{'_id': ObjectId('64d3881268d05709c63874bf'), 'Name': 'datsun 200sx', 'Miles_per_Gallon': 32.9, 'Cylinders': 4, 'Displacement': 119, 'Horsepower': 100, 'Weight_in_lbs': 2615, 'Acceleration': 14.8, 'Year': '1982-01-01', 'Origin': 'Japan'}\n",
      "{'_id': ObjectId('64d3881268d05709c63874c0'), 'Name': 'mazda 626', 'Miles_per_Gallon': 31.6, 'Cylinders': 4, 'Displacement': 120, 'Horsepower': 74, 'Weight_in_lbs': 2635, 'Acceleration': 18.3, 'Year': '1982-01-01', 'Origin': 'Japan'}\n",
      "{'_id': ObjectId('64d3881268d05709c63874c1'), 'Name': 'peugeot 505s turbo diesel', 'Miles_per_Gallon': 28.1, 'Cylinders': 4, 'Displacement': 141, 'Horsepower': 80, 'Weight_in_lbs': 3230, 'Acceleration': 20.4, 'Year': '1982-01-01', 'Origin': 'Europe'}\n",
      "{'_id': ObjectId('64d3881268d05709c63874c2'), 'Name': 'saab 900s', 'Miles_per_Gallon': None, 'Cylinders': 4, 'Displacement': 121, 'Horsepower': 110, 'Weight_in_lbs': 2800, 'Acceleration': 15.4, 'Year': '1982-01-01', 'Origin': 'Europe'}\n",
      "{'_id': ObjectId('64d3881268d05709c63874c3'), 'Name': 'volvo diesel', 'Miles_per_Gallon': 30.7, 'Cylinders': 6, 'Displacement': 145, 'Horsepower': 76, 'Weight_in_lbs': 3160, 'Acceleration': 19.6, 'Year': '1982-01-01', 'Origin': 'Europe'}\n",
      "{'_id': ObjectId('64d3881268d05709c63874c4'), 'Name': 'toyota cressida', 'Miles_per_Gallon': 25.4, 'Cylinders': 6, 'Displacement': 168, 'Horsepower': 116, 'Weight_in_lbs': 2900, 'Acceleration': 12.6, 'Year': '1982-01-01', 'Origin': 'Japan'}\n",
      "{'_id': ObjectId('64d3881268d05709c63874c5'), 'Name': 'datsun 810 maxima', 'Miles_per_Gallon': 24.2, 'Cylinders': 6, 'Displacement': 146, 'Horsepower': 120, 'Weight_in_lbs': 2930, 'Acceleration': 13.8, 'Year': '1982-01-01', 'Origin': 'Japan'}\n",
      "{'_id': ObjectId('64d3881268d05709c63874c6'), 'Name': 'buick century', 'Miles_per_Gallon': 22.4, 'Cylinders': 6, 'Displacement': 231, 'Horsepower': 110, 'Weight_in_lbs': 3415, 'Acceleration': 15.8, 'Year': '1982-01-01', 'Origin': 'USA'}\n",
      "{'_id': ObjectId('64d3881268d05709c63874c7'), 'Name': 'oldsmobile cutlass ls', 'Miles_per_Gallon': 26.6, 'Cylinders': 8, 'Displacement': 350, 'Horsepower': 105, 'Weight_in_lbs': 3725, 'Acceleration': 19, 'Year': '1982-01-01', 'Origin': 'USA'}\n",
      "{'_id': ObjectId('64d3881268d05709c63874c8'), 'Name': 'ford granada gl', 'Miles_per_Gallon': 20.2, 'Cylinders': 6, 'Displacement': 200, 'Horsepower': 88, 'Weight_in_lbs': 3060, 'Acceleration': 17.1, 'Year': '1982-01-01', 'Origin': 'USA'}\n",
      "{'_id': ObjectId('64d3881268d05709c63874c9'), 'Name': 'chrysler lebaron salon', 'Miles_per_Gallon': 17.6, 'Cylinders': 6, 'Displacement': 225, 'Horsepower': 85, 'Weight_in_lbs': 3465, 'Acceleration': 16.6, 'Year': '1982-01-01', 'Origin': 'USA'}\n",
      "{'_id': ObjectId('64d3881268d05709c63874ca'), 'Name': 'chevrolet cavalier', 'Miles_per_Gallon': 28, 'Cylinders': 4, 'Displacement': 112, 'Horsepower': 88, 'Weight_in_lbs': 2605, 'Acceleration': 19.6, 'Year': '1982-01-01', 'Origin': 'USA'}\n",
      "{'_id': ObjectId('64d3881268d05709c63874cb'), 'Name': 'chevrolet cavalier wagon', 'Miles_per_Gallon': 27, 'Cylinders': 4, 'Displacement': 112, 'Horsepower': 88, 'Weight_in_lbs': 2640, 'Acceleration': 18.6, 'Year': '1982-01-01', 'Origin': 'USA'}\n",
      "{'_id': ObjectId('64d3881268d05709c63874cc'), 'Name': 'chevrolet cavalier 2-door', 'Miles_per_Gallon': 34, 'Cylinders': 4, 'Displacement': 112, 'Horsepower': 88, 'Weight_in_lbs': 2395, 'Acceleration': 18, 'Year': '1982-01-01', 'Origin': 'USA'}\n",
      "{'_id': ObjectId('64d3881268d05709c63874cd'), 'Name': 'pontiac j2000 se hatchback', 'Miles_per_Gallon': 31, 'Cylinders': 4, 'Displacement': 112, 'Horsepower': 85, 'Weight_in_lbs': 2575, 'Acceleration': 16.2, 'Year': '1982-01-01', 'Origin': 'USA'}\n",
      "{'_id': ObjectId('64d3881268d05709c63874ce'), 'Name': 'dodge aries se', 'Miles_per_Gallon': 29, 'Cylinders': 4, 'Displacement': 135, 'Horsepower': 84, 'Weight_in_lbs': 2525, 'Acceleration': 16, 'Year': '1982-01-01', 'Origin': 'USA'}\n",
      "{'_id': ObjectId('64d3881268d05709c63874cf'), 'Name': 'pontiac phoenix', 'Miles_per_Gallon': 27, 'Cylinders': 4, 'Displacement': 151, 'Horsepower': 90, 'Weight_in_lbs': 2735, 'Acceleration': 18, 'Year': '1982-01-01', 'Origin': 'USA'}\n",
      "{'_id': ObjectId('64d3881268d05709c63874d0'), 'Name': 'ford fairmont futura', 'Miles_per_Gallon': 24, 'Cylinders': 4, 'Displacement': 140, 'Horsepower': 92, 'Weight_in_lbs': 2865, 'Acceleration': 16.4, 'Year': '1982-01-01', 'Origin': 'USA'}\n",
      "{'_id': ObjectId('64d3881268d05709c63874d1'), 'Name': 'amc concord dl', 'Miles_per_Gallon': 23, 'Cylinders': 4, 'Displacement': 151, 'Horsepower': None, 'Weight_in_lbs': 3035, 'Acceleration': 20.5, 'Year': '1982-01-01', 'Origin': 'USA'}\n",
      "{'_id': ObjectId('64d3881268d05709c63874d2'), 'Name': 'volkswagen rabbit l', 'Miles_per_Gallon': 36, 'Cylinders': 4, 'Displacement': 105, 'Horsepower': 74, 'Weight_in_lbs': 1980, 'Acceleration': 15.3, 'Year': '1982-01-01', 'Origin': 'Europe'}\n",
      "{'_id': ObjectId('64d3881268d05709c63874d3'), 'Name': 'mazda glc custom l', 'Miles_per_Gallon': 37, 'Cylinders': 4, 'Displacement': 91, 'Horsepower': 68, 'Weight_in_lbs': 2025, 'Acceleration': 18.2, 'Year': '1982-01-01', 'Origin': 'Japan'}\n",
      "{'_id': ObjectId('64d3881268d05709c63874d4'), 'Name': 'mazda glc custom', 'Miles_per_Gallon': 31, 'Cylinders': 4, 'Displacement': 91, 'Horsepower': 68, 'Weight_in_lbs': 1970, 'Acceleration': 17.6, 'Year': '1982-01-01', 'Origin': 'Japan'}\n",
      "{'_id': ObjectId('64d3881268d05709c63874d5'), 'Name': 'plymouth horizon miser', 'Miles_per_Gallon': 38, 'Cylinders': 4, 'Displacement': 105, 'Horsepower': 63, 'Weight_in_lbs': 2125, 'Acceleration': 14.7, 'Year': '1982-01-01', 'Origin': 'USA'}\n",
      "{'_id': ObjectId('64d3881268d05709c63874d6'), 'Name': 'mercury lynx l', 'Miles_per_Gallon': 36, 'Cylinders': 4, 'Displacement': 98, 'Horsepower': 70, 'Weight_in_lbs': 2125, 'Acceleration': 17.3, 'Year': '1982-01-01', 'Origin': 'USA'}\n",
      "{'_id': ObjectId('64d3881268d05709c63874d7'), 'Name': 'nissan stanza xe', 'Miles_per_Gallon': 36, 'Cylinders': 4, 'Displacement': 120, 'Horsepower': 88, 'Weight_in_lbs': 2160, 'Acceleration': 14.5, 'Year': '1982-01-01', 'Origin': 'Japan'}\n",
      "{'_id': ObjectId('64d3881268d05709c63874d8'), 'Name': 'honda Accelerationord', 'Miles_per_Gallon': 36, 'Cylinders': 4, 'Displacement': 107, 'Horsepower': 75, 'Weight_in_lbs': 2205, 'Acceleration': 14.5, 'Year': '1982-01-01', 'Origin': 'Japan'}\n",
      "{'_id': ObjectId('64d3881268d05709c63874d9'), 'Name': 'toyota corolla', 'Miles_per_Gallon': 34, 'Cylinders': 4, 'Displacement': 108, 'Horsepower': 70, 'Weight_in_lbs': 2245, 'Acceleration': 16.9, 'Year': '1982-01-01', 'Origin': 'Japan'}\n",
      "{'_id': ObjectId('64d3881268d05709c63874da'), 'Name': 'honda civic', 'Miles_per_Gallon': 38, 'Cylinders': 4, 'Displacement': 91, 'Horsepower': 67, 'Weight_in_lbs': 1965, 'Acceleration': 15, 'Year': '1982-01-01', 'Origin': 'Japan'}\n",
      "{'_id': ObjectId('64d3881268d05709c63874db'), 'Name': 'honda civic (auto)', 'Miles_per_Gallon': 32, 'Cylinders': 4, 'Displacement': 91, 'Horsepower': 67, 'Weight_in_lbs': 1965, 'Acceleration': 15.7, 'Year': '1982-01-01', 'Origin': 'Japan'}\n",
      "{'_id': ObjectId('64d3881268d05709c63874dc'), 'Name': 'datsun 310 gx', 'Miles_per_Gallon': 38, 'Cylinders': 4, 'Displacement': 91, 'Horsepower': 67, 'Weight_in_lbs': 1995, 'Acceleration': 16.2, 'Year': '1982-01-01', 'Origin': 'Japan'}\n",
      "{'_id': ObjectId('64d3881268d05709c63874dd'), 'Name': 'buick century limited', 'Miles_per_Gallon': 25, 'Cylinders': 6, 'Displacement': 181, 'Horsepower': 110, 'Weight_in_lbs': 2945, 'Acceleration': 16.4, 'Year': '1982-01-01', 'Origin': 'USA'}\n",
      "{'_id': ObjectId('64d3881268d05709c63874de'), 'Name': 'oldsmobile cutlass ciera (diesel)', 'Miles_per_Gallon': 38, 'Cylinders': 6, 'Displacement': 262, 'Horsepower': 85, 'Weight_in_lbs': 3015, 'Acceleration': 17, 'Year': '1982-01-01', 'Origin': 'USA'}\n",
      "{'_id': ObjectId('64d3881268d05709c63874df'), 'Name': 'chrysler lebaron medallion', 'Miles_per_Gallon': 26, 'Cylinders': 4, 'Displacement': 156, 'Horsepower': 92, 'Weight_in_lbs': 2585, 'Acceleration': 14.5, 'Year': '1982-01-01', 'Origin': 'USA'}\n",
      "{'_id': ObjectId('64d3881268d05709c63874e0'), 'Name': 'ford granada l', 'Miles_per_Gallon': 22, 'Cylinders': 6, 'Displacement': 232, 'Horsepower': 112, 'Weight_in_lbs': 2835, 'Acceleration': 14.7, 'Year': '1982-01-01', 'Origin': 'USA'}\n",
      "{'_id': ObjectId('64d3881268d05709c63874e1'), 'Name': 'toyota celica gt', 'Miles_per_Gallon': 32, 'Cylinders': 4, 'Displacement': 144, 'Horsepower': 96, 'Weight_in_lbs': 2665, 'Acceleration': 13.9, 'Year': '1982-01-01', 'Origin': 'Japan'}\n",
      "{'_id': ObjectId('64d3881268d05709c63874e2'), 'Name': 'dodge charger 2.2', 'Miles_per_Gallon': 36, 'Cylinders': 4, 'Displacement': 135, 'Horsepower': 84, 'Weight_in_lbs': 2370, 'Acceleration': 13, 'Year': '1982-01-01', 'Origin': 'USA'}\n",
      "{'_id': ObjectId('64d3881268d05709c63874e3'), 'Name': 'chevrolet camaro', 'Miles_per_Gallon': 27, 'Cylinders': 4, 'Displacement': 151, 'Horsepower': 90, 'Weight_in_lbs': 2950, 'Acceleration': 17.3, 'Year': '1982-01-01', 'Origin': 'USA'}\n",
      "{'_id': ObjectId('64d3881268d05709c63874e4'), 'Name': 'ford mustang gl', 'Miles_per_Gallon': 27, 'Cylinders': 4, 'Displacement': 140, 'Horsepower': 86, 'Weight_in_lbs': 2790, 'Acceleration': 15.6, 'Year': '1982-01-01', 'Origin': 'USA'}\n",
      "{'_id': ObjectId('64d3881268d05709c63874e5'), 'Name': 'vw pickup', 'Miles_per_Gallon': 44, 'Cylinders': 4, 'Displacement': 97, 'Horsepower': 52, 'Weight_in_lbs': 2130, 'Acceleration': 24.6, 'Year': '1982-01-01', 'Origin': 'Europe'}\n",
      "{'_id': ObjectId('64d3881268d05709c63874e6'), 'Name': 'dodge rampage', 'Miles_per_Gallon': 32, 'Cylinders': 4, 'Displacement': 135, 'Horsepower': 84, 'Weight_in_lbs': 2295, 'Acceleration': 11.6, 'Year': '1982-01-01', 'Origin': 'USA'}\n",
      "{'_id': ObjectId('64d3881268d05709c63874e7'), 'Name': 'ford ranger', 'Miles_per_Gallon': 28, 'Cylinders': 4, 'Displacement': 120, 'Horsepower': 79, 'Weight_in_lbs': 2625, 'Acceleration': 18.6, 'Year': '1982-01-01', 'Origin': 'USA'}\n",
      "{'_id': ObjectId('64d3881268d05709c63874e8'), 'Name': 'chevy s-10', 'Miles_per_Gallon': 31, 'Cylinders': 4, 'Displacement': 119, 'Horsepower': 82, 'Weight_in_lbs': 2720, 'Acceleration': 19.4, 'Year': '1982-01-01', 'Origin': 'USA'}\n"
     ]
    }
   ],
   "source": [
    "for doc in cursor:\n",
    "    print(doc)"
   ]
  },
  {
   "cell_type": "code",
   "execution_count": 12,
   "metadata": {},
   "outputs": [
    {
     "data": {
      "text/plain": [
       "'Miles_per_Gallon_1'"
      ]
     },
     "execution_count": 12,
     "metadata": {},
     "output_type": "execute_result"
    }
   ],
   "source": [
    "car_collection.create_index('Miles_per_Gallon')"
   ]
  },
  {
   "cell_type": "code",
   "execution_count": 13,
   "metadata": {},
   "outputs": [
    {
     "data": {
      "text/plain": [
       "{'_id_': {'v': 2, 'key': [('_id', 1)]},\n",
       " 'Miles_per_Gallon_1': {'v': 2, 'key': [('Miles_per_Gallon', 1)]}}"
      ]
     },
     "execution_count": 13,
     "metadata": {},
     "output_type": "execute_result"
    }
   ],
   "source": [
    "car_collection.index_information()"
   ]
  },
  {
   "cell_type": "code",
   "execution_count": 16,
   "metadata": {},
   "outputs": [],
   "source": [
    "cursor = car_collection.find({'Cylinders': {'$eq': 8}})"
   ]
  },
  {
   "cell_type": "code",
   "execution_count": 17,
   "metadata": {},
   "outputs": [
    {
     "data": {
      "text/plain": [
       "108"
      ]
     },
     "execution_count": 17,
     "metadata": {},
     "output_type": "execute_result"
    }
   ],
   "source": [
    "len(list(cursor))"
   ]
  },
  {
   "cell_type": "code",
   "execution_count": 18,
   "metadata": {},
   "outputs": [
    {
     "data": {
      "text/plain": [
       "{'explainVersion': '1',\n",
       " 'queryPlanner': {'namespace': 'knowledgehut.cars',\n",
       "  'indexFilterSet': False,\n",
       "  'parsedQuery': {'Cylinders': {'$eq': 8}},\n",
       "  'queryHash': 'B5C8E7D6',\n",
       "  'planCacheKey': 'B5C8E7D6',\n",
       "  'maxIndexedOrSolutionsReached': False,\n",
       "  'maxIndexedAndSolutionsReached': False,\n",
       "  'maxScansToExplodeReached': False,\n",
       "  'winningPlan': {'stage': 'COLLSCAN',\n",
       "   'filter': {'Cylinders': {'$eq': 8}},\n",
       "   'direction': 'forward'},\n",
       "  'rejectedPlans': []},\n",
       " 'executionStats': {'executionSuccess': True,\n",
       "  'nReturned': 108,\n",
       "  'executionTimeMillis': 0,\n",
       "  'totalKeysExamined': 0,\n",
       "  'totalDocsExamined': 406,\n",
       "  'executionStages': {'stage': 'COLLSCAN',\n",
       "   'filter': {'Cylinders': {'$eq': 8}},\n",
       "   'nReturned': 108,\n",
       "   'executionTimeMillisEstimate': 0,\n",
       "   'works': 407,\n",
       "   'advanced': 108,\n",
       "   'needTime': 298,\n",
       "   'needYield': 0,\n",
       "   'saveState': 0,\n",
       "   'restoreState': 0,\n",
       "   'isEOF': 1,\n",
       "   'direction': 'forward',\n",
       "   'docsExamined': 406},\n",
       "  'allPlansExecution': []},\n",
       " 'command': {'find': 'cars',\n",
       "  'filter': {'Cylinders': {'$eq': 8}},\n",
       "  '$db': 'knowledgehut'},\n",
       " 'serverInfo': {'host': 'Lenovo-IP320',\n",
       "  'port': 27017,\n",
       "  'version': '6.0.8',\n",
       "  'gitVersion': '3d84c0dd4e5d99be0d69003652313e7eaf4cdd74'},\n",
       " 'serverParameters': {'internalQueryFacetBufferSizeBytes': 104857600,\n",
       "  'internalQueryFacetMaxOutputDocSizeBytes': 104857600,\n",
       "  'internalLookupStageIntermediateDocumentMaxSizeBytes': 104857600,\n",
       "  'internalDocumentSourceGroupMaxMemoryBytes': 104857600,\n",
       "  'internalQueryMaxBlockingSortMemoryUsageBytes': 104857600,\n",
       "  'internalQueryProhibitBlockingMergeOnMongoS': 0,\n",
       "  'internalQueryMaxAddToSetBytes': 104857600,\n",
       "  'internalDocumentSourceSetWindowFieldsMaxMemoryBytes': 104857600},\n",
       " 'ok': 1.0}"
      ]
     },
     "execution_count": 18,
     "metadata": {},
     "output_type": "execute_result"
    }
   ],
   "source": [
    "car_collection.find({'Cylinders': {'$eq': 8}}).explain()"
   ]
  },
  {
   "cell_type": "code",
   "execution_count": 19,
   "metadata": {},
   "outputs": [
    {
     "data": {
      "text/plain": [
       "406"
      ]
     },
     "execution_count": 19,
     "metadata": {},
     "output_type": "execute_result"
    }
   ],
   "source": [
    "car_collection.count_documents({})"
   ]
  },
  {
   "cell_type": "code",
   "execution_count": 20,
   "metadata": {},
   "outputs": [
    {
     "data": {
      "text/plain": [
       "{'explainVersion': '1',\n",
       " 'queryPlanner': {'namespace': 'knowledgehut.cars',\n",
       "  'indexFilterSet': False,\n",
       "  'parsedQuery': {'Miles_per_Gallon': {'$gt': 20}},\n",
       "  'queryHash': '6C7E9E49',\n",
       "  'planCacheKey': 'ACE5B64F',\n",
       "  'maxIndexedOrSolutionsReached': False,\n",
       "  'maxIndexedAndSolutionsReached': False,\n",
       "  'maxScansToExplodeReached': False,\n",
       "  'winningPlan': {'stage': 'FETCH',\n",
       "   'inputStage': {'stage': 'IXSCAN',\n",
       "    'keyPattern': {'Miles_per_Gallon': 1},\n",
       "    'indexName': 'Miles_per_Gallon_1',\n",
       "    'isMultiKey': False,\n",
       "    'multiKeyPaths': {'Miles_per_Gallon': []},\n",
       "    'isUnique': False,\n",
       "    'isSparse': False,\n",
       "    'isPartial': False,\n",
       "    'indexVersion': 2,\n",
       "    'direction': 'forward',\n",
       "    'indexBounds': {'Miles_per_Gallon': ['(20, inf.0]']}}},\n",
       "  'rejectedPlans': []},\n",
       " 'executionStats': {'executionSuccess': True,\n",
       "  'nReturned': 238,\n",
       "  'executionTimeMillis': 1,\n",
       "  'totalKeysExamined': 238,\n",
       "  'totalDocsExamined': 238,\n",
       "  'executionStages': {'stage': 'FETCH',\n",
       "   'nReturned': 238,\n",
       "   'executionTimeMillisEstimate': 0,\n",
       "   'works': 239,\n",
       "   'advanced': 238,\n",
       "   'needTime': 0,\n",
       "   'needYield': 0,\n",
       "   'saveState': 0,\n",
       "   'restoreState': 0,\n",
       "   'isEOF': 1,\n",
       "   'docsExamined': 238,\n",
       "   'alreadyHasObj': 0,\n",
       "   'inputStage': {'stage': 'IXSCAN',\n",
       "    'nReturned': 238,\n",
       "    'executionTimeMillisEstimate': 0,\n",
       "    'works': 239,\n",
       "    'advanced': 238,\n",
       "    'needTime': 0,\n",
       "    'needYield': 0,\n",
       "    'saveState': 0,\n",
       "    'restoreState': 0,\n",
       "    'isEOF': 1,\n",
       "    'keyPattern': {'Miles_per_Gallon': 1},\n",
       "    'indexName': 'Miles_per_Gallon_1',\n",
       "    'isMultiKey': False,\n",
       "    'multiKeyPaths': {'Miles_per_Gallon': []},\n",
       "    'isUnique': False,\n",
       "    'isSparse': False,\n",
       "    'isPartial': False,\n",
       "    'indexVersion': 2,\n",
       "    'direction': 'forward',\n",
       "    'indexBounds': {'Miles_per_Gallon': ['(20, inf.0]']},\n",
       "    'keysExamined': 238,\n",
       "    'seeks': 1,\n",
       "    'dupsTested': 0,\n",
       "    'dupsDropped': 0}},\n",
       "  'allPlansExecution': []},\n",
       " 'command': {'find': 'cars',\n",
       "  'filter': {'Miles_per_Gallon': {'$gt': 20}},\n",
       "  '$db': 'knowledgehut'},\n",
       " 'serverInfo': {'host': 'Lenovo-IP320',\n",
       "  'port': 27017,\n",
       "  'version': '6.0.8',\n",
       "  'gitVersion': '3d84c0dd4e5d99be0d69003652313e7eaf4cdd74'},\n",
       " 'serverParameters': {'internalQueryFacetBufferSizeBytes': 104857600,\n",
       "  'internalQueryFacetMaxOutputDocSizeBytes': 104857600,\n",
       "  'internalLookupStageIntermediateDocumentMaxSizeBytes': 104857600,\n",
       "  'internalDocumentSourceGroupMaxMemoryBytes': 104857600,\n",
       "  'internalQueryMaxBlockingSortMemoryUsageBytes': 104857600,\n",
       "  'internalQueryProhibitBlockingMergeOnMongoS': 0,\n",
       "  'internalQueryMaxAddToSetBytes': 104857600,\n",
       "  'internalDocumentSourceSetWindowFieldsMaxMemoryBytes': 104857600},\n",
       " 'ok': 1.0}"
      ]
     },
     "execution_count": 20,
     "metadata": {},
     "output_type": "execute_result"
    }
   ],
   "source": [
    "car_collection.find({'Miles_per_Gallon': {'$gt': 20}}).explain()"
   ]
  },
  {
   "cell_type": "code",
   "execution_count": 21,
   "metadata": {},
   "outputs": [],
   "source": [
    "cursor = car_collection.aggregate([])"
   ]
  },
  {
   "cell_type": "code",
   "execution_count": 23,
   "metadata": {},
   "outputs": [
    {
     "data": {
      "text/plain": [
       "406"
      ]
     },
     "execution_count": 23,
     "metadata": {},
     "output_type": "execute_result"
    }
   ],
   "source": [
    "len(list(cursor))"
   ]
  },
  {
   "cell_type": "code",
   "execution_count": 24,
   "metadata": {},
   "outputs": [],
   "source": [
    "cursor = car_collection.aggregate([\n",
    "    # Stage 1\n",
    "    {\"$match\":{'Miles_per_Gallon':{\"$gt\": 20}}}\n",
    "])"
   ]
  },
  {
   "cell_type": "code",
   "execution_count": 26,
   "metadata": {},
   "outputs": [
    {
     "data": {
      "text/plain": [
       "238"
      ]
     },
     "execution_count": 26,
     "metadata": {},
     "output_type": "execute_result"
    }
   ],
   "source": [
    "len(list(cursor))"
   ]
  },
  {
   "cell_type": "code",
   "execution_count": 32,
   "metadata": {},
   "outputs": [],
   "source": [
    "cursor = car_collection.aggregate([\n",
    "    # Stage 1\n",
    "    {\"$match\":{'Miles_per_Gallon':{\"$gt\": 20}}},\n",
    "    # Stage 2\n",
    "    {\"$group\": {'_id': \"$Cylinders\"}}\n",
    "])"
   ]
  },
  {
   "cell_type": "code",
   "execution_count": 34,
   "metadata": {},
   "outputs": [
    {
     "name": "stdout",
     "output_type": "stream",
     "text": [
      "{'_id': 6}\n",
      "{'_id': 5}\n",
      "{'_id': 4}\n",
      "{'_id': 8}\n",
      "{'_id': 3}\n"
     ]
    }
   ],
   "source": [
    "for doc in cursor:\n",
    "    print(doc)"
   ]
  },
  {
   "cell_type": "code",
   "execution_count": 40,
   "metadata": {},
   "outputs": [],
   "source": [
    "cursor = car_collection.aggregate([\n",
    "    # Stage 1\n",
    "    {\"$match\":{'Miles_per_Gallon':{\"$gt\": 20}}},\n",
    "    # Stage 2\n",
    "    {\n",
    "        \"$group\":{\n",
    "            \"_id\": {\n",
    "                'Cylinders': '$Cylinders'\n",
    "            },\n",
    "            \"avg_mileage\": {\n",
    "                '$avg': '$Miles_per_Gallon'\n",
    "            },\n",
    "            \"count_doc\": {\n",
    "                '$sum': 1\n",
    "            }\n",
    "        }\n",
    "    }\n",
    "])"
   ]
  },
  {
   "cell_type": "code",
   "execution_count": 41,
   "metadata": {},
   "outputs": [
    {
     "name": "stdout",
     "output_type": "stream",
     "text": [
      "{'_id': {'Cylinders': 5}, 'avg_mileage': 27.366666666666664, 'count_doc': 3}\n",
      "{'_id': {'Cylinders': 3}, 'avg_mileage': 22.6, 'count_doc': 2}\n",
      "{'_id': {'Cylinders': 4}, 'avg_mileage': 29.691326530612244, 'count_doc': 196}\n",
      "{'_id': {'Cylinders': 8}, 'avg_mileage': 23.425, 'count_doc': 4}\n",
      "{'_id': {'Cylinders': 6}, 'avg_mileage': 23.26060606060606, 'count_doc': 33}\n"
     ]
    }
   ],
   "source": [
    "for doc in cursor:\n",
    "    print(doc)"
   ]
  },
  {
   "cell_type": "code",
   "execution_count": 42,
   "metadata": {},
   "outputs": [],
   "source": [
    "cursor = car_collection.aggregate([\n",
    "    # Stage 1\n",
    "    {\"$match\":{'Miles_per_Gallon':{\"$gt\": 20}}},\n",
    "    # Stage 2\n",
    "    {\n",
    "        \"$group\":{\n",
    "            \"_id\": {\n",
    "                'Cylinders': '$Cylinders'\n",
    "            },\n",
    "            \"avg_mileage\": {\n",
    "                '$avg': '$Miles_per_Gallon'\n",
    "            },\n",
    "            \"count_doc\": {\n",
    "                '$sum': 1\n",
    "            }\n",
    "        }\n",
    "    },\n",
    "    # Stage 3\n",
    "    {\n",
    "        \"$sort\":{\n",
    "            \"avg_mileage\": -1\n",
    "        }\n",
    "    }\n",
    "])"
   ]
  },
  {
   "cell_type": "code",
   "execution_count": 43,
   "metadata": {},
   "outputs": [
    {
     "name": "stdout",
     "output_type": "stream",
     "text": [
      "{'_id': {'Cylinders': 4}, 'avg_mileage': 29.691326530612244, 'count_doc': 196}\n",
      "{'_id': {'Cylinders': 5}, 'avg_mileage': 27.366666666666664, 'count_doc': 3}\n",
      "{'_id': {'Cylinders': 8}, 'avg_mileage': 23.425, 'count_doc': 4}\n",
      "{'_id': {'Cylinders': 6}, 'avg_mileage': 23.26060606060606, 'count_doc': 33}\n",
      "{'_id': {'Cylinders': 3}, 'avg_mileage': 22.6, 'count_doc': 2}\n"
     ]
    }
   ],
   "source": [
    "for doc in cursor:\n",
    "    print(doc)"
   ]
  },
  {
   "cell_type": "code",
   "execution_count": 44,
   "metadata": {},
   "outputs": [],
   "source": [
    "cursor = car_collection.aggregate([\n",
    "    # Stage 1\n",
    "    {\"$match\":{'Miles_per_Gallon':{\"$gt\": 20}}},\n",
    "    # Stage 2\n",
    "    {\n",
    "        \"$group\":{\n",
    "            \"_id\": {\n",
    "                'Cylinders': '$Cylinders'\n",
    "            },\n",
    "            \"avg_mileage\": {\n",
    "                '$avg': '$Miles_per_Gallon'\n",
    "            },\n",
    "            \"count_doc\": {\n",
    "                '$sum': 1\n",
    "            }\n",
    "        }\n",
    "    },\n",
    "    # Stage 3\n",
    "    {\n",
    "        \"$sort\":{\n",
    "            \"avg_mileage\": -1\n",
    "        }\n",
    "    },\n",
    "    # Stage 4\n",
    "    {\n",
    "        \"$limit\": 3\n",
    "    }\n",
    "])"
   ]
  },
  {
   "cell_type": "code",
   "execution_count": 45,
   "metadata": {},
   "outputs": [
    {
     "name": "stdout",
     "output_type": "stream",
     "text": [
      "{'_id': {'Cylinders': 4}, 'avg_mileage': 29.691326530612244, 'count_doc': 196}\n",
      "{'_id': {'Cylinders': 5}, 'avg_mileage': 27.366666666666664, 'count_doc': 3}\n",
      "{'_id': {'Cylinders': 8}, 'avg_mileage': 23.425, 'count_doc': 4}\n"
     ]
    }
   ],
   "source": [
    "for doc in cursor:\n",
    "    print(doc)"
   ]
  },
  {
   "cell_type": "code",
   "execution_count": null,
   "metadata": {},
   "outputs": [],
   "source": []
  }
 ],
 "metadata": {
  "kernelspec": {
   "display_name": "Python 3",
   "language": "python",
   "name": "python3"
  },
  "language_info": {
   "codemirror_mode": {
    "name": "ipython",
    "version": 3
   },
   "file_extension": ".py",
   "mimetype": "text/x-python",
   "name": "python",
   "nbconvert_exporter": "python",
   "pygments_lexer": "ipython3",
   "version": "3.8.5"
  }
 },
 "nbformat": 4,
 "nbformat_minor": 4
}
