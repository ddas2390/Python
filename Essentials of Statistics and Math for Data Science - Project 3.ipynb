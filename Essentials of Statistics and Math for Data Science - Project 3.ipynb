{
 "cells": [
  {
   "cell_type": "markdown",
   "id": "4a1fe630",
   "metadata": {},
   "source": [
    "### Part A:\n",
    "Six different machines are being considered for use in manufacturing rubber seals. The machines are being compared with respect to tensile strength of the product. A random sample of four seals from each machine is used to determine whether the mean tensile strength varies from machine to machine. In the Data.xlsx (Sheet Part A) file you find the tensile-strength measurements in kilograms per square centimeter \n",
    "Perform the analysis of variance at the 0.05 level of significance and indicate whether or not the mean tensile strengths differ significantly for the six machines."
   ]
  },
  {
   "cell_type": "code",
   "execution_count": 62,
   "id": "5edbd67b",
   "metadata": {},
   "outputs": [],
   "source": [
    "import pandas as pd\n",
    "from scipy.stats import f_oneway\n",
    "import numpy as np"
   ]
  },
  {
   "cell_type": "code",
   "execution_count": 21,
   "id": "2d06bde9",
   "metadata": {},
   "outputs": [
    {
     "data": {
      "text/plain": [
       "['Part A', 'Part B']"
      ]
     },
     "execution_count": 21,
     "metadata": {},
     "output_type": "execute_result"
    }
   ],
   "source": [
    "workbook = pd.ExcelFile('Data.xlsx')\n",
    "workbook.sheet_names"
   ]
  },
  {
   "cell_type": "code",
   "execution_count": 22,
   "id": "21e6ea78",
   "metadata": {},
   "outputs": [],
   "source": [
    "df = pd.read_excel('Data.xlsx', sheet_name='Part A')"
   ]
  },
  {
   "cell_type": "code",
   "execution_count": 26,
   "id": "4516a481",
   "metadata": {},
   "outputs": [
    {
     "data": {
      "text/html": [
       "<div>\n",
       "<style scoped>\n",
       "    .dataframe tbody tr th:only-of-type {\n",
       "        vertical-align: middle;\n",
       "    }\n",
       "\n",
       "    .dataframe tbody tr th {\n",
       "        vertical-align: top;\n",
       "    }\n",
       "\n",
       "    .dataframe thead th {\n",
       "        text-align: right;\n",
       "    }\n",
       "</style>\n",
       "<table border=\"1\" class=\"dataframe\">\n",
       "  <thead>\n",
       "    <tr style=\"text-align: right;\">\n",
       "      <th></th>\n",
       "      <th>Machine</th>\n",
       "      <th>Measurement</th>\n",
       "    </tr>\n",
       "  </thead>\n",
       "  <tbody>\n",
       "    <tr>\n",
       "      <th>0</th>\n",
       "      <td>1</td>\n",
       "      <td>18</td>\n",
       "    </tr>\n",
       "    <tr>\n",
       "      <th>1</th>\n",
       "      <td>1</td>\n",
       "      <td>17</td>\n",
       "    </tr>\n",
       "    <tr>\n",
       "      <th>2</th>\n",
       "      <td>1</td>\n",
       "      <td>16</td>\n",
       "    </tr>\n",
       "    <tr>\n",
       "      <th>3</th>\n",
       "      <td>1</td>\n",
       "      <td>19</td>\n",
       "    </tr>\n",
       "    <tr>\n",
       "      <th>4</th>\n",
       "      <td>2</td>\n",
       "      <td>16</td>\n",
       "    </tr>\n",
       "  </tbody>\n",
       "</table>\n",
       "</div>"
      ],
      "text/plain": [
       "   Machine  Measurement\n",
       "0        1           18\n",
       "1        1           17\n",
       "2        1           16\n",
       "3        1           19\n",
       "4        2           16"
      ]
     },
     "execution_count": 26,
     "metadata": {},
     "output_type": "execute_result"
    }
   ],
   "source": [
    "df.head()"
   ]
  },
  {
   "cell_type": "code",
   "execution_count": 24,
   "id": "a7bc0721",
   "metadata": {},
   "outputs": [
    {
     "name": "stdout",
     "output_type": "stream",
     "text": [
      "<class 'pandas.core.frame.DataFrame'>\n",
      "RangeIndex: 24 entries, 0 to 23\n",
      "Data columns (total 2 columns):\n",
      " #   Column       Non-Null Count  Dtype\n",
      "---  ------       --------------  -----\n",
      " 0   Machine      24 non-null     int64\n",
      " 1   Measurement  24 non-null     int64\n",
      "dtypes: int64(2)\n",
      "memory usage: 512.0 bytes\n"
     ]
    }
   ],
   "source": [
    "df.info()"
   ]
  },
  {
   "cell_type": "code",
   "execution_count": 34,
   "id": "5067a31b",
   "metadata": {},
   "outputs": [
    {
     "name": "stdout",
     "output_type": "stream",
     "text": [
      "[1 2 3 4 5 6]\n"
     ]
    }
   ],
   "source": [
    "print(df['Machine'].unique())"
   ]
  },
  {
   "cell_type": "code",
   "execution_count": 37,
   "id": "10be5c2b",
   "metadata": {},
   "outputs": [],
   "source": [
    "# Each machine measurements\n",
    "machine1 = df.query(\"Machine==1\")['Measurement']\n",
    "machine2 = df.query(\"Machine==2\")['Measurement']\n",
    "machine3 = df.query(\"Machine==3\")['Measurement']\n",
    "machine4 = df.query(\"Machine==4\")['Measurement']\n",
    "machine5 = df.query(\"Machine==5\")['Measurement']\n",
    "machine6 = df.query(\"Machine==6\")['Measurement']"
   ]
  },
  {
   "cell_type": "code",
   "execution_count": 40,
   "id": "05b63a53",
   "metadata": {},
   "outputs": [],
   "source": [
    "# Perform ANOVA at the 0.05 level of significance and indicate whether or not \n",
    "# the mean tensile strengths differ significantly for the six machines."
   ]
  },
  {
   "cell_type": "code",
   "execution_count": 42,
   "id": "535601b6",
   "metadata": {},
   "outputs": [
    {
     "name": "stdout",
     "output_type": "stream",
     "text": [
      "f-statistic: 0.4363636363636363\n",
      "p-value: 0.8173294233639146\n"
     ]
    }
   ],
   "source": [
    "f_statistic, p_value = f_oneway(machine1, machine2, machine3, machine4, machine5, machine6)\n",
    "print(f\"f-statistic: {f_statistic}\")\n",
    "print(f\"p-value: {p_value}\")"
   ]
  },
  {
   "cell_type": "markdown",
   "id": "e881a005",
   "metadata": {},
   "source": [
    "Results:\n",
    "    \n",
    "    F-statistic: 0.4364 is relatively small, suggesting that the variation between group means is not very large compared to the variation within the groups.\n",
    "    Since the p-value 0.8173 > 0.05, we fail to reject the null hypothesis.\n",
    "    Hence, there is no sufficient evidence to conclude that the mean tensile strengths of the six machines \n",
    "    differ significantly. That is, based on the data provided, we do not have enough evidence to suggest that \n",
    "    there are significant differences in the mean tensile strengths among the six machines."
   ]
  },
  {
   "cell_type": "markdown",
   "id": "9012477f",
   "metadata": {},
   "source": [
    "### Part B:\n",
    "A study measured the sorption (either absorption or adsorption) rates of three different types of organic chemical solvents. These solvents are used to clean industrial fabricated-metal parts and are potentially hazardous waste. Independent samples from each type of solvent were tested, and their sorption rates were recorded as a mole percentage.  Is there a significant difference in the mean sorption rates for the three solvents? Use a P-value for your conclusions. Which solvent would you use? "
   ]
  },
  {
   "cell_type": "code",
   "execution_count": 43,
   "id": "aef01e67",
   "metadata": {},
   "outputs": [],
   "source": [
    "data = pd.read_excel('Data.xlsx', sheet_name='Part B')"
   ]
  },
  {
   "cell_type": "code",
   "execution_count": 45,
   "id": "be0dcea9",
   "metadata": {},
   "outputs": [
    {
     "data": {
      "text/html": [
       "<div>\n",
       "<style scoped>\n",
       "    .dataframe tbody tr th:only-of-type {\n",
       "        vertical-align: middle;\n",
       "    }\n",
       "\n",
       "    .dataframe tbody tr th {\n",
       "        vertical-align: top;\n",
       "    }\n",
       "\n",
       "    .dataframe thead th {\n",
       "        text-align: right;\n",
       "    }\n",
       "</style>\n",
       "<table border=\"1\" class=\"dataframe\">\n",
       "  <thead>\n",
       "    <tr style=\"text-align: right;\">\n",
       "      <th></th>\n",
       "      <th>Solvent</th>\n",
       "      <th>Samples</th>\n",
       "    </tr>\n",
       "  </thead>\n",
       "  <tbody>\n",
       "    <tr>\n",
       "      <th>0</th>\n",
       "      <td>1</td>\n",
       "      <td>1.06</td>\n",
       "    </tr>\n",
       "    <tr>\n",
       "      <th>1</th>\n",
       "      <td>1</td>\n",
       "      <td>0.79</td>\n",
       "    </tr>\n",
       "    <tr>\n",
       "      <th>2</th>\n",
       "      <td>1</td>\n",
       "      <td>0.82</td>\n",
       "    </tr>\n",
       "    <tr>\n",
       "      <th>3</th>\n",
       "      <td>1</td>\n",
       "      <td>0.89</td>\n",
       "    </tr>\n",
       "    <tr>\n",
       "      <th>4</th>\n",
       "      <td>1</td>\n",
       "      <td>1.05</td>\n",
       "    </tr>\n",
       "  </tbody>\n",
       "</table>\n",
       "</div>"
      ],
      "text/plain": [
       "   Solvent  Samples\n",
       "0        1     1.06\n",
       "1        1     0.79\n",
       "2        1     0.82\n",
       "3        1     0.89\n",
       "4        1     1.05"
      ]
     },
     "execution_count": 45,
     "metadata": {},
     "output_type": "execute_result"
    }
   ],
   "source": [
    "data.head()"
   ]
  },
  {
   "cell_type": "code",
   "execution_count": 47,
   "id": "cf23ccd6",
   "metadata": {},
   "outputs": [
    {
     "name": "stdout",
     "output_type": "stream",
     "text": [
      "<class 'pandas.core.frame.DataFrame'>\n",
      "RangeIndex: 32 entries, 0 to 31\n",
      "Data columns (total 2 columns):\n",
      " #   Column   Non-Null Count  Dtype  \n",
      "---  ------   --------------  -----  \n",
      " 0   Solvent  32 non-null     int64  \n",
      " 1   Samples  32 non-null     float64\n",
      "dtypes: float64(1), int64(1)\n",
      "memory usage: 640.0 bytes\n"
     ]
    }
   ],
   "source": [
    "data.info()"
   ]
  },
  {
   "cell_type": "code",
   "execution_count": 48,
   "id": "57f71c3a",
   "metadata": {},
   "outputs": [
    {
     "name": "stdout",
     "output_type": "stream",
     "text": [
      "[1 2 3]\n"
     ]
    }
   ],
   "source": [
    "print(data['Solvent'].unique())"
   ]
  },
  {
   "cell_type": "code",
   "execution_count": 52,
   "id": "452e6bca",
   "metadata": {},
   "outputs": [],
   "source": [
    "solvent1 = data.query(\"Solvent == 1\")['Samples']\n",
    "solvent2 = data.query(\"Solvent == 2\")['Samples']\n",
    "solvent3 = data.query(\"Solvent == 3\")['Samples']"
   ]
  },
  {
   "cell_type": "code",
   "execution_count": 53,
   "id": "e134711e",
   "metadata": {},
   "outputs": [
    {
     "data": {
      "text/plain": [
       "17    0.29\n",
       "18    0.06\n",
       "19    0.44\n",
       "20    0.55\n",
       "21    0.61\n",
       "22    0.43\n",
       "23    0.51\n",
       "24    0.10\n",
       "25    0.53\n",
       "26    0.34\n",
       "27    0.06\n",
       "28    0.09\n",
       "29    0.17\n",
       "30    0.17\n",
       "31    0.60\n",
       "Name: Samples, dtype: float64"
      ]
     },
     "execution_count": 53,
     "metadata": {},
     "output_type": "execute_result"
    }
   ],
   "source": [
    "solvent3"
   ]
  },
  {
   "cell_type": "code",
   "execution_count": 55,
   "id": "89a73c00",
   "metadata": {},
   "outputs": [],
   "source": [
    "# Perform one-way ANOVA\n",
    "f_statistic, p_value = f_oneway(solvent1, solvent2, solvent3)"
   ]
  },
  {
   "cell_type": "code",
   "execution_count": 56,
   "id": "4b74d3f6",
   "metadata": {},
   "outputs": [
    {
     "name": "stdout",
     "output_type": "stream",
     "text": [
      "f_statistic: 24.51150480130298\n",
      "p-value: 5.855201452781716e-07\n"
     ]
    }
   ],
   "source": [
    "print(f\"f_statistic: {f_statistic}\")\n",
    "print(f\"p-value: {p_value}\")"
   ]
  },
  {
   "cell_type": "markdown",
   "id": "3b4eb211",
   "metadata": {},
   "source": [
    "Conclusion:\n",
    "\n",
    "Since the p-value is significantly smaller than 0.05, we can reject the null hypothesis that the mean sorption rates of the three solvents are equal. Thus it can be concluded that there are significant differences in mean sorption rates among the three types of organic chemical solvents.\n",
    "\n"
   ]
  },
  {
   "cell_type": "markdown",
   "id": "aec237f8",
   "metadata": {},
   "source": [
    "To determine which solvent to use for cleaning industrial fabricated-metal parts based on sorption rate alone, one would typically choose the solvent with the highest or most desirable mean sorption rate, as this indicates better cleaning efficiency in terms of sorption."
   ]
  },
  {
   "cell_type": "code",
   "execution_count": 64,
   "id": "fc72d75e",
   "metadata": {},
   "outputs": [
    {
     "name": "stdout",
     "output_type": "stream",
     "text": [
      "Mean sorption rates:\n",
      "Solvent1: 0.94\n",
      "Solvent2: 1.01\n",
      "Solvent3: 0.33\n"
     ]
    }
   ],
   "source": [
    "print(f\"Mean sorption rates:\")\n",
    "print(f\"Solvent1: {np.round(solvent1.mean(), 2)}\")\n",
    "print(f\"Solvent2: {np.round(solvent2.mean(), 2)}\")\n",
    "print(f\"Solvent3: {np.round(solvent3.mean(), 2)}\")"
   ]
  },
  {
   "cell_type": "markdown",
   "id": "873455b2",
   "metadata": {},
   "source": [
    "Since the solvent with the highest or most desirable mean sorption rate indicates better cleaning efficiency in terms of sorption, hence I would use Solvent 2."
   ]
  }
 ],
 "metadata": {
  "kernelspec": {
   "display_name": "Python 3 (ipykernel)",
   "language": "python",
   "name": "python3"
  },
  "language_info": {
   "codemirror_mode": {
    "name": "ipython",
    "version": 3
   },
   "file_extension": ".py",
   "mimetype": "text/x-python",
   "name": "python",
   "nbconvert_exporter": "python",
   "pygments_lexer": "ipython3",
   "version": "3.10.9"
  }
 },
 "nbformat": 4,
 "nbformat_minor": 5
}
