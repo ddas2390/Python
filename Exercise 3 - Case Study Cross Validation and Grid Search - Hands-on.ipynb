{
 "cells": [
  {
   "cell_type": "markdown",
   "id": "dbc764b3",
   "metadata": {},
   "source": [
    "In this exercise, the Pima Indian dataset is used to develop a Logistic Regression model to predict whether a patient has diabetes or not. First, you will find the best hyperparameters of the Logistic Regression model using the ‘GridSearchCV’ function. These best hyperparameters are used to train the model and then the trained model is evaluated against the training and test set using several performance metrics."
   ]
  },
  {
   "cell_type": "code",
   "execution_count": 10,
   "id": "d07c7bfe",
   "metadata": {},
   "outputs": [],
   "source": [
    "import pandas as pd\n",
    "import numpy as np\n",
    "import statsmodels.api as sm\n",
    "import matplotlib.pyplot as plt\n",
    "from sklearn import linear_model\n",
    "from sklearn.metrics import f1_score\n",
    "from scipy import stats\n",
    "from sklearn.model_selection import GridSearchCV\n",
    "from sklearn.model_selection import train_test_split"
   ]
  },
  {
   "cell_type": "code",
   "execution_count": 11,
   "id": "b4afcd92",
   "metadata": {},
   "outputs": [
    {
     "data": {
      "text/html": [
       "<div>\n",
       "<style scoped>\n",
       "    .dataframe tbody tr th:only-of-type {\n",
       "        vertical-align: middle;\n",
       "    }\n",
       "\n",
       "    .dataframe tbody tr th {\n",
       "        vertical-align: top;\n",
       "    }\n",
       "\n",
       "    .dataframe thead th {\n",
       "        text-align: right;\n",
       "    }\n",
       "</style>\n",
       "<table border=\"1\" class=\"dataframe\">\n",
       "  <thead>\n",
       "    <tr style=\"text-align: right;\">\n",
       "      <th></th>\n",
       "      <th>Pregnancies</th>\n",
       "      <th>Glucose</th>\n",
       "      <th>BloodPressure</th>\n",
       "      <th>SkinThickness</th>\n",
       "      <th>Insulin</th>\n",
       "      <th>BMI</th>\n",
       "      <th>DiabetesPedigreeFunction</th>\n",
       "      <th>Age</th>\n",
       "      <th>Outcome</th>\n",
       "    </tr>\n",
       "  </thead>\n",
       "  <tbody>\n",
       "    <tr>\n",
       "      <th>0</th>\n",
       "      <td>6</td>\n",
       "      <td>148</td>\n",
       "      <td>72</td>\n",
       "      <td>35</td>\n",
       "      <td>0</td>\n",
       "      <td>33.6</td>\n",
       "      <td>0.627</td>\n",
       "      <td>50</td>\n",
       "      <td>1</td>\n",
       "    </tr>\n",
       "    <tr>\n",
       "      <th>1</th>\n",
       "      <td>1</td>\n",
       "      <td>85</td>\n",
       "      <td>66</td>\n",
       "      <td>29</td>\n",
       "      <td>0</td>\n",
       "      <td>26.6</td>\n",
       "      <td>0.351</td>\n",
       "      <td>31</td>\n",
       "      <td>0</td>\n",
       "    </tr>\n",
       "    <tr>\n",
       "      <th>2</th>\n",
       "      <td>8</td>\n",
       "      <td>183</td>\n",
       "      <td>64</td>\n",
       "      <td>0</td>\n",
       "      <td>0</td>\n",
       "      <td>23.3</td>\n",
       "      <td>0.672</td>\n",
       "      <td>32</td>\n",
       "      <td>1</td>\n",
       "    </tr>\n",
       "    <tr>\n",
       "      <th>3</th>\n",
       "      <td>1</td>\n",
       "      <td>89</td>\n",
       "      <td>66</td>\n",
       "      <td>23</td>\n",
       "      <td>94</td>\n",
       "      <td>28.1</td>\n",
       "      <td>0.167</td>\n",
       "      <td>21</td>\n",
       "      <td>0</td>\n",
       "    </tr>\n",
       "    <tr>\n",
       "      <th>4</th>\n",
       "      <td>0</td>\n",
       "      <td>137</td>\n",
       "      <td>40</td>\n",
       "      <td>35</td>\n",
       "      <td>168</td>\n",
       "      <td>43.1</td>\n",
       "      <td>2.288</td>\n",
       "      <td>33</td>\n",
       "      <td>1</td>\n",
       "    </tr>\n",
       "  </tbody>\n",
       "</table>\n",
       "</div>"
      ],
      "text/plain": [
       "   Pregnancies  Glucose  BloodPressure  SkinThickness  Insulin   BMI  \\\n",
       "0            6      148             72             35        0  33.6   \n",
       "1            1       85             66             29        0  26.6   \n",
       "2            8      183             64              0        0  23.3   \n",
       "3            1       89             66             23       94  28.1   \n",
       "4            0      137             40             35      168  43.1   \n",
       "\n",
       "   DiabetesPedigreeFunction  Age  Outcome  \n",
       "0                     0.627   50        1  \n",
       "1                     0.351   31        0  \n",
       "2                     0.672   32        1  \n",
       "3                     0.167   21        0  \n",
       "4                     2.288   33        1  "
      ]
     },
     "execution_count": 11,
     "metadata": {},
     "output_type": "execute_result"
    }
   ],
   "source": [
    "pima_dataset = pd.read_csv('diabetes.csv')\n",
    "pima_dataset.head()"
   ]
  },
  {
   "cell_type": "markdown",
   "id": "86367dc1",
   "metadata": {},
   "source": [
    "The intuition of any ML model is to work well on the unseen data. To make sure that the trained model is robust, first divide the data into 2 sets - Training and Test sets. Training set is used to train the model, and then evaluate the trained model on the unseen test set to check the robustness of the model. Let us first split the data in 2 sets in a stratified manner."
   ]
  },
  {
   "cell_type": "code",
   "execution_count": 12,
   "id": "7160a757",
   "metadata": {},
   "outputs": [],
   "source": [
    "X = pima_dataset.loc[:,['Pregnancies', 'Glucose', 'BloodPressure', 'SkinThickness', 'Insulin', 'BMI', \n",
    "                        'DiabetesPedigreeFunction', 'Age']]\n",
    "y = pima_dataset['Outcome']\n",
    "\n",
    "X_train, X_test, y_train, y_test = train_test_split(X, y, test_size=0.2, random_state=42, stratify = y)"
   ]
  },
  {
   "cell_type": "code",
   "execution_count": 13,
   "id": "7d3b777f",
   "metadata": {},
   "outputs": [
    {
     "name": "stdout",
     "output_type": "stream",
     "text": [
      "0    0.651466\n",
      "1    0.348534\n",
      "Name: Outcome, dtype: float64\n",
      "0    0.649351\n",
      "1    0.350649\n",
      "Name: Outcome, dtype: float64\n"
     ]
    }
   ],
   "source": [
    "# Inspect whether the 2 sets are indeed stratified.\n",
    "\n",
    "print(pd.Series(y_train).value_counts(normalize = True))\n",
    "print(pd.Series(y_test).value_counts(normalize = True))"
   ]
  },
  {
   "cell_type": "code",
   "execution_count": 14,
   "id": "3a101cd7",
   "metadata": {},
   "outputs": [],
   "source": [
    "# Now, let us instantiate the base model and mention all the hyperparameter values to be tested.\n",
    "model = linear_model.LogisticRegression(fit_intercept = True, max_iter = 1000)\n",
    "\n",
    "# Define grid\n",
    "parameters = {'class_weight': [None, 'balanced'], 'solver':['newton-cg', 'lbfgs', 'liblinear', 'sag', 'saga']}"
   ]
  },
  {
   "cell_type": "markdown",
   "id": "d664762f",
   "metadata": {},
   "source": [
    "\n",
    "Using 'GridSearchCV' function, train all the models with different hyperparameter values mentioned in the previous step and use f1 score as the performance metric to compare all these models. Further, this function calculates f1 score for each model using the Cross Validation method."
   ]
  },
  {
   "cell_type": "code",
   "execution_count": 15,
   "id": "526f28c8",
   "metadata": {},
   "outputs": [
    {
     "name": "stderr",
     "output_type": "stream",
     "text": [
      "/Users/mymac/anaconda3/lib/python3.10/site-packages/sklearn/linear_model/_sag.py:350: ConvergenceWarning: The max_iter was reached which means the coef_ did not converge\n",
      "  warnings.warn(\n",
      "/Users/mymac/anaconda3/lib/python3.10/site-packages/sklearn/linear_model/_sag.py:350: ConvergenceWarning: The max_iter was reached which means the coef_ did not converge\n",
      "  warnings.warn(\n",
      "/Users/mymac/anaconda3/lib/python3.10/site-packages/sklearn/linear_model/_sag.py:350: ConvergenceWarning: The max_iter was reached which means the coef_ did not converge\n",
      "  warnings.warn(\n",
      "/Users/mymac/anaconda3/lib/python3.10/site-packages/sklearn/linear_model/_sag.py:350: ConvergenceWarning: The max_iter was reached which means the coef_ did not converge\n",
      "  warnings.warn(\n",
      "/Users/mymac/anaconda3/lib/python3.10/site-packages/sklearn/linear_model/_sag.py:350: ConvergenceWarning: The max_iter was reached which means the coef_ did not converge\n",
      "  warnings.warn(\n",
      "/Users/mymac/anaconda3/lib/python3.10/site-packages/sklearn/linear_model/_sag.py:350: ConvergenceWarning: The max_iter was reached which means the coef_ did not converge\n",
      "  warnings.warn(\n",
      "/Users/mymac/anaconda3/lib/python3.10/site-packages/sklearn/linear_model/_sag.py:350: ConvergenceWarning: The max_iter was reached which means the coef_ did not converge\n",
      "  warnings.warn(\n",
      "/Users/mymac/anaconda3/lib/python3.10/site-packages/sklearn/linear_model/_sag.py:350: ConvergenceWarning: The max_iter was reached which means the coef_ did not converge\n",
      "  warnings.warn(\n",
      "/Users/mymac/anaconda3/lib/python3.10/site-packages/sklearn/linear_model/_sag.py:350: ConvergenceWarning: The max_iter was reached which means the coef_ did not converge\n",
      "  warnings.warn(\n",
      "/Users/mymac/anaconda3/lib/python3.10/site-packages/sklearn/linear_model/_sag.py:350: ConvergenceWarning: The max_iter was reached which means the coef_ did not converge\n",
      "  warnings.warn(\n",
      "/Users/mymac/anaconda3/lib/python3.10/site-packages/sklearn/linear_model/_sag.py:350: ConvergenceWarning: The max_iter was reached which means the coef_ did not converge\n",
      "  warnings.warn(\n",
      "/Users/mymac/anaconda3/lib/python3.10/site-packages/sklearn/linear_model/_sag.py:350: ConvergenceWarning: The max_iter was reached which means the coef_ did not converge\n",
      "  warnings.warn(\n",
      "/Users/mymac/anaconda3/lib/python3.10/site-packages/sklearn/linear_model/_sag.py:350: ConvergenceWarning: The max_iter was reached which means the coef_ did not converge\n",
      "  warnings.warn(\n",
      "/Users/mymac/anaconda3/lib/python3.10/site-packages/sklearn/linear_model/_sag.py:350: ConvergenceWarning: The max_iter was reached which means the coef_ did not converge\n",
      "  warnings.warn(\n",
      "/Users/mymac/anaconda3/lib/python3.10/site-packages/sklearn/linear_model/_sag.py:350: ConvergenceWarning: The max_iter was reached which means the coef_ did not converge\n",
      "  warnings.warn(\n"
     ]
    },
    {
     "data": {
      "text/html": [
       "<style>#sk-container-id-1 {color: black;background-color: white;}#sk-container-id-1 pre{padding: 0;}#sk-container-id-1 div.sk-toggleable {background-color: white;}#sk-container-id-1 label.sk-toggleable__label {cursor: pointer;display: block;width: 100%;margin-bottom: 0;padding: 0.3em;box-sizing: border-box;text-align: center;}#sk-container-id-1 label.sk-toggleable__label-arrow:before {content: \"▸\";float: left;margin-right: 0.25em;color: #696969;}#sk-container-id-1 label.sk-toggleable__label-arrow:hover:before {color: black;}#sk-container-id-1 div.sk-estimator:hover label.sk-toggleable__label-arrow:before {color: black;}#sk-container-id-1 div.sk-toggleable__content {max-height: 0;max-width: 0;overflow: hidden;text-align: left;background-color: #f0f8ff;}#sk-container-id-1 div.sk-toggleable__content pre {margin: 0.2em;color: black;border-radius: 0.25em;background-color: #f0f8ff;}#sk-container-id-1 input.sk-toggleable__control:checked~div.sk-toggleable__content {max-height: 200px;max-width: 100%;overflow: auto;}#sk-container-id-1 input.sk-toggleable__control:checked~label.sk-toggleable__label-arrow:before {content: \"▾\";}#sk-container-id-1 div.sk-estimator input.sk-toggleable__control:checked~label.sk-toggleable__label {background-color: #d4ebff;}#sk-container-id-1 div.sk-label input.sk-toggleable__control:checked~label.sk-toggleable__label {background-color: #d4ebff;}#sk-container-id-1 input.sk-hidden--visually {border: 0;clip: rect(1px 1px 1px 1px);clip: rect(1px, 1px, 1px, 1px);height: 1px;margin: -1px;overflow: hidden;padding: 0;position: absolute;width: 1px;}#sk-container-id-1 div.sk-estimator {font-family: monospace;background-color: #f0f8ff;border: 1px dotted black;border-radius: 0.25em;box-sizing: border-box;margin-bottom: 0.5em;}#sk-container-id-1 div.sk-estimator:hover {background-color: #d4ebff;}#sk-container-id-1 div.sk-parallel-item::after {content: \"\";width: 100%;border-bottom: 1px solid gray;flex-grow: 1;}#sk-container-id-1 div.sk-label:hover label.sk-toggleable__label {background-color: #d4ebff;}#sk-container-id-1 div.sk-serial::before {content: \"\";position: absolute;border-left: 1px solid gray;box-sizing: border-box;top: 0;bottom: 0;left: 50%;z-index: 0;}#sk-container-id-1 div.sk-serial {display: flex;flex-direction: column;align-items: center;background-color: white;padding-right: 0.2em;padding-left: 0.2em;position: relative;}#sk-container-id-1 div.sk-item {position: relative;z-index: 1;}#sk-container-id-1 div.sk-parallel {display: flex;align-items: stretch;justify-content: center;background-color: white;position: relative;}#sk-container-id-1 div.sk-item::before, #sk-container-id-1 div.sk-parallel-item::before {content: \"\";position: absolute;border-left: 1px solid gray;box-sizing: border-box;top: 0;bottom: 0;left: 50%;z-index: -1;}#sk-container-id-1 div.sk-parallel-item {display: flex;flex-direction: column;z-index: 1;position: relative;background-color: white;}#sk-container-id-1 div.sk-parallel-item:first-child::after {align-self: flex-end;width: 50%;}#sk-container-id-1 div.sk-parallel-item:last-child::after {align-self: flex-start;width: 50%;}#sk-container-id-1 div.sk-parallel-item:only-child::after {width: 0;}#sk-container-id-1 div.sk-dashed-wrapped {border: 1px dashed gray;margin: 0 0.4em 0.5em 0.4em;box-sizing: border-box;padding-bottom: 0.4em;background-color: white;}#sk-container-id-1 div.sk-label label {font-family: monospace;font-weight: bold;display: inline-block;line-height: 1.2em;}#sk-container-id-1 div.sk-label-container {text-align: center;}#sk-container-id-1 div.sk-container {/* jupyter's `normalize.less` sets `[hidden] { display: none; }` but bootstrap.min.css set `[hidden] { display: none !important; }` so we also need the `!important` here to be able to override the default hidden behavior on the sphinx rendered scikit-learn.org. See: https://github.com/scikit-learn/scikit-learn/issues/21755 */display: inline-block !important;position: relative;}#sk-container-id-1 div.sk-text-repr-fallback {display: none;}</style><div id=\"sk-container-id-1\" class=\"sk-top-container\"><div class=\"sk-text-repr-fallback\"><pre>GridSearchCV(cv=5, estimator=LogisticRegression(max_iter=1000),\n",
       "             param_grid={&#x27;class_weight&#x27;: [None, &#x27;balanced&#x27;],\n",
       "                         &#x27;solver&#x27;: [&#x27;newton-cg&#x27;, &#x27;lbfgs&#x27;, &#x27;liblinear&#x27;, &#x27;sag&#x27;,\n",
       "                                    &#x27;saga&#x27;]},\n",
       "             scoring=&#x27;f1&#x27;)</pre><b>In a Jupyter environment, please rerun this cell to show the HTML representation or trust the notebook. <br />On GitHub, the HTML representation is unable to render, please try loading this page with nbviewer.org.</b></div><div class=\"sk-container\" hidden><div class=\"sk-item sk-dashed-wrapped\"><div class=\"sk-label-container\"><div class=\"sk-label sk-toggleable\"><input class=\"sk-toggleable__control sk-hidden--visually\" id=\"sk-estimator-id-1\" type=\"checkbox\" ><label for=\"sk-estimator-id-1\" class=\"sk-toggleable__label sk-toggleable__label-arrow\">GridSearchCV</label><div class=\"sk-toggleable__content\"><pre>GridSearchCV(cv=5, estimator=LogisticRegression(max_iter=1000),\n",
       "             param_grid={&#x27;class_weight&#x27;: [None, &#x27;balanced&#x27;],\n",
       "                         &#x27;solver&#x27;: [&#x27;newton-cg&#x27;, &#x27;lbfgs&#x27;, &#x27;liblinear&#x27;, &#x27;sag&#x27;,\n",
       "                                    &#x27;saga&#x27;]},\n",
       "             scoring=&#x27;f1&#x27;)</pre></div></div></div><div class=\"sk-parallel\"><div class=\"sk-parallel-item\"><div class=\"sk-item\"><div class=\"sk-label-container\"><div class=\"sk-label sk-toggleable\"><input class=\"sk-toggleable__control sk-hidden--visually\" id=\"sk-estimator-id-2\" type=\"checkbox\" ><label for=\"sk-estimator-id-2\" class=\"sk-toggleable__label sk-toggleable__label-arrow\">estimator: LogisticRegression</label><div class=\"sk-toggleable__content\"><pre>LogisticRegression(max_iter=1000)</pre></div></div></div><div class=\"sk-serial\"><div class=\"sk-item\"><div class=\"sk-estimator sk-toggleable\"><input class=\"sk-toggleable__control sk-hidden--visually\" id=\"sk-estimator-id-3\" type=\"checkbox\" ><label for=\"sk-estimator-id-3\" class=\"sk-toggleable__label sk-toggleable__label-arrow\">LogisticRegression</label><div class=\"sk-toggleable__content\"><pre>LogisticRegression(max_iter=1000)</pre></div></div></div></div></div></div></div></div></div></div>"
      ],
      "text/plain": [
       "GridSearchCV(cv=5, estimator=LogisticRegression(max_iter=1000),\n",
       "             param_grid={'class_weight': [None, 'balanced'],\n",
       "                         'solver': ['newton-cg', 'lbfgs', 'liblinear', 'sag',\n",
       "                                    'saga']},\n",
       "             scoring='f1')"
      ]
     },
     "execution_count": 15,
     "metadata": {},
     "output_type": "execute_result"
    }
   ],
   "source": [
    "# Set folds\n",
    "k=5\n",
    "grid_search = GridSearchCV(model, parameters, cv = k, scoring = \"f1\")\n",
    "grid_search.fit(X_train, y_train)"
   ]
  },
  {
   "cell_type": "code",
   "execution_count": 16,
   "id": "be1ce995",
   "metadata": {},
   "outputs": [
    {
     "data": {
      "text/html": [
       "<div>\n",
       "<style scoped>\n",
       "    .dataframe tbody tr th:only-of-type {\n",
       "        vertical-align: middle;\n",
       "    }\n",
       "\n",
       "    .dataframe tbody tr th {\n",
       "        vertical-align: top;\n",
       "    }\n",
       "\n",
       "    .dataframe thead th {\n",
       "        text-align: right;\n",
       "    }\n",
       "</style>\n",
       "<table border=\"1\" class=\"dataframe\">\n",
       "  <thead>\n",
       "    <tr style=\"text-align: right;\">\n",
       "      <th></th>\n",
       "      <th>mean_fit_time</th>\n",
       "      <th>std_fit_time</th>\n",
       "      <th>mean_score_time</th>\n",
       "      <th>std_score_time</th>\n",
       "      <th>param_class_weight</th>\n",
       "      <th>param_solver</th>\n",
       "      <th>params</th>\n",
       "      <th>split0_test_score</th>\n",
       "      <th>split1_test_score</th>\n",
       "      <th>split2_test_score</th>\n",
       "      <th>split3_test_score</th>\n",
       "      <th>split4_test_score</th>\n",
       "      <th>mean_test_score</th>\n",
       "      <th>std_test_score</th>\n",
       "      <th>rank_test_score</th>\n",
       "    </tr>\n",
       "  </thead>\n",
       "  <tbody>\n",
       "    <tr>\n",
       "      <th>7</th>\n",
       "      <td>0.003885</td>\n",
       "      <td>0.000234</td>\n",
       "      <td>0.001531</td>\n",
       "      <td>0.000010</td>\n",
       "      <td>balanced</td>\n",
       "      <td>liblinear</td>\n",
       "      <td>{'class_weight': 'balanced', 'solver': 'liblin...</td>\n",
       "      <td>0.693069</td>\n",
       "      <td>0.703297</td>\n",
       "      <td>0.659574</td>\n",
       "      <td>0.658537</td>\n",
       "      <td>0.704545</td>\n",
       "      <td>0.683805</td>\n",
       "      <td>0.020599</td>\n",
       "      <td>1</td>\n",
       "    </tr>\n",
       "    <tr>\n",
       "      <th>5</th>\n",
       "      <td>0.017369</td>\n",
       "      <td>0.000650</td>\n",
       "      <td>0.001603</td>\n",
       "      <td>0.000023</td>\n",
       "      <td>balanced</td>\n",
       "      <td>newton-cg</td>\n",
       "      <td>{'class_weight': 'balanced', 'solver': 'newton...</td>\n",
       "      <td>0.632653</td>\n",
       "      <td>0.695652</td>\n",
       "      <td>0.606061</td>\n",
       "      <td>0.700000</td>\n",
       "      <td>0.674157</td>\n",
       "      <td>0.661705</td>\n",
       "      <td>0.036645</td>\n",
       "      <td>2</td>\n",
       "    </tr>\n",
       "    <tr>\n",
       "      <th>6</th>\n",
       "      <td>0.016036</td>\n",
       "      <td>0.001611</td>\n",
       "      <td>0.001605</td>\n",
       "      <td>0.000013</td>\n",
       "      <td>balanced</td>\n",
       "      <td>lbfgs</td>\n",
       "      <td>{'class_weight': 'balanced', 'solver': 'lbfgs'}</td>\n",
       "      <td>0.632653</td>\n",
       "      <td>0.695652</td>\n",
       "      <td>0.606061</td>\n",
       "      <td>0.700000</td>\n",
       "      <td>0.674157</td>\n",
       "      <td>0.661705</td>\n",
       "      <td>0.036645</td>\n",
       "      <td>2</td>\n",
       "    </tr>\n",
       "    <tr>\n",
       "      <th>0</th>\n",
       "      <td>0.017812</td>\n",
       "      <td>0.005234</td>\n",
       "      <td>0.001873</td>\n",
       "      <td>0.000515</td>\n",
       "      <td>None</td>\n",
       "      <td>newton-cg</td>\n",
       "      <td>{'class_weight': None, 'solver': 'newton-cg'}</td>\n",
       "      <td>0.650602</td>\n",
       "      <td>0.648649</td>\n",
       "      <td>0.632911</td>\n",
       "      <td>0.600000</td>\n",
       "      <td>0.684211</td>\n",
       "      <td>0.643275</td>\n",
       "      <td>0.027344</td>\n",
       "      <td>4</td>\n",
       "    </tr>\n",
       "    <tr>\n",
       "      <th>1</th>\n",
       "      <td>0.014935</td>\n",
       "      <td>0.001197</td>\n",
       "      <td>0.001600</td>\n",
       "      <td>0.000017</td>\n",
       "      <td>None</td>\n",
       "      <td>lbfgs</td>\n",
       "      <td>{'class_weight': None, 'solver': 'lbfgs'}</td>\n",
       "      <td>0.650602</td>\n",
       "      <td>0.648649</td>\n",
       "      <td>0.632911</td>\n",
       "      <td>0.600000</td>\n",
       "      <td>0.684211</td>\n",
       "      <td>0.643275</td>\n",
       "      <td>0.027344</td>\n",
       "      <td>4</td>\n",
       "    </tr>\n",
       "    <tr>\n",
       "      <th>2</th>\n",
       "      <td>0.005138</td>\n",
       "      <td>0.002048</td>\n",
       "      <td>0.001558</td>\n",
       "      <td>0.000025</td>\n",
       "      <td>None</td>\n",
       "      <td>liblinear</td>\n",
       "      <td>{'class_weight': None, 'solver': 'liblinear'}</td>\n",
       "      <td>0.615385</td>\n",
       "      <td>0.630137</td>\n",
       "      <td>0.578947</td>\n",
       "      <td>0.492308</td>\n",
       "      <td>0.684932</td>\n",
       "      <td>0.600342</td>\n",
       "      <td>0.063873</td>\n",
       "      <td>6</td>\n",
       "    </tr>\n",
       "    <tr>\n",
       "      <th>8</th>\n",
       "      <td>0.054483</td>\n",
       "      <td>0.008421</td>\n",
       "      <td>0.001655</td>\n",
       "      <td>0.000122</td>\n",
       "      <td>balanced</td>\n",
       "      <td>sag</td>\n",
       "      <td>{'class_weight': 'balanced', 'solver': 'sag'}</td>\n",
       "      <td>0.626087</td>\n",
       "      <td>0.613861</td>\n",
       "      <td>0.523364</td>\n",
       "      <td>0.451613</td>\n",
       "      <td>0.646465</td>\n",
       "      <td>0.572278</td>\n",
       "      <td>0.073595</td>\n",
       "      <td>7</td>\n",
       "    </tr>\n",
       "    <tr>\n",
       "      <th>9</th>\n",
       "      <td>0.067472</td>\n",
       "      <td>0.000325</td>\n",
       "      <td>0.001599</td>\n",
       "      <td>0.000066</td>\n",
       "      <td>balanced</td>\n",
       "      <td>saga</td>\n",
       "      <td>{'class_weight': 'balanced', 'solver': 'saga'}</td>\n",
       "      <td>0.615385</td>\n",
       "      <td>0.613861</td>\n",
       "      <td>0.518519</td>\n",
       "      <td>0.451613</td>\n",
       "      <td>0.646465</td>\n",
       "      <td>0.569168</td>\n",
       "      <td>0.072791</td>\n",
       "      <td>8</td>\n",
       "    </tr>\n",
       "    <tr>\n",
       "      <th>3</th>\n",
       "      <td>0.053525</td>\n",
       "      <td>0.007643</td>\n",
       "      <td>0.001608</td>\n",
       "      <td>0.000115</td>\n",
       "      <td>None</td>\n",
       "      <td>sag</td>\n",
       "      <td>{'class_weight': None, 'solver': 'sag'}</td>\n",
       "      <td>0.388060</td>\n",
       "      <td>0.550725</td>\n",
       "      <td>0.388060</td>\n",
       "      <td>0.422535</td>\n",
       "      <td>0.393443</td>\n",
       "      <td>0.428564</td>\n",
       "      <td>0.062409</td>\n",
       "      <td>9</td>\n",
       "    </tr>\n",
       "    <tr>\n",
       "      <th>4</th>\n",
       "      <td>0.066967</td>\n",
       "      <td>0.000164</td>\n",
       "      <td>0.001577</td>\n",
       "      <td>0.000034</td>\n",
       "      <td>None</td>\n",
       "      <td>saga</td>\n",
       "      <td>{'class_weight': None, 'solver': 'saga'}</td>\n",
       "      <td>0.411765</td>\n",
       "      <td>0.507463</td>\n",
       "      <td>0.388060</td>\n",
       "      <td>0.422535</td>\n",
       "      <td>0.393443</td>\n",
       "      <td>0.424653</td>\n",
       "      <td>0.043223</td>\n",
       "      <td>10</td>\n",
       "    </tr>\n",
       "  </tbody>\n",
       "</table>\n",
       "</div>"
      ],
      "text/plain": [
       "   mean_fit_time  std_fit_time  mean_score_time  std_score_time  \\\n",
       "7       0.003885      0.000234         0.001531        0.000010   \n",
       "5       0.017369      0.000650         0.001603        0.000023   \n",
       "6       0.016036      0.001611         0.001605        0.000013   \n",
       "0       0.017812      0.005234         0.001873        0.000515   \n",
       "1       0.014935      0.001197         0.001600        0.000017   \n",
       "2       0.005138      0.002048         0.001558        0.000025   \n",
       "8       0.054483      0.008421         0.001655        0.000122   \n",
       "9       0.067472      0.000325         0.001599        0.000066   \n",
       "3       0.053525      0.007643         0.001608        0.000115   \n",
       "4       0.066967      0.000164         0.001577        0.000034   \n",
       "\n",
       "  param_class_weight param_solver  \\\n",
       "7           balanced    liblinear   \n",
       "5           balanced    newton-cg   \n",
       "6           balanced        lbfgs   \n",
       "0               None    newton-cg   \n",
       "1               None        lbfgs   \n",
       "2               None    liblinear   \n",
       "8           balanced          sag   \n",
       "9           balanced         saga   \n",
       "3               None          sag   \n",
       "4               None         saga   \n",
       "\n",
       "                                              params  split0_test_score  \\\n",
       "7  {'class_weight': 'balanced', 'solver': 'liblin...           0.693069   \n",
       "5  {'class_weight': 'balanced', 'solver': 'newton...           0.632653   \n",
       "6    {'class_weight': 'balanced', 'solver': 'lbfgs'}           0.632653   \n",
       "0      {'class_weight': None, 'solver': 'newton-cg'}           0.650602   \n",
       "1          {'class_weight': None, 'solver': 'lbfgs'}           0.650602   \n",
       "2      {'class_weight': None, 'solver': 'liblinear'}           0.615385   \n",
       "8      {'class_weight': 'balanced', 'solver': 'sag'}           0.626087   \n",
       "9     {'class_weight': 'balanced', 'solver': 'saga'}           0.615385   \n",
       "3            {'class_weight': None, 'solver': 'sag'}           0.388060   \n",
       "4           {'class_weight': None, 'solver': 'saga'}           0.411765   \n",
       "\n",
       "   split1_test_score  split2_test_score  split3_test_score  split4_test_score  \\\n",
       "7           0.703297           0.659574           0.658537           0.704545   \n",
       "5           0.695652           0.606061           0.700000           0.674157   \n",
       "6           0.695652           0.606061           0.700000           0.674157   \n",
       "0           0.648649           0.632911           0.600000           0.684211   \n",
       "1           0.648649           0.632911           0.600000           0.684211   \n",
       "2           0.630137           0.578947           0.492308           0.684932   \n",
       "8           0.613861           0.523364           0.451613           0.646465   \n",
       "9           0.613861           0.518519           0.451613           0.646465   \n",
       "3           0.550725           0.388060           0.422535           0.393443   \n",
       "4           0.507463           0.388060           0.422535           0.393443   \n",
       "\n",
       "   mean_test_score  std_test_score  rank_test_score  \n",
       "7         0.683805        0.020599                1  \n",
       "5         0.661705        0.036645                2  \n",
       "6         0.661705        0.036645                2  \n",
       "0         0.643275        0.027344                4  \n",
       "1         0.643275        0.027344                4  \n",
       "2         0.600342        0.063873                6  \n",
       "8         0.572278        0.073595                7  \n",
       "9         0.569168        0.072791                8  \n",
       "3         0.428564        0.062409                9  \n",
       "4         0.424653        0.043223               10  "
      ]
     },
     "execution_count": 16,
     "metadata": {},
     "output_type": "execute_result"
    }
   ],
   "source": [
    "# Check the performance metrics (f1 score) for all the models trained using different hyperparameter values.\n",
    "pd.DataFrame((grid_search.cv_results_)).sort_values(\"rank_test_score\")"
   ]
  },
  {
   "cell_type": "code",
   "execution_count": 17,
   "id": "0f4db1f2",
   "metadata": {},
   "outputs": [
    {
     "data": {
      "text/html": [
       "<style>#sk-container-id-2 {color: black;background-color: white;}#sk-container-id-2 pre{padding: 0;}#sk-container-id-2 div.sk-toggleable {background-color: white;}#sk-container-id-2 label.sk-toggleable__label {cursor: pointer;display: block;width: 100%;margin-bottom: 0;padding: 0.3em;box-sizing: border-box;text-align: center;}#sk-container-id-2 label.sk-toggleable__label-arrow:before {content: \"▸\";float: left;margin-right: 0.25em;color: #696969;}#sk-container-id-2 label.sk-toggleable__label-arrow:hover:before {color: black;}#sk-container-id-2 div.sk-estimator:hover label.sk-toggleable__label-arrow:before {color: black;}#sk-container-id-2 div.sk-toggleable__content {max-height: 0;max-width: 0;overflow: hidden;text-align: left;background-color: #f0f8ff;}#sk-container-id-2 div.sk-toggleable__content pre {margin: 0.2em;color: black;border-radius: 0.25em;background-color: #f0f8ff;}#sk-container-id-2 input.sk-toggleable__control:checked~div.sk-toggleable__content {max-height: 200px;max-width: 100%;overflow: auto;}#sk-container-id-2 input.sk-toggleable__control:checked~label.sk-toggleable__label-arrow:before {content: \"▾\";}#sk-container-id-2 div.sk-estimator input.sk-toggleable__control:checked~label.sk-toggleable__label {background-color: #d4ebff;}#sk-container-id-2 div.sk-label input.sk-toggleable__control:checked~label.sk-toggleable__label {background-color: #d4ebff;}#sk-container-id-2 input.sk-hidden--visually {border: 0;clip: rect(1px 1px 1px 1px);clip: rect(1px, 1px, 1px, 1px);height: 1px;margin: -1px;overflow: hidden;padding: 0;position: absolute;width: 1px;}#sk-container-id-2 div.sk-estimator {font-family: monospace;background-color: #f0f8ff;border: 1px dotted black;border-radius: 0.25em;box-sizing: border-box;margin-bottom: 0.5em;}#sk-container-id-2 div.sk-estimator:hover {background-color: #d4ebff;}#sk-container-id-2 div.sk-parallel-item::after {content: \"\";width: 100%;border-bottom: 1px solid gray;flex-grow: 1;}#sk-container-id-2 div.sk-label:hover label.sk-toggleable__label {background-color: #d4ebff;}#sk-container-id-2 div.sk-serial::before {content: \"\";position: absolute;border-left: 1px solid gray;box-sizing: border-box;top: 0;bottom: 0;left: 50%;z-index: 0;}#sk-container-id-2 div.sk-serial {display: flex;flex-direction: column;align-items: center;background-color: white;padding-right: 0.2em;padding-left: 0.2em;position: relative;}#sk-container-id-2 div.sk-item {position: relative;z-index: 1;}#sk-container-id-2 div.sk-parallel {display: flex;align-items: stretch;justify-content: center;background-color: white;position: relative;}#sk-container-id-2 div.sk-item::before, #sk-container-id-2 div.sk-parallel-item::before {content: \"\";position: absolute;border-left: 1px solid gray;box-sizing: border-box;top: 0;bottom: 0;left: 50%;z-index: -1;}#sk-container-id-2 div.sk-parallel-item {display: flex;flex-direction: column;z-index: 1;position: relative;background-color: white;}#sk-container-id-2 div.sk-parallel-item:first-child::after {align-self: flex-end;width: 50%;}#sk-container-id-2 div.sk-parallel-item:last-child::after {align-self: flex-start;width: 50%;}#sk-container-id-2 div.sk-parallel-item:only-child::after {width: 0;}#sk-container-id-2 div.sk-dashed-wrapped {border: 1px dashed gray;margin: 0 0.4em 0.5em 0.4em;box-sizing: border-box;padding-bottom: 0.4em;background-color: white;}#sk-container-id-2 div.sk-label label {font-family: monospace;font-weight: bold;display: inline-block;line-height: 1.2em;}#sk-container-id-2 div.sk-label-container {text-align: center;}#sk-container-id-2 div.sk-container {/* jupyter's `normalize.less` sets `[hidden] { display: none; }` but bootstrap.min.css set `[hidden] { display: none !important; }` so we also need the `!important` here to be able to override the default hidden behavior on the sphinx rendered scikit-learn.org. See: https://github.com/scikit-learn/scikit-learn/issues/21755 */display: inline-block !important;position: relative;}#sk-container-id-2 div.sk-text-repr-fallback {display: none;}</style><div id=\"sk-container-id-2\" class=\"sk-top-container\"><div class=\"sk-text-repr-fallback\"><pre>LogisticRegression(class_weight=&#x27;balanced&#x27;, max_iter=1000, solver=&#x27;liblinear&#x27;)</pre><b>In a Jupyter environment, please rerun this cell to show the HTML representation or trust the notebook. <br />On GitHub, the HTML representation is unable to render, please try loading this page with nbviewer.org.</b></div><div class=\"sk-container\" hidden><div class=\"sk-item\"><div class=\"sk-estimator sk-toggleable\"><input class=\"sk-toggleable__control sk-hidden--visually\" id=\"sk-estimator-id-4\" type=\"checkbox\" checked><label for=\"sk-estimator-id-4\" class=\"sk-toggleable__label sk-toggleable__label-arrow\">LogisticRegression</label><div class=\"sk-toggleable__content\"><pre>LogisticRegression(class_weight=&#x27;balanced&#x27;, max_iter=1000, solver=&#x27;liblinear&#x27;)</pre></div></div></div></div></div>"
      ],
      "text/plain": [
       "LogisticRegression(class_weight='balanced', max_iter=1000, solver='liblinear')"
      ]
     },
     "execution_count": 17,
     "metadata": {},
     "output_type": "execute_result"
    }
   ],
   "source": [
    "# Now, let us check the hyperparameters of the best model.\n",
    "grid_search.best_estimator_"
   ]
  },
  {
   "cell_type": "code",
   "execution_count": 18,
   "id": "b797ae18",
   "metadata": {},
   "outputs": [
    {
     "data": {
      "text/html": [
       "<style>#sk-container-id-3 {color: black;background-color: white;}#sk-container-id-3 pre{padding: 0;}#sk-container-id-3 div.sk-toggleable {background-color: white;}#sk-container-id-3 label.sk-toggleable__label {cursor: pointer;display: block;width: 100%;margin-bottom: 0;padding: 0.3em;box-sizing: border-box;text-align: center;}#sk-container-id-3 label.sk-toggleable__label-arrow:before {content: \"▸\";float: left;margin-right: 0.25em;color: #696969;}#sk-container-id-3 label.sk-toggleable__label-arrow:hover:before {color: black;}#sk-container-id-3 div.sk-estimator:hover label.sk-toggleable__label-arrow:before {color: black;}#sk-container-id-3 div.sk-toggleable__content {max-height: 0;max-width: 0;overflow: hidden;text-align: left;background-color: #f0f8ff;}#sk-container-id-3 div.sk-toggleable__content pre {margin: 0.2em;color: black;border-radius: 0.25em;background-color: #f0f8ff;}#sk-container-id-3 input.sk-toggleable__control:checked~div.sk-toggleable__content {max-height: 200px;max-width: 100%;overflow: auto;}#sk-container-id-3 input.sk-toggleable__control:checked~label.sk-toggleable__label-arrow:before {content: \"▾\";}#sk-container-id-3 div.sk-estimator input.sk-toggleable__control:checked~label.sk-toggleable__label {background-color: #d4ebff;}#sk-container-id-3 div.sk-label input.sk-toggleable__control:checked~label.sk-toggleable__label {background-color: #d4ebff;}#sk-container-id-3 input.sk-hidden--visually {border: 0;clip: rect(1px 1px 1px 1px);clip: rect(1px, 1px, 1px, 1px);height: 1px;margin: -1px;overflow: hidden;padding: 0;position: absolute;width: 1px;}#sk-container-id-3 div.sk-estimator {font-family: monospace;background-color: #f0f8ff;border: 1px dotted black;border-radius: 0.25em;box-sizing: border-box;margin-bottom: 0.5em;}#sk-container-id-3 div.sk-estimator:hover {background-color: #d4ebff;}#sk-container-id-3 div.sk-parallel-item::after {content: \"\";width: 100%;border-bottom: 1px solid gray;flex-grow: 1;}#sk-container-id-3 div.sk-label:hover label.sk-toggleable__label {background-color: #d4ebff;}#sk-container-id-3 div.sk-serial::before {content: \"\";position: absolute;border-left: 1px solid gray;box-sizing: border-box;top: 0;bottom: 0;left: 50%;z-index: 0;}#sk-container-id-3 div.sk-serial {display: flex;flex-direction: column;align-items: center;background-color: white;padding-right: 0.2em;padding-left: 0.2em;position: relative;}#sk-container-id-3 div.sk-item {position: relative;z-index: 1;}#sk-container-id-3 div.sk-parallel {display: flex;align-items: stretch;justify-content: center;background-color: white;position: relative;}#sk-container-id-3 div.sk-item::before, #sk-container-id-3 div.sk-parallel-item::before {content: \"\";position: absolute;border-left: 1px solid gray;box-sizing: border-box;top: 0;bottom: 0;left: 50%;z-index: -1;}#sk-container-id-3 div.sk-parallel-item {display: flex;flex-direction: column;z-index: 1;position: relative;background-color: white;}#sk-container-id-3 div.sk-parallel-item:first-child::after {align-self: flex-end;width: 50%;}#sk-container-id-3 div.sk-parallel-item:last-child::after {align-self: flex-start;width: 50%;}#sk-container-id-3 div.sk-parallel-item:only-child::after {width: 0;}#sk-container-id-3 div.sk-dashed-wrapped {border: 1px dashed gray;margin: 0 0.4em 0.5em 0.4em;box-sizing: border-box;padding-bottom: 0.4em;background-color: white;}#sk-container-id-3 div.sk-label label {font-family: monospace;font-weight: bold;display: inline-block;line-height: 1.2em;}#sk-container-id-3 div.sk-label-container {text-align: center;}#sk-container-id-3 div.sk-container {/* jupyter's `normalize.less` sets `[hidden] { display: none; }` but bootstrap.min.css set `[hidden] { display: none !important; }` so we also need the `!important` here to be able to override the default hidden behavior on the sphinx rendered scikit-learn.org. See: https://github.com/scikit-learn/scikit-learn/issues/21755 */display: inline-block !important;position: relative;}#sk-container-id-3 div.sk-text-repr-fallback {display: none;}</style><div id=\"sk-container-id-3\" class=\"sk-top-container\"><div class=\"sk-text-repr-fallback\"><pre>LogisticRegression(class_weight=&#x27;balanced&#x27;, max_iter=1000, solver=&#x27;liblinear&#x27;)</pre><b>In a Jupyter environment, please rerun this cell to show the HTML representation or trust the notebook. <br />On GitHub, the HTML representation is unable to render, please try loading this page with nbviewer.org.</b></div><div class=\"sk-container\" hidden><div class=\"sk-item\"><div class=\"sk-estimator sk-toggleable\"><input class=\"sk-toggleable__control sk-hidden--visually\" id=\"sk-estimator-id-5\" type=\"checkbox\" checked><label for=\"sk-estimator-id-5\" class=\"sk-toggleable__label sk-toggleable__label-arrow\">LogisticRegression</label><div class=\"sk-toggleable__content\"><pre>LogisticRegression(class_weight=&#x27;balanced&#x27;, max_iter=1000, solver=&#x27;liblinear&#x27;)</pre></div></div></div></div></div>"
      ],
      "text/plain": [
       "LogisticRegression(class_weight='balanced', max_iter=1000, solver='liblinear')"
      ]
     },
     "execution_count": 18,
     "metadata": {},
     "output_type": "execute_result"
    }
   ],
   "source": [
    "# Finally, train the model on the training dataset using the best model hyperparameters.\n",
    "best_model = grid_search.best_estimator_\n",
    "\n",
    "# Fit the model on training data\n",
    "best_model.fit(X_train, y_train)"
   ]
  },
  {
   "cell_type": "markdown",
   "id": "c4cccb2a",
   "metadata": {},
   "source": [
    "Inspect the Confusion Matrix of the trained model on the training dataset and the test dataset. Confusion Matrix would show 4 values - True Negatives, False Positive, False Negatives and True Positives."
   ]
  },
  {
   "cell_type": "code",
   "execution_count": 19,
   "id": "e86c7268",
   "metadata": {},
   "outputs": [
    {
     "data": {
      "image/png": "[encoded data removed]",
      "text/plain": [
       "<Figure size 640x480 with 2 Axes>"
      ]
     },
     "metadata": {},
     "output_type": "display_data"
    },
    {
     "data": {
      "image/png": "[encoded data removed]",
      "text/plain": [
       "<Figure size 640x480 with 2 Axes>"
      ]
     },
     "metadata": {},
     "output_type": "display_data"
    }
   ],
   "source": [
    "from sklearn.metrics import confusion_matrix, ConfusionMatrixDisplay\n",
    "\n",
    "## Training data confusion matrix\n",
    "y_pred = best_model.predict(X_train)\n",
    "cm = confusion_matrix(y_train, y_pred, labels = best_model.classes_)\n",
    "plt = ConfusionMatrixDisplay(confusion_matrix=cm, display_labels=best_model.classes_)\n",
    "plt.plot(cmap = \"Blues\");\n",
    "\n",
    "## Test data confusion matrix\n",
    "y_pred = best_model.predict(X_test)\n",
    "cm_test = confusion_matrix(y_test, y_pred, labels = best_model.classes_)\n",
    "plt = ConfusionMatrixDisplay(confusion_matrix=cm_test, display_labels=best_model.classes_)\n",
    "plt.plot(cmap = \"Blues\");"
   ]
  },
  {
   "cell_type": "markdown",
   "id": "44ae0a03",
   "metadata": {},
   "source": [
    "Calculate the accuracy of the trained model using the Confusion Matrix values and compare it with the accuracy generated from the internal function. Ideally, both the accuracies should be the same. Also, calculate the accuracy of the test dataset."
   ]
  },
  {
   "cell_type": "code",
   "execution_count": 20,
   "id": "31094ef6",
   "metadata": {},
   "outputs": [
    {
     "name": "stdout",
     "output_type": "stream",
     "text": [
      "0.7736156351791531\n",
      "Training Dataset Accuracy: 0.7736156351791531 , Test Dataset Accuracy: 0.7597402597402597\n"
     ]
    }
   ],
   "source": [
    "TN = cm[0][0]\n",
    "FP = cm[0][1]\n",
    "FN = cm[1][0]\n",
    "TP = cm[1][1]\n",
    "\n",
    "accuracy = (TN + TP)/(TN + FP + FN + TP) \n",
    "print(accuracy)\n",
    "\n",
    "# Model Performance (Accuracy) of the training data\n",
    "accuracy_train = best_model.score(X_train, y_train)\n",
    "\n",
    "# Model Performance (Accuracy) of the test data\n",
    "accuracy_test = best_model.score(X_test, y_test)\n",
    "\n",
    "print('Training Dataset Accuracy: ' + str(accuracy_train), ', Test Dataset Accuracy: ' + str(accuracy_test))"
   ]
  },
  {
   "cell_type": "code",
   "execution_count": 21,
   "id": "039c3338",
   "metadata": {},
   "outputs": [
    {
     "name": "stdout",
     "output_type": "stream",
     "text": [
      "Training Dataset F1 Score: 0.6997840172786178 , Test Dataset F1 Score: 0.6890756302521008\n"
     ]
    }
   ],
   "source": [
    "# Finally, let us check the F1 Score performance metric of the trained model on both training and test dataset.\n",
    "y_pred = best_model.predict(X_train)\n",
    "f1_train = f1_score(y_pred, y_train)\n",
    "\n",
    "y_pred = best_model.predict(X_test)\n",
    "f1_test = f1_score(y_pred, y_test)\n",
    "\n",
    "print('Training Dataset F1 Score: ' + str(f1_train), ', Test Dataset F1 Score: ' + str(f1_test))"
   ]
  },
  {
   "cell_type": "markdown",
   "id": "cfa9d998",
   "metadata": {},
   "source": [
    "In this exercise, you have learned how to find the best hyperparameters of a model using the ‘GridSearchCV’ function. You have used the best hyperparameters to train the model and then check the performance of the trained model on the training and test dataset. If the performance on both training and test dataset is similar then you can consider that the trained model is robust."
   ]
  },
  {
   "cell_type": "code",
   "execution_count": null,
   "id": "e3b1a689",
   "metadata": {},
   "outputs": [],
   "source": []
  }
 ],
 "metadata": {
  "kernelspec": {
   "display_name": "Python 3 (ipykernel)",
   "language": "python",
   "name": "python3"
  },
  "language_info": {
   "codemirror_mode": {
    "name": "ipython",
    "version": 3
   },
   "file_extension": ".py",
   "mimetype": "text/x-python",
   "name": "python",
   "nbconvert_exporter": "python",
   "pygments_lexer": "ipython3",
   "version": "3.10.9"
  }
 },
 "nbformat": 4,
 "nbformat_minor": 5
}
