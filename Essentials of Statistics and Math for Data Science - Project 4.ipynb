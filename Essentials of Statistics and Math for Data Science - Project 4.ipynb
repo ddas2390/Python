{
 "cells": [
  {
   "cell_type": "markdown",
   "id": "794c85e0",
   "metadata": {},
   "source": [
    "Sabrina was assigned the task of collecting random samples from male Healthy Life members who were recently hospitalized in the Greater Toronto Area (GTA) due to heart attacks. She compiled two large separate datasets: one consisting of male Toronto residents who smoked and another consisting of male Toronto residents who never smoked. The aim of this research is to provide evidence that smoking is a risk factor for early occurrence of the first heart attack. After conducting a thorough analysis of the data, Sabrina formulated a hypothesis suggesting that, on average, male smokers who experience their first heart attack are six years younger than male non-smokers who experience their first heart attack. Please calculate sample variances for both samples and decide (depending on the sample variances) what function is most appropriate: Data Analysis t-Test: Two-Sample Assuming Equal Variances or Data Analysis t-Test: Two-Sample Assuming Unequal Variances. Please help Sabrina to conduct the test at 5% significance level. As it is known that both samples come from normally distributed populations, no histograms are required."
   ]
  },
  {
   "cell_type": "code",
   "execution_count": 43,
   "id": "76d234ca",
   "metadata": {},
   "outputs": [],
   "source": [
    "import pandas as pd\n",
    "import numpy as np\n",
    "from scipy.stats import ttest_ind"
   ]
  },
  {
   "cell_type": "code",
   "execution_count": 24,
   "id": "caaf891a",
   "metadata": {},
   "outputs": [
    {
     "data": {
      "text/html": [
       "<div>\n",
       "<style scoped>\n",
       "    .dataframe tbody tr th:only-of-type {\n",
       "        vertical-align: middle;\n",
       "    }\n",
       "\n",
       "    .dataframe tbody tr th {\n",
       "        vertical-align: top;\n",
       "    }\n",
       "\n",
       "    .dataframe thead th {\n",
       "        text-align: right;\n",
       "    }\n",
       "</style>\n",
       "<table border=\"1\" class=\"dataframe\">\n",
       "  <thead>\n",
       "    <tr style=\"text-align: right;\">\n",
       "      <th></th>\n",
       "      <th>Unnamed: 0</th>\n",
       "      <th>Unnamed: 1</th>\n",
       "      <th>Nonsmoking Patients</th>\n",
       "      <th>Smoking Patients</th>\n",
       "      <th>Unnamed: 4</th>\n",
       "      <th>Unnamed: 5</th>\n",
       "    </tr>\n",
       "  </thead>\n",
       "  <tbody>\n",
       "    <tr>\n",
       "      <th>0</th>\n",
       "      <td>NaN</td>\n",
       "      <td>1.0</td>\n",
       "      <td>49.1</td>\n",
       "      <td>41.9</td>\n",
       "      <td>NaN</td>\n",
       "      <td></td>\n",
       "    </tr>\n",
       "    <tr>\n",
       "      <th>1</th>\n",
       "      <td>NaN</td>\n",
       "      <td>2.0</td>\n",
       "      <td>88.0</td>\n",
       "      <td>74.0</td>\n",
       "      <td>NaN</td>\n",
       "      <td>NaN</td>\n",
       "    </tr>\n",
       "    <tr>\n",
       "      <th>2</th>\n",
       "      <td>NaN</td>\n",
       "      <td>3.0</td>\n",
       "      <td>83.5</td>\n",
       "      <td>75.9</td>\n",
       "      <td>NaN</td>\n",
       "      <td>NaN</td>\n",
       "    </tr>\n",
       "    <tr>\n",
       "      <th>3</th>\n",
       "      <td>NaN</td>\n",
       "      <td>4.0</td>\n",
       "      <td>54.7</td>\n",
       "      <td>49.2</td>\n",
       "      <td>NaN</td>\n",
       "      <td>NaN</td>\n",
       "    </tr>\n",
       "    <tr>\n",
       "      <th>4</th>\n",
       "      <td>NaN</td>\n",
       "      <td>5.0</td>\n",
       "      <td>67.1</td>\n",
       "      <td>61.5</td>\n",
       "      <td>NaN</td>\n",
       "      <td>NaN</td>\n",
       "    </tr>\n",
       "  </tbody>\n",
       "</table>\n",
       "</div>"
      ],
      "text/plain": [
       "   Unnamed: 0  Unnamed: 1  Nonsmoking Patients  Smoking Patients  Unnamed: 4  \\\n",
       "0         NaN         1.0                 49.1              41.9         NaN   \n",
       "1         NaN         2.0                 88.0              74.0         NaN   \n",
       "2         NaN         3.0                 83.5              75.9         NaN   \n",
       "3         NaN         4.0                 54.7              49.2         NaN   \n",
       "4         NaN         5.0                 67.1              61.5         NaN   \n",
       "\n",
       "  Unnamed: 5  \n",
       "0             \n",
       "1        NaN  \n",
       "2        NaN  \n",
       "3        NaN  \n",
       "4        NaN  "
      ]
     },
     "execution_count": 24,
     "metadata": {},
     "output_type": "execute_result"
    }
   ],
   "source": [
    "df = pd.read_excel('Sabrina Data.xlsx', skiprows=3)\n",
    "df.head()"
   ]
  },
  {
   "cell_type": "code",
   "execution_count": 25,
   "id": "9e831e88",
   "metadata": {},
   "outputs": [],
   "source": [
    "df.drop(columns = ['Unnamed: 0', 'Unnamed: 1', 'Unnamed: 4', 'Unnamed: 5'], inplace=True)"
   ]
  },
  {
   "cell_type": "code",
   "execution_count": 27,
   "id": "9c5563d9",
   "metadata": {},
   "outputs": [
    {
     "name": "stdout",
     "output_type": "stream",
     "text": [
      "<class 'pandas.core.frame.DataFrame'>\n",
      "RangeIndex: 73 entries, 0 to 72\n",
      "Data columns (total 2 columns):\n",
      " #   Column               Non-Null Count  Dtype  \n",
      "---  ------               --------------  -----  \n",
      " 0   Nonsmoking Patients  65 non-null     float64\n",
      " 1   Smoking Patients     62 non-null     float64\n",
      "dtypes: float64(2)\n",
      "memory usage: 1.3 KB\n"
     ]
    }
   ],
   "source": [
    "df.info()"
   ]
  },
  {
   "cell_type": "code",
   "execution_count": 28,
   "id": "6f6bc629",
   "metadata": {},
   "outputs": [
    {
     "data": {
      "text/plain": [
       "Nonsmoking Patients     8\n",
       "Smoking Patients       11\n",
       "dtype: int64"
      ]
     },
     "execution_count": 28,
     "metadata": {},
     "output_type": "execute_result"
    }
   ],
   "source": [
    "df.isnull().sum()"
   ]
  },
  {
   "cell_type": "code",
   "execution_count": 16,
   "id": "96526122",
   "metadata": {},
   "outputs": [
    {
     "data": {
      "text/plain": [
       "Unnamed: 1                       12.16\n",
       "Age of the first heart attack    10.81\n",
       "Unnamed: 3                       14.86\n",
       "dtype: float64"
      ]
     },
     "execution_count": 16,
     "metadata": {},
     "output_type": "execute_result"
    }
   ],
   "source": [
    "np.round(df.isnull().sum()*100/len(df), 2)"
   ]
  },
  {
   "cell_type": "code",
   "execution_count": 29,
   "id": "445e0964",
   "metadata": {},
   "outputs": [],
   "source": [
    "df.dropna(how='all', inplace=True)\n",
    "df.reset_index(drop=True, inplace=True)"
   ]
  },
  {
   "cell_type": "code",
   "execution_count": 33,
   "id": "a0d050f2",
   "metadata": {},
   "outputs": [
    {
     "data": {
      "text/html": [
       "<div>\n",
       "<style scoped>\n",
       "    .dataframe tbody tr th:only-of-type {\n",
       "        vertical-align: middle;\n",
       "    }\n",
       "\n",
       "    .dataframe tbody tr th {\n",
       "        vertical-align: top;\n",
       "    }\n",
       "\n",
       "    .dataframe thead th {\n",
       "        text-align: right;\n",
       "    }\n",
       "</style>\n",
       "<table border=\"1\" class=\"dataframe\">\n",
       "  <thead>\n",
       "    <tr style=\"text-align: right;\">\n",
       "      <th></th>\n",
       "      <th>Nonsmoking Patients</th>\n",
       "      <th>Smoking Patients</th>\n",
       "    </tr>\n",
       "  </thead>\n",
       "  <tbody>\n",
       "    <tr>\n",
       "      <th>0</th>\n",
       "      <td>49.1</td>\n",
       "      <td>41.900000</td>\n",
       "    </tr>\n",
       "    <tr>\n",
       "      <th>1</th>\n",
       "      <td>88.0</td>\n",
       "      <td>74.000000</td>\n",
       "    </tr>\n",
       "    <tr>\n",
       "      <th>2</th>\n",
       "      <td>83.5</td>\n",
       "      <td>75.900000</td>\n",
       "    </tr>\n",
       "    <tr>\n",
       "      <th>3</th>\n",
       "      <td>54.7</td>\n",
       "      <td>49.200000</td>\n",
       "    </tr>\n",
       "    <tr>\n",
       "      <th>4</th>\n",
       "      <td>67.1</td>\n",
       "      <td>61.500000</td>\n",
       "    </tr>\n",
       "    <tr>\n",
       "      <th>...</th>\n",
       "      <td>...</td>\n",
       "      <td>...</td>\n",
       "    </tr>\n",
       "    <tr>\n",
       "      <th>62</th>\n",
       "      <td>77.5</td>\n",
       "      <td>NaN</td>\n",
       "    </tr>\n",
       "    <tr>\n",
       "      <th>63</th>\n",
       "      <td>78.4</td>\n",
       "      <td>NaN</td>\n",
       "    </tr>\n",
       "    <tr>\n",
       "      <th>64</th>\n",
       "      <td>71.4</td>\n",
       "      <td>NaN</td>\n",
       "    </tr>\n",
       "    <tr>\n",
       "      <th>65</th>\n",
       "      <td>NaN</td>\n",
       "      <td>87.119279</td>\n",
       "    </tr>\n",
       "    <tr>\n",
       "      <th>66</th>\n",
       "      <td>NaN</td>\n",
       "      <td>96.952870</td>\n",
       "    </tr>\n",
       "  </tbody>\n",
       "</table>\n",
       "<p>67 rows × 2 columns</p>\n",
       "</div>"
      ],
      "text/plain": [
       "    Nonsmoking Patients  Smoking Patients\n",
       "0                  49.1         41.900000\n",
       "1                  88.0         74.000000\n",
       "2                  83.5         75.900000\n",
       "3                  54.7         49.200000\n",
       "4                  67.1         61.500000\n",
       "..                  ...               ...\n",
       "62                 77.5               NaN\n",
       "63                 78.4               NaN\n",
       "64                 71.4               NaN\n",
       "65                  NaN         87.119279\n",
       "66                  NaN         96.952870\n",
       "\n",
       "[67 rows x 2 columns]"
      ]
     },
     "execution_count": 33,
     "metadata": {},
     "output_type": "execute_result"
    }
   ],
   "source": [
    "df"
   ]
  },
  {
   "cell_type": "code",
   "execution_count": 47,
   "id": "5ef60ee8",
   "metadata": {},
   "outputs": [],
   "source": [
    "df['Nonsmoking Patients'].fillna(df['Nonsmoking Patients'].mean(), inplace=True)\n",
    "df['Smoking Patients'].fillna(df['Smoking Patients'].mean(), inplace=True)"
   ]
  },
  {
   "cell_type": "code",
   "execution_count": 50,
   "id": "e2e7191b",
   "metadata": {},
   "outputs": [
    {
     "data": {
      "text/plain": [
       "Nonsmoking Patients    0\n",
       "Smoking Patients       0\n",
       "dtype: int64"
      ]
     },
     "execution_count": 50,
     "metadata": {},
     "output_type": "execute_result"
    }
   ],
   "source": [
    "df.isnull().sum()"
   ]
  },
  {
   "cell_type": "code",
   "execution_count": 51,
   "id": "6c0f786e",
   "metadata": {},
   "outputs": [
    {
     "name": "stdout",
     "output_type": "stream",
     "text": [
      "Sample variance of non-smokers: 84.47930069930072\n",
      "Sample variance of smokers: 113.67731245501977\n"
     ]
    }
   ],
   "source": [
    "# Calculate sample variance\n",
    "non_smokers = np.var(df['Nonsmoking Patients'], ddof=1)\n",
    "smokers = np.var(df['Smoking Patients'], ddof=1)\n",
    "\n",
    "print(f\"Sample variance of non-smokers: {non_smokers}\")\n",
    "print(f\"Sample variance of smokers: {smokers}\")"
   ]
  },
  {
   "cell_type": "code",
   "execution_count": 52,
   "id": "80daeca4",
   "metadata": {},
   "outputs": [
    {
     "data": {
      "text/plain": [
       "1.3456232652735576"
      ]
     },
     "execution_count": 52,
     "metadata": {},
     "output_type": "execute_result"
    }
   ],
   "source": [
    "ratio = smokers/non_smokers\n",
    "ratio"
   ]
  },
  {
   "cell_type": "markdown",
   "id": "fcbdd12b",
   "metadata": {},
   "source": [
    "Since the ratio is less than 4:1 and the variances are not drastically different, the t-test can be done assuming equal variances."
   ]
  },
  {
   "cell_type": "code",
   "execution_count": 53,
   "id": "1e2d4d6d",
   "metadata": {},
   "outputs": [
    {
     "name": "stdout",
     "output_type": "stream",
     "text": [
      "t-statistic: 2.554218343218931\n",
      "p-value: 0.011778213396749254\n"
     ]
    }
   ],
   "source": [
    "# Independent Two-Sample t-test assuming equal variances\n",
    "t_stat, p_value = ttest_ind(df['Nonsmoking Patients'], df['Smoking Patients'], equal_var=True)\n",
    "print(f\"t-statistic: {t_stat}\")\n",
    "print(f\"p-value: {p_value}\")"
   ]
  },
  {
   "cell_type": "markdown",
   "id": "2cf1176d",
   "metadata": {},
   "source": [
    "Hypothesis Testing:\n",
    "Null Hypothesis (H0): There is no significant difference in mean ages between male smokers and male nonsmokers who experience their first heart attack.\n",
    "Alternative Hypothesis (H1): There is a significant difference in mean ages between male smokers and male nonsmokers who experience their first heart attack."
   ]
  },
  {
   "cell_type": "code",
   "execution_count": 55,
   "id": "269769fb",
   "metadata": {},
   "outputs": [
    {
     "name": "stdout",
     "output_type": "stream",
     "text": [
      "Reject the null hypothesis: There is a significant difference in means between groups.\n"
     ]
    }
   ],
   "source": [
    "alpha = 0.05\n",
    "if p_value < alpha:\n",
    "    print(\"Reject the null hypothesis: There is a significant difference in means between groups.\")\n",
    "else:\n",
    "    print(\"Fail to reject the null hypothesis: There is no significant difference in means between groups.\")"
   ]
  },
  {
   "cell_type": "markdown",
   "id": "6f3a9ade",
   "metadata": {},
   "source": [
    "Since the p-value 0.0118 is less than the significance level 0.05, we can reject the null hypothesis.\n",
    "Hence, there is sufficient evidence to conclude that there is a significant difference in mean ages between male smokers and male nonsmokers who experience their first heart attack."
   ]
  }
 ],
 "metadata": {
  "kernelspec": {
   "display_name": "Python 3 (ipykernel)",
   "language": "python",
   "name": "python3"
  },
  "language_info": {
   "codemirror_mode": {
    "name": "ipython",
    "version": 3
   },
   "file_extension": ".py",
   "mimetype": "text/x-python",
   "name": "python",
   "nbconvert_exporter": "python",
   "pygments_lexer": "ipython3",
   "version": "3.10.9"
  }
 },
 "nbformat": 4,
 "nbformat_minor": 5
}
