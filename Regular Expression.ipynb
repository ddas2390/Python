{
 "cells": [
  {
   "cell_type": "code",
   "execution_count": 1,
   "id": "abb6c857",
   "metadata": {},
   "outputs": [
    {
     "name": "stdout",
     "output_type": "stream",
     "text": [
      "heel\n",
      "match found\n"
     ]
    }
   ],
   "source": [
    "import re\n",
    "str = input()\n",
    "pat = \"^h..l$\"\n",
    "res = re.match(pat, str)\n",
    "if res:\n",
    "    print(\"match found\")\n",
    "else:\n",
    "    print(\"match not found\")"
   ]
  },
  {
   "cell_type": "code",
   "execution_count": null,
   "id": "7e52b2d7",
   "metadata": {},
   "outputs": [],
   "source": [
    "import re\n",
    "str = input()\n",
    "pat = \"^h..l$\"\n",
    "res = re.match(pat, str)\n",
    "if res:\n",
    "    print(\"match found\")\n",
    "else:\n",
    "    print(\"match not found\")"
   ]
  },
  {
   "cell_type": "code",
   "execution_count": null,
   "id": "e7e351ec",
   "metadata": {},
   "outputs": [],
   "source": [
    "import re\n",
    "str = input()\n",
    "pat = \"^h..l\"\n",
    "res = re.match(pat, str)\n",
    "if res:\n",
    "    print(\"match found\")\n",
    "else:\n",
    "    print(\"match not found\")"
   ]
  },
  {
   "cell_type": "code",
   "execution_count": null,
   "id": "503c083d",
   "metadata": {},
   "outputs": [],
   "source": [
    "import re\n",
    "str = input()\n",
    "pat = \"[abc][aeiou]\"\n",
    "res = re.match(pat, str)\n",
    "if res:\n",
    "    print(\"match found\")\n",
    "else:\n",
    "    print(\"match not found\")"
   ]
  },
  {
   "cell_type": "code",
   "execution_count": null,
   "id": "b49585d1",
   "metadata": {},
   "outputs": [],
   "source": [
    "import re\n",
    "str = input()\n",
    "pat = \"[abc][aeiou]\"\n",
    "res = re.match(pat, str)\n",
    "if res:\n",
    "    print(\"match found\")\n",
    "else:\n",
    "    print(\"match not found\")"
   ]
  },
  {
   "cell_type": "code",
   "execution_count": null,
   "id": "9b6a3122",
   "metadata": {},
   "outputs": [],
   "source": [
    "import re\n",
    "str = input()\n",
    "pat = \"[abc][aeiou]\"\n",
    "res = re.match(pat, str)\n",
    "if res:\n",
    "    print(\"match found\")\n",
    "else:\n",
    "    print(\"match not found\")"
   ]
  },
  {
   "cell_type": "code",
   "execution_count": null,
   "id": "0d0b5b3d",
   "metadata": {},
   "outputs": [],
   "source": [
    "import re\n",
    "str = input()\n",
    "pat = \"[a-z][aeiou]\"\n",
    "res = re.match(pat, str)\n",
    "if res:\n",
    "    print(\"match found\")\n",
    "else:\n",
    "    print(\"match not found\")"
   ]
  },
  {
   "cell_type": "code",
   "execution_count": null,
   "id": "21d813b0",
   "metadata": {},
   "outputs": [],
   "source": [
    "import re\n",
    "str = input()\n",
    "pat = \"he*l\"\n",
    "res = re.match(pat, str)\n",
    "if res:\n",
    "    print(\"match found\")\n",
    "else:\n",
    "    print(\"match not found\")"
   ]
  },
  {
   "cell_type": "code",
   "execution_count": null,
   "id": "cb4900b2",
   "metadata": {},
   "outputs": [],
   "source": [
    "import re\n",
    "str = input()\n",
    "pat = \"he*l\"\n",
    "res = re.match(pat, str)\n",
    "if res:\n",
    "    print(\"match found\")\n",
    "else:\n",
    "    print(\"match not found\")"
   ]
  },
  {
   "cell_type": "code",
   "execution_count": null,
   "id": "613e1c39",
   "metadata": {},
   "outputs": [],
   "source": [
    "import re\n",
    "str = input()\n",
    "pat = \"he*l\"\n",
    "res = re.match(pat, str)\n",
    "if res:\n",
    "    print(\"match found\")\n",
    "else:\n",
    "    print(\"match not found\")"
   ]
  },
  {
   "cell_type": "code",
   "execution_count": null,
   "id": "a691e713",
   "metadata": {},
   "outputs": [],
   "source": [
    "import re\n",
    "str = input()\n",
    "pat = \"he+l\"\n",
    "res = re.match(pat, str)\n",
    "if res:\n",
    "    print(\"match found\")\n",
    "else:\n",
    "    print(\"match not found\")"
   ]
  },
  {
   "cell_type": "code",
   "execution_count": null,
   "id": "ac0802db",
   "metadata": {},
   "outputs": [],
   "source": [
    "import re\n",
    "str = input()\n",
    "pat = \"he+l\"\n",
    "res = re.match(pat, str)\n",
    "if res:\n",
    "    print(\"match found\")\n",
    "else:\n",
    "    print(\"match not found\")"
   ]
  },
  {
   "cell_type": "code",
   "execution_count": null,
   "id": "90ce8f5f",
   "metadata": {},
   "outputs": [],
   "source": [
    "import re\n",
    "str = input()\n",
    "pat = \"he+l\"\n",
    "res = re.match(pat, str)\n",
    "if res:\n",
    "    print(\"match found\")\n",
    "else:\n",
    "    print(\"match not found\")"
   ]
  },
  {
   "cell_type": "code",
   "execution_count": null,
   "id": "786a326a",
   "metadata": {},
   "outputs": [],
   "source": [
    "import re\n",
    "str = input()\n",
    "pat = \"he?l\"\n",
    "res = re.match(pat, str)\n",
    "if res:\n",
    "    print(\"match found\")\n",
    "else:\n",
    "    print(\"match not found\")"
   ]
  },
  {
   "cell_type": "code",
   "execution_count": null,
   "id": "857c87d7",
   "metadata": {},
   "outputs": [],
   "source": [
    "import re\n",
    "str = input()\n",
    "pat = \"he?l\"\n",
    "res = re.match(pat, str)\n",
    "if res:\n",
    "    print(\"match found\")\n",
    "else:\n",
    "    print(\"match not found\")"
   ]
  },
  {
   "cell_type": "code",
   "execution_count": null,
   "id": "65dbb25c",
   "metadata": {},
   "outputs": [],
   "source": [
    "import re\n",
    "str = input()\n",
    "pat = \"he?l\"\n",
    "res = re.match(pat, str)\n",
    "if res:\n",
    "    print(\"match found\")\n",
    "else:\n",
    "    print(\"match not found\")"
   ]
  },
  {
   "cell_type": "code",
   "execution_count": null,
   "id": "b4a059ef",
   "metadata": {},
   "outputs": [],
   "source": [
    "import re\n",
    "str = input()\n",
    "pat = \"he{2,4}l\"\n",
    "res = re.match(pat, str)\n",
    "if res:\n",
    "    print(\"match found\")\n",
    "else:\n",
    "    print(\"match not found\")"
   ]
  },
  {
   "cell_type": "code",
   "execution_count": null,
   "id": "323ad9e7",
   "metadata": {},
   "outputs": [],
   "source": [
    "import re\n",
    "str = input()\n",
    "pat = \"he{2,4}l\"\n",
    "res = re.match(pat, str)\n",
    "if res:\n",
    "    print(\"match found\")\n",
    "else:\n",
    "    print(\"match not found\")"
   ]
  },
  {
   "cell_type": "code",
   "execution_count": null,
   "id": "8b6f6662",
   "metadata": {},
   "outputs": [],
   "source": [
    "import re\n",
    "str = input()\n",
    "pat = \"he{2,4}l\"\n",
    "res = re.match(pat, str)\n",
    "if res:\n",
    "    print(\"match found\")\n",
    "else:\n",
    "    print(\"match not found\")"
   ]
  },
  {
   "cell_type": "code",
   "execution_count": null,
   "id": "9b78cf6e",
   "metadata": {},
   "outputs": [],
   "source": [
    "import re\n",
    "str = input()\n",
    "pat = \"he{2,4}l\"\n",
    "res = re.match(pat, str)\n",
    "if res:\n",
    "    print(\"match found\")\n",
    "else:\n",
    "    print(\"match not found\")"
   ]
  },
  {
   "cell_type": "code",
   "execution_count": null,
   "id": "973409ed",
   "metadata": {},
   "outputs": [],
   "source": [
    "import re"
   ]
  },
  {
   "cell_type": "code",
   "execution_count": null,
   "id": "c1760e7d",
   "metadata": {},
   "outputs": [],
   "source": [
    "with open(\"one.txt\", \"r\") as fa:\n",
    "    stra = fa.read()\n",
    "stra"
   ]
  },
  {
   "cell_type": "code",
   "execution_count": null,
   "id": "a29d1c5a",
   "metadata": {},
   "outputs": [],
   "source": [
    "# for any number of any length\n",
    "pat = \"\\d+\"\n",
    "res = re.findall(pat, stra)\n",
    "print(res)"
   ]
  },
  {
   "cell_type": "code",
   "execution_count": null,
   "id": "b3e84f5c",
   "metadata": {},
   "outputs": [],
   "source": [
    "# for any 3 digit number\n",
    "pat = \"\\d{3}\"\n",
    "res = re.findall(pat, stra)\n",
    "print(res)"
   ]
  },
  {
   "cell_type": "code",
   "execution_count": null,
   "id": "250f17c4",
   "metadata": {},
   "outputs": [],
   "source": [
    "# for any 3 digit to any number of digits\n",
    "pat = \"\\d{3,}\"\n",
    "res = re.findall(pat, stra)\n",
    "print(res)"
   ]
  },
  {
   "cell_type": "code",
   "execution_count": null,
   "id": "64ee71dd",
   "metadata": {},
   "outputs": [],
   "source": [
    "with open(\"two.txt\", \"r\") as fb:\n",
    "    strb = fb.read()"
   ]
  },
  {
   "cell_type": "code",
   "execution_count": null,
   "id": "337924dc",
   "metadata": {},
   "outputs": [],
   "source": [
    "strb"
   ]
  },
  {
   "cell_type": "code",
   "execution_count": null,
   "id": "d072ac6c",
   "metadata": {},
   "outputs": [],
   "source": [
    "pat = \",\"\n",
    "res = re.split(pat, strb)\n",
    "print(res)"
   ]
  },
  {
   "cell_type": "code",
   "execution_count": null,
   "id": "57931c38",
   "metadata": {},
   "outputs": [],
   "source": [
    "pat = \":\"\n",
    "res = re.split(pat, strb)\n",
    "print(res)"
   ]
  },
  {
   "cell_type": "code",
   "execution_count": null,
   "id": "45ae17e3",
   "metadata": {},
   "outputs": [],
   "source": [
    "# replace all the numbers with #\n",
    "pat = \"\\d+\"\n",
    "rep = \"#\"\n",
    "res = re.sub(pat, rep, stra)\n",
    "print(res)"
   ]
  },
  {
   "cell_type": "code",
   "execution_count": 1,
   "id": "d13a8fb8",
   "metadata": {},
   "outputs": [
    {
     "data": {
      "text/plain": [
       "<re.Match object; span=(0, 3), match='123'>"
      ]
     },
     "execution_count": 1,
     "metadata": {},
     "output_type": "execute_result"
    }
   ],
   "source": [
    "import re\n",
    "re.match(\"123\",\"123xyz\")"
   ]
  },
  {
   "cell_type": "code",
   "execution_count": 2,
   "id": "6d138e6a",
   "metadata": {},
   "outputs": [
    {
     "data": {
      "text/plain": [
       "<re.Match object; span=(3, 6), match='123'>"
      ]
     },
     "execution_count": 2,
     "metadata": {},
     "output_type": "execute_result"
    }
   ],
   "source": [
    "re.search(\"123\",\"abc123xyz\")"
   ]
  },
  {
   "cell_type": "code",
   "execution_count": 3,
   "id": "ba000fd2",
   "metadata": {},
   "outputs": [
    {
     "data": {
      "text/plain": [
       "'abc num xyz num'"
      ]
     },
     "execution_count": 3,
     "metadata": {},
     "output_type": "execute_result"
    }
   ],
   "source": [
    "re.sub(\"\\d+\",\"num\",\"abc 123 xyz 456\")"
   ]
  },
  {
   "cell_type": "code",
   "execution_count": 4,
   "id": "dfbd57d7",
   "metadata": {},
   "outputs": [
    {
     "data": {
      "text/plain": [
       "['123', '456']"
      ]
     },
     "execution_count": 4,
     "metadata": {},
     "output_type": "execute_result"
    }
   ],
   "source": [
    "re.findall(\"\\d+\",\"abc 123 xyz 456\")"
   ]
  },
  {
   "cell_type": "code",
   "execution_count": 5,
   "id": "fe633394",
   "metadata": {},
   "outputs": [
    {
     "name": "stdout",
     "output_type": "stream",
     "text": [
      "['cat']\n"
     ]
    }
   ],
   "source": [
    "text = \"The cat sat on the mat.\"\n",
    "pattern = r\"ca.\"\n",
    "matches = re.findall(pattern,text)\n",
    "print(matches)"
   ]
  },
  {
   "cell_type": "code",
   "execution_count": 7,
   "id": "ba1f55ea",
   "metadata": {},
   "outputs": [
    {
     "name": "stdout",
     "output_type": "stream",
     "text": [
      "['123-456-7890']\n"
     ]
    }
   ],
   "source": [
    "text = \"The phone number is 123-456-7890\"\n",
    "pattern = r\"\\d{3}-\\d{3}-\\d{4}\"\n",
    "matches = re.findall(pattern, text)\n",
    "print(matches)"
   ]
  },
  {
   "cell_type": "code",
   "execution_count": null,
   "id": "d9e24df9",
   "metadata": {},
   "outputs": [],
   "source": []
  }
 ],
 "metadata": {
  "kernelspec": {
   "display_name": "Python 3 (ipykernel)",
   "language": "python",
   "name": "python3"
  },
  "language_info": {
   "codemirror_mode": {
    "name": "ipython",
    "version": 3
   },
   "file_extension": ".py",
   "mimetype": "text/x-python",
   "name": "python",
   "nbconvert_exporter": "python",
   "pygments_lexer": "ipython3",
   "version": "3.10.9"
  }
 },
 "nbformat": 4,
 "nbformat_minor": 5
}
