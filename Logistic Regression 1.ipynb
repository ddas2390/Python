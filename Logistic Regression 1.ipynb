{
 "cells": [
  {
   "cell_type": "markdown",
   "id": "e379199a",
   "metadata": {},
   "source": [
    "# Logit and Sigmoid"
   ]
  },
  {
   "cell_type": "markdown",
   "id": "d3fa193d",
   "metadata": {},
   "source": [
    "In this exercise, you will learn how to calculate the Sigmoid value for a given input. Logistic regression uses the sigmoid function to convert any real value (-infinity, infinity) into a probability range [0,1]."
   ]
  },
  {
   "cell_type": "code",
   "execution_count": 1,
   "id": "d3449011",
   "metadata": {},
   "outputs": [],
   "source": [
    "import numpy as np"
   ]
  },
  {
   "cell_type": "code",
   "execution_count": 2,
   "id": "edf1a8f1",
   "metadata": {},
   "outputs": [
    {
     "data": {
      "text/plain": [
       "array([-1.25459881,  4.50714306,  2.31993942,  0.98658484, -3.4398136 ,\n",
       "       -3.4400548 , -4.41916388,  3.66176146,  1.01115012,  2.08072578])"
      ]
     },
     "execution_count": 2,
     "metadata": {},
     "output_type": "execute_result"
    }
   ],
   "source": [
    "np.random.seed(42)\n",
    "real_values = np.random.uniform(-5, 5, size=(10))\n",
    "real_values"
   ]
  },
  {
   "cell_type": "code",
   "execution_count": 3,
   "id": "4d94df53",
   "metadata": {},
   "outputs": [],
   "source": [
    "def sigmoid(value):\n",
    "    return 1 / (1 + np.exp(-1*value))"
   ]
  },
  {
   "cell_type": "code",
   "execution_count": 4,
   "id": "90d5fcd5",
   "metadata": {},
   "outputs": [],
   "source": [
    "sigmoid_values = [sigmoid(value) for value in real_values]"
   ]
  },
  {
   "cell_type": "code",
   "execution_count": 6,
   "id": "0a3e4147",
   "metadata": {},
   "outputs": [
    {
     "name": "stdout",
     "output_type": "stream",
     "text": [
      "Input: -1.254598811526375  --   Sigmoid Function Output: 0.2219050778382128\n",
      "Input: 4.507143064099161  --   Sigmoid Function Output: 0.9890904050365573\n",
      "Input: 2.3199394181140507  --   Sigmoid Function Output: 0.91051500473277\n",
      "Input: 0.986584841970366  --   Sigmoid Function Output: 0.7284128371823804\n",
      "Input: -3.439813595575635  --   Sigmoid Function Output: 0.031074096026092592\n",
      "Input: -3.4400547966379733  --   Sigmoid Function Output: 0.031066834646068235\n",
      "Input: -4.419163878318005  --   Sigmoid Function Output: 0.011900959861102338\n",
      "Input: 3.6617614577493516  --   Sigmoid Function Output: 0.9749560828670121\n",
      "Input: 1.0111501174320878  --   Sigmoid Function Output: 0.7332451687419108\n",
      "Input: 2.0807257779604544  --   Sigmoid Function Output: 0.8890156637080954\n"
     ]
    }
   ],
   "source": [
    "for value, sig in zip(real_values, sigmoid_values):\n",
    "    print('Input: ' + str(value) + '  --  ', 'Sigmoid Function Output: ' + str(sig))"
   ]
  },
  {
   "cell_type": "code",
   "execution_count": null,
   "id": "cdf63a3d",
   "metadata": {},
   "outputs": [],
   "source": []
  }
 ],
 "metadata": {
  "kernelspec": {
   "display_name": "Python 3 (ipykernel)",
   "language": "python",
   "name": "python3"
  },
  "language_info": {
   "codemirror_mode": {
    "name": "ipython",
    "version": 3
   },
   "file_extension": ".py",
   "mimetype": "text/x-python",
   "name": "python",
   "nbconvert_exporter": "python",
   "pygments_lexer": "ipython3",
   "version": "3.10.9"
  }
 },
 "nbformat": 4,
 "nbformat_minor": 5
}
