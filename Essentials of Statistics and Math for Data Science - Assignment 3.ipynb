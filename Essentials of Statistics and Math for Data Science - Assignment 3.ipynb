{
 "cells": [
  {
   "cell_type": "markdown",
   "id": "325b3fa8",
   "metadata": {},
   "source": [
    "## Essentials of Statistics and Math for Data Science - Assignment 3\n",
    "Questions 1: A biologist wants to study the relationship between the size of a plant and its growth rate. They have collected data on the size and growth rate of 50 plants and want to use least squares regression to estimate the relationship between these variables. what is the 95% confidence interval for the slope of the regression line?\n",
    "solve it.\n",
    "Size (x):\n",
    "[10, 12, 14, 16, 18, 20, 22, 24, 26, 28, 30, 32, 34, 36, 38, 40, 42, 44, 46, 48, 50, 52, 54, 56, 58, 60, 62, 64, 66, 68, 70, 72, 74, 76, 78, 80, 82, 84, 86, 88, 90, 92, 94, 96, 98, 100, 102, 104, 106, 108]\n",
    "Growth rate (y):\n",
    "[6.8, 8.148,9.496,10.844 , 12.192 ,13.540 , 14.888 , 16.236 , 17.584 , 18.932 ,  20.280 , 21.628 , 22.976 , 24.324 , 25.672 , 27.020 , 28.368 , 29.716 , 31.064 , 32.412 , 33.760 , 35.108 , 36.456 , 37.804 , 39.152 , 40.5 , 41.848 , 43.196 , 44.544 , 45.892 , 47.240 , 48.588 , 49.936 , 51.284 , 52.632 , 53.980 , 55.328 , 56.676 , 58.024 , 59.372 , 60.720 , 62.068 , 63.416 ,  64.764 , 66.112 , 67.460 , 68.808 , 70.156 , 71.504 , 72.852 ]"
   ]
  },
  {
   "cell_type": "code",
   "execution_count": 38,
   "id": "44fe45d6",
   "metadata": {},
   "outputs": [],
   "source": [
    "# Import required libraries\n",
    "import numpy as np\n",
    "import statsmodels.api as sm\n",
    "import pandas as pd"
   ]
  },
  {
   "cell_type": "code",
   "execution_count": 39,
   "id": "d2a16a84",
   "metadata": {},
   "outputs": [],
   "source": [
    "# Data: Size (x) and Growth rate (y)\n",
    "x = np.array([10, 12, 14, 16, 18, 20, 22, 24, 26, 28, 30, 32, 34, 36, 38, 40, 42, 44, 46, 48, 50, 52, 54, 56, 58, 60, 62, 64, 66, 68, 70, 72, 74, 76, 78, 80, 82, 84, 86, 88, 90, 92, 94, 96, 98, 100, 102, 104, 106, 108])\n",
    "y = np.array([6.8, 8.148, 9.496, 10.844, 12.192, 13.540, 14.888, 16.236, 17.584, 18.932, 20.280, 21.628, 22.976, 24.324, 25.672, 27.020, 28.368, 29.716, 31.064, 32.412, 33.760, 35.108, 36.456, 37.804, 39.152, 40.5, 41.848, 43.196, 44.544, 45.892, 47.240, 48.588, 49.936, 51.284, 52.632, 53.980, 55.328, 56.676, 58.024, 59.372, 60.720, 62.068, 63.416, 64.764, 66.112, 67.460, 68.808, 70.156, 71.504, 72.852])"
   ]
  },
  {
   "cell_type": "code",
   "execution_count": 40,
   "id": "64bc0521",
   "metadata": {},
   "outputs": [],
   "source": [
    "# Add a constant to the independent variable matrix (intercept)\n",
    "X = sm.add_constant(x)"
   ]
  },
  {
   "cell_type": "code",
   "execution_count": 41,
   "id": "10a14271",
   "metadata": {},
   "outputs": [],
   "source": [
    "# Fit the model\n",
    "model = sm.OLS(y, X).fit()"
   ]
  },
  {
   "cell_type": "code",
   "execution_count": 42,
   "id": "e3d20aa4",
   "metadata": {},
   "outputs": [],
   "source": [
    "# Get the summary\n",
    "summary = model.summary()"
   ]
  },
  {
   "cell_type": "code",
   "execution_count": 43,
   "id": "fc654eff",
   "metadata": {},
   "outputs": [],
   "source": [
    "# Extract the 95% confidence interval for the slope\n",
    "conf_int = model.conf_int(alpha=0.05)"
   ]
  },
  {
   "cell_type": "code",
   "execution_count": 44,
   "id": "4d13c159",
   "metadata": {},
   "outputs": [
    {
     "name": "stdout",
     "output_type": "stream",
     "text": [
      "Model Summary:\n",
      "                             OLS Regression Results                            \n",
      "==============================================================================\n",
      "Dep. Variable:                      y   R-squared:                       1.000\n",
      "Model:                            OLS   Adj. R-squared:                  1.000\n",
      "Method:                 Least Squares   F-statistic:                 5.674e+32\n",
      "Date:                Sat, 27 Jul 2024   Prob (F-statistic):               0.00\n",
      "Time:                        14:49:16   Log-Likelihood:                 1569.3\n",
      "No. Observations:                  50   AIC:                            -3135.\n",
      "Df Residuals:                      48   BIC:                            -3131.\n",
      "Df Model:                           1                                         \n",
      "Covariance Type:            nonrobust                                         \n",
      "==============================================================================\n",
      "                 coef    std err          t      P>|t|      [0.025      0.975]\n",
      "------------------------------------------------------------------------------\n",
      "const          0.0600   1.86e-15   3.23e+13      0.000       0.060       0.060\n",
      "x1             0.6740   2.83e-17   2.38e+16      0.000       0.674       0.674\n",
      "==============================================================================\n",
      "Omnibus:                       12.652   Durbin-Watson:                   0.669\n",
      "Prob(Omnibus):                  0.002   Jarque-Bera (JB):               13.495\n",
      "Skew:                          -1.028   Prob(JB):                      0.00117\n",
      "Kurtosis:                       4.499   Cond. No.                         149.\n",
      "==============================================================================\n",
      "\n",
      "Notes:\n",
      "[1] Standard Errors assume that the covariance matrix of the errors is correctly specified.\n",
      "\n",
      "95% Confidence Interval for the Slope:\n",
      " [[0.06  0.06 ]\n",
      " [0.674 0.674]]\n"
     ]
    }
   ],
   "source": [
    "# Output the results\n",
    "print(\"Model Summary:\\n\", summary)\n",
    "print(\"\\n95% Confidence Interval for the Slope:\\n\", conf_int)"
   ]
  },
  {
   "cell_type": "markdown",
   "id": "15d514c8",
   "metadata": {},
   "source": [
    "#### Questions 2: Suppose we want to test whether the mean height of students in a particular school is different from 168 cm. We collect a random sample of 25 students from the school and measure their heights. The sample mean height is 170 cm and the sample standard deviation is 5 cm. Conduct a hypothesis test at the 5% significance level to determine whether there is evidence to suggest that the mean height of students in the school is different from 168 cm."
   ]
  },
  {
   "cell_type": "code",
   "execution_count": 9,
   "id": "f35bc892",
   "metadata": {},
   "outputs": [],
   "source": [
    "import scipy.stats as stats\n",
    "\n",
    "sample_mean = 170\n",
    "population_mean = 168\n",
    "sample_std_dev = 5\n",
    "sample_size = 25"
   ]
  },
  {
   "cell_type": "code",
   "execution_count": 10,
   "id": "fc637565",
   "metadata": {},
   "outputs": [],
   "source": [
    "# Calculate the test statistic (t)\n",
    "t_statistic = (sample_mean - population_mean) / (sample_std_dev / (sample_size ** 0.5))"
   ]
  },
  {
   "cell_type": "code",
   "execution_count": 11,
   "id": "7acaba38",
   "metadata": {},
   "outputs": [],
   "source": [
    "# Calculate the critical value for a two-tailed test\n",
    "alpha = 0.05\n",
    "df = sample_size - 1\n",
    "critical_value = stats.t.ppf(1 - alpha / 2, df)"
   ]
  },
  {
   "cell_type": "code",
   "execution_count": 12,
   "id": "90a0d8b7",
   "metadata": {},
   "outputs": [],
   "source": [
    "# Calculate the p-value\n",
    "p_value = 2 * (1 - stats.t.cdf(abs(t_statistic), df))"
   ]
  },
  {
   "cell_type": "code",
   "execution_count": 13,
   "id": "5bf08883",
   "metadata": {},
   "outputs": [
    {
     "name": "stdout",
     "output_type": "stream",
     "text": [
      "Test Statistic (t): 2.0\n",
      "Critical Value (t) for 5% significance level: 2.0638985616280205\n",
      "p-value: 0.056939849936591624\n"
     ]
    }
   ],
   "source": [
    "# Output the results\n",
    "print(\"Test Statistic (t):\", t_statistic)\n",
    "print(\"Critical Value (t) for 5% significance level:\", critical_value)\n",
    "print(\"p-value:\", p_value)"
   ]
  },
  {
   "cell_type": "code",
   "execution_count": 14,
   "id": "70ba185d",
   "metadata": {},
   "outputs": [
    {
     "name": "stdout",
     "output_type": "stream",
     "text": [
      "Fail to reject the null hypothesis: There is not enough evidence to suggest that the mean height is different from 168 cm.\n"
     ]
    }
   ],
   "source": [
    "# Decision\n",
    "if abs(t_statistic) > critical_value:\n",
    "    print(\"Reject the null hypothesis: There is evidence to suggest that the mean height is different from 168 cm.\")\n",
    "else:\n",
    "    print(\"Fail to reject the null hypothesis: There is not enough evidence to suggest that the mean height is different from 168 cm.\")"
   ]
  },
  {
   "cell_type": "markdown",
   "id": "98ec98a4",
   "metadata": {},
   "source": [
    "#### Questions 3: A hospital has developed a diagnostic test to detect a certain disease. The test has been found to have a false positive rate of 5%, meaning that 5% of people who do not have the disease will test positive for it. Similarly, the test has a false negative rate of 2%, meaning that 2% of people who do have the disease will test negative for it. If the disease has a prevalence rate of 2% in the population, what is the probability that a patient who tests positive has the disease?"
   ]
  },
  {
   "cell_type": "code",
   "execution_count": 16,
   "id": "40851db7",
   "metadata": {},
   "outputs": [],
   "source": [
    "false_positive_rate = 0.05\n",
    "false_negative_rate = 0.02\n",
    "prevalence_rate = 0.02"
   ]
  },
  {
   "cell_type": "code",
   "execution_count": 17,
   "id": "bf62fe59",
   "metadata": {},
   "outputs": [],
   "source": [
    "# True Positive Rate\n",
    "true_positive_rate = 1 - false_negative_rate"
   ]
  },
  {
   "cell_type": "code",
   "execution_count": 18,
   "id": "8b4c0a3a",
   "metadata": {},
   "outputs": [],
   "source": [
    "# Probability of Testing Positive\n",
    "prob_positive_test = (true_positive_rate * prevalence_rate) + (false_positive_rate * (1 - prevalence_rate))"
   ]
  },
  {
   "cell_type": "code",
   "execution_count": 19,
   "id": "72cb17fd",
   "metadata": {},
   "outputs": [
    {
     "data": {
      "text/plain": [
       "0.28571428571428575"
      ]
     },
     "execution_count": 19,
     "metadata": {},
     "output_type": "execute_result"
    }
   ],
   "source": [
    "# Probability of Disease Given Positive Test\n",
    "prob_disease_given_positive = (true_positive_rate * prevalence_rate) / prob_positive_test\n",
    "\n",
    "prob_disease_given_positive"
   ]
  },
  {
   "cell_type": "markdown",
   "id": "d3080bdc",
   "metadata": {},
   "source": [
    "#### Questions 4: A car rental company claims that the average fuel efficiency of its fleet of cars is 30 miles per gallon (mpg). To test this claim, a random sample of 25 cars from the fleet is selected, and their fuel efficiencies are recorded. The sample has a mean fuel efficiency of 28.5 mpg with a standard deviation of 3.2 mpg. Test the company's claim using a significance level of 0.05."
   ]
  },
  {
   "cell_type": "code",
   "execution_count": 20,
   "id": "e0dad317",
   "metadata": {},
   "outputs": [],
   "source": [
    "import scipy.stats as stats\n",
    "import numpy as np\n",
    "\n",
    "sample_mean = 28.5\n",
    "population_mean = 30\n",
    "sample_std = 3.2\n",
    "sample_size = 25\n",
    "alpha = 0.05"
   ]
  },
  {
   "cell_type": "code",
   "execution_count": 26,
   "id": "a6618b7d",
   "metadata": {},
   "outputs": [
    {
     "data": {
      "text/plain": [
       "-2.34375"
      ]
     },
     "execution_count": 26,
     "metadata": {},
     "output_type": "execute_result"
    }
   ],
   "source": [
    "# Calculate the test statistic\n",
    "t_statistic = (sample_mean - population_mean) / (sample_std / np.sqrt(sample_size))\n",
    "t_statistic"
   ]
  },
  {
   "cell_type": "code",
   "execution_count": 27,
   "id": "9ed36eac",
   "metadata": {},
   "outputs": [
    {
     "data": {
      "text/plain": [
       "24"
      ]
     },
     "execution_count": 27,
     "metadata": {},
     "output_type": "execute_result"
    }
   ],
   "source": [
    "# Degrees of freedom\n",
    "df = sample_size - 1\n",
    "df"
   ]
  },
  {
   "cell_type": "code",
   "execution_count": 28,
   "id": "30944c5b",
   "metadata": {},
   "outputs": [
    {
     "data": {
      "text/plain": [
       "2.0638985616280205"
      ]
     },
     "execution_count": 28,
     "metadata": {},
     "output_type": "execute_result"
    }
   ],
   "source": [
    "# Critical t-value for two-tailed test\n",
    "t_critical = stats.t.ppf(1 - alpha / 2, df)\n",
    "t_critical"
   ]
  },
  {
   "cell_type": "code",
   "execution_count": 29,
   "id": "0e8a18bc",
   "metadata": {},
   "outputs": [
    {
     "data": {
      "text/plain": [
       "0.027705144868591436"
      ]
     },
     "execution_count": 29,
     "metadata": {},
     "output_type": "execute_result"
    }
   ],
   "source": [
    "# Calculate the p-value\n",
    "p_value = 2 * (1 - stats.t.cdf(np.abs(t_statistic), df))\n",
    "p_value"
   ]
  },
  {
   "cell_type": "code",
   "execution_count": 31,
   "id": "fce18444",
   "metadata": {},
   "outputs": [
    {
     "data": {
      "text/plain": [
       "(-2.34375, 2.0638985616280205, 0.027705144868591436)"
      ]
     },
     "execution_count": 31,
     "metadata": {},
     "output_type": "execute_result"
    }
   ],
   "source": [
    "t_statistic, t_critical, p_value"
   ]
  },
  {
   "cell_type": "markdown",
   "id": "066c3955",
   "metadata": {},
   "source": [
    "Conclusion:\n",
    "\n",
    "The calculated test statistic is -2.34, which is less than t_critical -2.064.\n",
    "The p-value is 0.0277, which is less than 0.05.\n",
    "Therefore, we reject the null hypothesis. There is sufficient evidence at the 5% significance level to conclude that the average fuel efficiency of the fleet is different from 30 mpg."
   ]
  },
  {
   "cell_type": "markdown",
   "id": "b69ee6a1",
   "metadata": {},
   "source": [
    "#### Questions 5: A company wants to determine if there is a significant difference in the mean annual salaries of its employees between two departments: Department A and Department B. A random sample of 30 employees from Department A has a mean annual salary of $55,000 with a standard deviation of $5,000, while a random sample of 35 employees from Department B has a mean annual salary of $57,000 with a standard deviation of $4,500. Test the hypothesis using a significance level of 0.01."
   ]
  },
  {
   "cell_type": "markdown",
   "id": "13b500c0",
   "metadata": {},
   "source": [
    "To determine if there is a significant difference in the mean annual salaries between Department A and Department B, we will conduct a two-sample t-test. This test compares the means of two independent samples to see if there is a statistically significant difference between them.\n",
    "\n",
    "Null Hypothesis (H₀): There is no significant difference in the mean salaries of employees between the two departments.\n",
    " \n",
    "Alternative Hypothesis (H₁): There is a significant difference in the mean salaries of employees between the two departments."
   ]
  },
  {
   "cell_type": "code",
   "execution_count": 32,
   "id": "69f11b1e",
   "metadata": {},
   "outputs": [],
   "source": [
    "# Department A\n",
    "mean_A = 55000\n",
    "std_A = 5000\n",
    "n_A = 30\n",
    "\n",
    "# Given values for Department B\n",
    "mean_B = 57000\n",
    "std_B = 4500\n",
    "n_B = 35"
   ]
  },
  {
   "cell_type": "code",
   "execution_count": 33,
   "id": "b7b4bd53",
   "metadata": {},
   "outputs": [],
   "source": [
    "# Calculate the test statistic\n",
    "t_statistic = (mean_A - mean_B) / np.sqrt((std_A**2 / n_A) + (std_B**2 / n_B))"
   ]
  },
  {
   "cell_type": "code",
   "execution_count": 34,
   "id": "2cf43fcc",
   "metadata": {},
   "outputs": [],
   "source": [
    "# Calculate degrees of freedom using the formula for unequal variances\n",
    "df_numerator = ((std_A**2 / n_A) + (std_B**2 / n_B))**2\n",
    "df_denominator = ((std_A**2 / n_A)**2 / (n_A - 1)) + ((std_B**2 / n_B)**2 / (n_B - 1))\n",
    "df = df_numerator / df_denominator"
   ]
  },
  {
   "cell_type": "code",
   "execution_count": 35,
   "id": "c5a56ca7",
   "metadata": {},
   "outputs": [],
   "source": [
    "# Calculate the critical t-value for a two-tailed test\n",
    "t_critical = stats.t.ppf(1 - 0.01 / 2, df)"
   ]
  },
  {
   "cell_type": "code",
   "execution_count": 36,
   "id": "7381524f",
   "metadata": {},
   "outputs": [],
   "source": [
    "# Calculate the p-value\n",
    "p_value = 2 * (1 - stats.t.cdf(np.abs(t_statistic), df))"
   ]
  },
  {
   "cell_type": "code",
   "execution_count": 37,
   "id": "875a66e2",
   "metadata": {},
   "outputs": [
    {
     "data": {
      "text/plain": [
       "(-1.6831673346877503, 2.661769465401159, 0.09762827207415348)"
      ]
     },
     "execution_count": 37,
     "metadata": {},
     "output_type": "execute_result"
    }
   ],
   "source": [
    "t_statistic, t_critical, p_value"
   ]
  },
  {
   "cell_type": "markdown",
   "id": "e3e834df",
   "metadata": {},
   "source": [
    "Results\n",
    "Test Statistic (t): -1.68\n",
    "Critical t-Value (t₀.₀₁): 2.66\n",
    "P-Value: 0.097\n",
    "\n",
    "Conclusion:\n",
    "\n",
    "Since the absolute value of the test statistic -1.68 is less than the critical value  2.66 or since the p-value 0.097 is greater than 0.01, we do not reject the null hypothesis.\n",
    "Based on these calculations, there is no significant difference in the mean salaries of employees between the two departments."
   ]
  },
  {
   "cell_type": "code",
   "execution_count": null,
   "id": "c906baba",
   "metadata": {},
   "outputs": [],
   "source": []
  }
 ],
 "metadata": {
  "kernelspec": {
   "display_name": "Python 3 (ipykernel)",
   "language": "python",
   "name": "python3"
  },
  "language_info": {
   "codemirror_mode": {
    "name": "ipython",
    "version": 3
   },
   "file_extension": ".py",
   "mimetype": "text/x-python",
   "name": "python",
   "nbconvert_exporter": "python",
   "pygments_lexer": "ipython3",
   "version": "3.10.9"
  }
 },
 "nbformat": 4,
 "nbformat_minor": 5
}
